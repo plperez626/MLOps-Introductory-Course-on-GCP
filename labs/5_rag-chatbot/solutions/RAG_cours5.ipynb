{
 "cells": [
  {
   "cell_type": "markdown",
   "id": "375d69f8-4a4b-4c30-835b-752163688600",
   "metadata": {},
   "source": [
    "## RAG"
   ]
  },
  {
   "cell_type": "markdown",
   "id": "2c29c372-e641-4c31-b344-73484a58595a",
   "metadata": {},
   "source": [
    "recap explications"
   ]
  },
  {
   "cell_type": "markdown",
   "id": "2cc43217-d205-4406-9c65-2f9570c7f0cf",
   "metadata": {},
   "source": [
    "recap explications"
   ]
  },
  {
   "cell_type": "code",
   "execution_count": null,
   "id": "a2151dc1-fe43-46f1-95ee-b7866ee2e85e",
   "metadata": {},
   "outputs": [],
   "source": [
    "from vertexai.preview import rag\n",
    "from vertexai.preview.generative_models import GenerativeModel, Tool\n",
    "import vertexai"
   ]
  },
  {
   "cell_type": "code",
   "execution_count": null,
   "id": "ac0126fa-3afe-46a5-b32c-d78be0e9f161",
   "metadata": {},
   "outputs": [],
   "source": [
    "PROJECT_ID = \"deft-bonsai-448411-s8\"\n",
    "display_name = \"test_corpus\"\n",
    "paths = [\"gs://bucker_rag_cours_5\"]\n",
    "# paths = [\"https://drive.google.com/file/d/123\", \"gs://my_bucket/my_files_dir\"]  # Supports Google Cloud Storage and Google Drive Links"
   ]
  },
  {
   "cell_type": "code",
   "execution_count": null,
   "id": "e7ad6830-17f1-4b35-82b5-1f75910645c0",
   "metadata": {},
   "outputs": [],
   "source": [
    "# Initialize Vertex AI API once per session, Vertex AI RAG Engine ne fonctionne que us-central1 ou europe-west3\n",
    "vertexai.init(project=PROJECT_ID, location=\"europe-west3\")"
   ]
  },
  {
   "cell_type": "code",
   "execution_count": null,
   "id": "02f28cca-f897-4d86-8f82-c86a0aa985b1",
   "metadata": {},
   "outputs": [],
   "source": [
    "# Create RagCorpus\n",
    "# Configure embedding model, for example \"text-embedding-004\".\n",
    "embedding_model_config = rag.EmbeddingModelConfig(\n",
    "    publisher_model=\"publishers/google/models/text-embedding-004\"\n",
    ")\n",
    "\n",
    "rag_corpus = rag.create_corpus(\n",
    "    display_name=display_name,\n",
    "    embedding_model_config=embedding_model_config,\n",
    ")"
   ]
  },
  {
   "cell_type": "code",
   "execution_count": null,
   "id": "39a680d8-633e-4aa2-88b5-8e201d6336e6",
   "metadata": {},
   "outputs": [],
   "source": [
    "# Import Files to the RagCorpus\n",
    "response = rag.import_files(\n",
    "    rag_corpus.name,\n",
    "    paths,\n",
    "    chunk_size=512,  # Optional\n",
    "    chunk_overlap=100,  # Optional\n",
    "    max_embedding_requests_per_min=900,  # Optional\n",
    ")\n"
   ]
  },
  {
   "cell_type": "code",
   "execution_count": null,
   "id": "eaa40f3d-c658-4b6f-8202-cd573403ff78",
   "metadata": {},
   "outputs": [],
   "source": [
    "# Direct context retrieval\n",
    "response = rag.retrieval_query(\n",
    "    rag_resources=[\n",
    "        rag.RagResource(\n",
    "            rag_corpus=rag_corpus.name,\n",
    "            # Optional: supply IDs from `rag.list_files()`.\n",
    "            # rag_file_ids=[\"rag-file-1\", \"rag-file-2\", ...],\n",
    "        )\n",
    "    ],\n",
    "    text=\"Qui sont le personnage principal ?\",\n",
    "    similarity_top_k=10,  # Optional\n",
    "    vector_distance_threshold=0.5,  # Optional\n",
    ")\n",
    "print(response)"
   ]
  },
  {
   "cell_type": "code",
   "execution_count": null,
   "id": "aa8434a5-422d-4a82-8417-df1768c815b8",
   "metadata": {},
   "outputs": [],
   "source": [
    "# Enhance generation\n",
    "# Create a RAG retrieval tool\n",
    "rag_retrieval_tool = Tool.from_retrieval(\n",
    "    retrieval=rag.Retrieval(\n",
    "        source=rag.VertexRagStore(\n",
    "            rag_resources=[\n",
    "                rag.RagResource(\n",
    "                    rag_corpus=rag_corpus.name,  # Currently only 1 corpus is allowed.\n",
    "                    # Optional: supply IDs from `rag.list_files()`.\n",
    "                    # rag_file_ids=[\"rag-file-1\", \"rag-file-2\", ...],\n",
    "                )\n",
    "            ],\n",
    "            similarity_top_k=3,  # Optional\n",
    "            vector_distance_threshold=0.5,  # Optional\n",
    "        ),\n",
    "    )\n",
    ")"
   ]
  },
  {
   "cell_type": "code",
   "execution_count": null,
   "id": "31abe50c-981d-4e8c-9c9e-ab7d7de7da62",
   "metadata": {},
   "outputs": [],
   "source": [
    "# Create a gemini-pro model instance\n",
    "rag_model = GenerativeModel(\n",
    "    model_name=\"gemini-1.5-flash-001\", tools=[rag_retrieval_tool]\n",
    ")"
   ]
  },
  {
   "cell_type": "code",
   "execution_count": null,
   "id": "b2208190-0f4f-4eb4-938e-8b69af2486e6",
   "metadata": {},
   "outputs": [],
   "source": [
    "# Generate response\n",
    "response = rag_model.generate_content(\"Quelle est la première fable du livre ?\")\n",
    "print(response.text)"
   ]
  }
 ],
 "metadata": {
  "environment": {
   "kernel": "conda-base-py",
   "name": "workbench-notebooks.m127",
   "type": "gcloud",
   "uri": "us-docker.pkg.dev/deeplearning-platform-release/gcr.io/workbench-notebooks:m127"
  },
  "kernelspec": {
   "display_name": "Python 3 (ipykernel) (Local)",
   "language": "python",
   "name": "conda-base-py"
  },
  "language_info": {
   "codemirror_mode": {
    "name": "ipython",
    "version": 3
   },
   "file_extension": ".py",
   "mimetype": "text/x-python",
   "name": "python",
   "nbconvert_exporter": "python",
   "pygments_lexer": "ipython3",
   "version": "3.10.16"
  }
 },
 "nbformat": 4,
 "nbformat_minor": 5
}
