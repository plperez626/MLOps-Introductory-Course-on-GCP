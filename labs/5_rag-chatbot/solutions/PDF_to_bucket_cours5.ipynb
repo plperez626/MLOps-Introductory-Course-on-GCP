{
 "cells": [
  {
   "cell_type": "markdown",
   "source": [
    "# Convert PDF to TXT, and in a fill a bucket of Cloud Storage"
   ],
   "metadata": {}
  },
  {
   "cell_type": "markdown",
   "source": [
    "## Install required librairies\r\n",
    "\r\n",
    "PyPDF => manipulate PDF\r\n",
    "\r\n",
    "google-cloud-storage => access bucket"
   ],
   "metadata": {}
  },
  {
   "cell_type": "code",
   "execution_count": 2,
   "source": [
    "!pip install PyPDF2 google-cloud-storage"
   ],
   "outputs": [
    {
     "output_type": "stream",
     "name": "stdout",
     "text": [
      "Collecting PyPDF2\n",
      "  Downloading pypdf2-3.0.1-py3-none-any.whl.metadata (6.8 kB)\n",
      "Requirement already satisfied: google-cloud-storage in /opt/conda/lib/python3.10/site-packages (2.14.0)\n",
      "Requirement already satisfied: google-auth<3.0dev,>=2.23.3 in /opt/conda/lib/python3.10/site-packages (from google-cloud-storage) (2.37.0)\n",
      "Requirement already satisfied: google-api-core!=2.0.*,!=2.1.*,!=2.2.*,!=2.3.0,<3.0.0dev,>=1.31.5 in /opt/conda/lib/python3.10/site-packages (from google-cloud-storage) (1.34.1)\n",
      "Requirement already satisfied: google-cloud-core<3.0dev,>=2.3.0 in /opt/conda/lib/python3.10/site-packages (from google-cloud-storage) (2.4.1)\n",
      "Requirement already satisfied: google-resumable-media>=2.6.0 in /opt/conda/lib/python3.10/site-packages (from google-cloud-storage) (2.7.2)\n",
      "Requirement already satisfied: requests<3.0.0dev,>=2.18.0 in /opt/conda/lib/python3.10/site-packages (from google-cloud-storage) (2.32.3)\n",
      "Requirement already satisfied: google-crc32c<2.0dev,>=1.0 in /opt/conda/lib/python3.10/site-packages (from google-cloud-storage) (1.6.0)\n",
      "Requirement already satisfied: googleapis-common-protos<2.0dev,>=1.56.2 in /opt/conda/lib/python3.10/site-packages (from google-api-core!=2.0.*,!=2.1.*,!=2.2.*,!=2.3.0,<3.0.0dev,>=1.31.5->google-cloud-storage) (1.66.0)\n",
      "Requirement already satisfied: protobuf!=3.20.0,!=3.20.1,!=4.21.0,!=4.21.1,!=4.21.2,!=4.21.3,!=4.21.4,!=4.21.5,<4.0.0dev,>=3.19.5 in /opt/conda/lib/python3.10/site-packages (from google-api-core!=2.0.*,!=2.1.*,!=2.2.*,!=2.3.0,<3.0.0dev,>=1.31.5->google-cloud-storage) (3.20.3)\n",
      "Requirement already satisfied: cachetools<6.0,>=2.0.0 in /opt/conda/lib/python3.10/site-packages (from google-auth<3.0dev,>=2.23.3->google-cloud-storage) (5.5.0)\n",
      "Requirement already satisfied: pyasn1-modules>=0.2.1 in /opt/conda/lib/python3.10/site-packages (from google-auth<3.0dev,>=2.23.3->google-cloud-storage) (0.4.1)\n",
      "Requirement already satisfied: rsa<5,>=3.1.4 in /opt/conda/lib/python3.10/site-packages (from google-auth<3.0dev,>=2.23.3->google-cloud-storage) (4.9)\n",
      "Requirement already satisfied: charset_normalizer<4,>=2 in /opt/conda/lib/python3.10/site-packages (from requests<3.0.0dev,>=2.18.0->google-cloud-storage) (3.4.0)\n",
      "Requirement already satisfied: idna<4,>=2.5 in /opt/conda/lib/python3.10/site-packages (from requests<3.0.0dev,>=2.18.0->google-cloud-storage) (3.10)\n",
      "Requirement already satisfied: urllib3<3,>=1.21.1 in /opt/conda/lib/python3.10/site-packages (from requests<3.0.0dev,>=2.18.0->google-cloud-storage) (1.26.20)\n",
      "Requirement already satisfied: certifi>=2017.4.17 in /opt/conda/lib/python3.10/site-packages (from requests<3.0.0dev,>=2.18.0->google-cloud-storage) (2024.12.14)\n",
      "Requirement already satisfied: pyasn1<0.7.0,>=0.4.6 in /opt/conda/lib/python3.10/site-packages (from pyasn1-modules>=0.2.1->google-auth<3.0dev,>=2.23.3->google-cloud-storage) (0.6.1)\n",
      "Downloading pypdf2-3.0.1-py3-none-any.whl (232 kB)\n",
      "Installing collected packages: PyPDF2\n",
      "Successfully installed PyPDF2-3.0.1\n"
     ]
    }
   ],
   "metadata": {}
  },
  {
   "cell_type": "markdown",
   "source": [
    "### Import libraries"
   ],
   "metadata": {}
  },
  {
   "cell_type": "code",
   "execution_count": 3,
   "source": [
    "from google.cloud import storage\r\n",
    "import PyPDF2\r\n",
    "import os"
   ],
   "outputs": [],
   "metadata": {}
  },
  {
   "cell_type": "markdown",
   "source": [
    "### Functions"
   ],
   "metadata": {}
  },
  {
   "cell_type": "code",
   "execution_count": 4,
   "source": [
    "# Extraire le texte d'un PDF\r\n",
    "def extract_text_from_pdf(pdf_path):\r\n",
    "    \"\"\"\r\n",
    "    Extrait le texte d'un fichier PDF.\r\n",
    "    \"\"\"\r\n",
    "    with open(pdf_path, \"rb\") as file:\r\n",
    "        reader = PyPDF2.PdfReader(file)\r\n",
    "        text = \"\"\r\n",
    "        for page in reader.pages:\r\n",
    "            text += page.extract_text()\r\n",
    "    return text"
   ],
   "outputs": [],
   "metadata": {}
  },
  {
   "cell_type": "code",
   "execution_count": 5,
   "source": [
    "# Récupérer les PDF du bucket \r\n",
    "def retrieve_pdf_files_from_source_bucket(bucket):\r\n",
    "\r\n",
    "    # Lister les PDF dans le bucket\r\n",
    "    pdf_files = [blob.name for blob in bucket.list_blobs() if blob.name.endswith(\".pdf\")]\r\n",
    "\r\n",
    "    print(\"Fichiers PDF dans le bucket :\")\r\n",
    "    for pdf_file in pdf_files:\r\n",
    "        print(pdf_file)\r\n",
    "    \r\n",
    "    return pdf_files"
   ],
   "outputs": [],
   "metadata": {}
  },
  {
   "cell_type": "code",
   "execution_count": 13,
   "source": [
    "def download_from_gcs(source_bucket, source_blob_name, destination_file_name):\r\n",
    "    \"\"\"\r\n",
    "    Télécharge un fichier depuis un bucket GCS.\r\n",
    "    \"\"\"\r\n",
    "    blob = source_bucket.blob(source_blob_name)\r\n",
    "    blob.download_to_filename(destination_file_name)\r\n",
    "    print(f\"Fichier {source_blob_name} téléchargé depuis {source_bucket}.\")"
   ],
   "outputs": [],
   "metadata": {}
  },
  {
   "cell_type": "code",
   "execution_count": 14,
   "source": [
    "def upload_to_gcs(destination_bucket, source_file_name, destination_blob_name):\r\n",
    "    \"\"\"\r\n",
    "    Téléverse un fichier dans un bucket GCS.\r\n",
    "    \"\"\"\r\n",
    "    blob = destination_bucket.blob(destination_blob_name)\r\n",
    "    blob.upload_from_filename(source_file_name)\r\n",
    "    print(f\"Fichier {source_file_name} téléversé dans {destination_bucket} sous le nom {destination_blob_name}.\")"
   ],
   "outputs": [],
   "metadata": {}
  },
  {
   "cell_type": "markdown",
   "source": [
    "### Pipeline principale\r\n",
    "\r\n",
    "Accède au bucket => Télécharger les PDF => Les convertit en txt => Téléverse dans Bucket GCS"
   ],
   "metadata": {}
  },
  {
   "cell_type": "code",
   "execution_count": 18,
   "source": [
    "def pdf_to_text_pipeline(source_bucket_name, destination_bucket_name, local_folder = \"cours5\"):\r\n",
    "    \"\"\"\r\n",
    "    Args:\r\n",
    "        source_bucket_name: Nom du bucket source contenant les PDF.\r\n",
    "        destination_bucket_name: Nom du bucket de destination pour les fichiers texte.\r\n",
    "        local_folder: Dossier temporaire pour stocker les fichiers PDF téléchargés.\r\n",
    "    \"\"\"\r\n",
    "    # Créer un dossier pour manipuler les fichiers pdf\r\n",
    "    if not os.path.exists(local_folder):\r\n",
    "        os.makedirs(local_folder)\r\n",
    "\r\n",
    "    # Initialiser le client GCS et les buckets GCS\r\n",
    "    storage_client = storage.Client()\r\n",
    "    source_bucket = storage_client.bucket(source_bucket_name)\r\n",
    "    destination_bucket = storage_client.bucket(destination_bucket_name)\r\n",
    "    \r\n",
    "    # Récupération des fichiers pdf du bucket source\r\n",
    "    pdf_files = retrieve_pdf_files_from_source_bucket(source_bucket)\r\n",
    "    \r\n",
    "    # Traiter chaque fichier PDF\r\n",
    "    for pdf_file in pdf_files:\r\n",
    "        try:\r\n",
    "            # Télécharger le PDF\r\n",
    "            local_pdf_path = os.path.join(local_folder, pdf_file)\r\n",
    "            download_from_gcs(source_bucket, pdf_file, local_pdf_path)\r\n",
    "            \r\n",
    "            # Extraire le texte du PDF\r\n",
    "            text = extract_text_from_pdf(local_pdf_path)\r\n",
    "            \r\n",
    "            # Sauvegarder le texte dans un fichier temporaire\r\n",
    "            txt_file = pdf_file.replace(\".pdf\", \".txt\")\r\n",
    "            local_txt_path = os.path.join(local_folder, txt_file)\r\n",
    "            with open(local_txt_path, \"w\") as f:\r\n",
    "                f.write(text)\r\n",
    "            \r\n",
    "            # Téléverser le fichier texte dans le bucket de destination\r\n",
    "            upload_to_gcs(destination_bucket, local_txt_path, txt_file)\r\n",
    "            \r\n",
    "            # Supprimer les fichiers temporaires du local folder\r\n",
    "            # os.remove(local_pdf_path)\r\n",
    "            # os.remove(local_txt_path)\r\n",
    "        \r\n",
    "        except Exception as e:\r\n",
    "            print(f\"Erreur lors du traitement du fichier {pdf_file} : {e}\")\r\n",
    "\r\n",
    "    print(\"Pipeline terminée avec succès.\")"
   ],
   "outputs": [],
   "metadata": {}
  },
  {
   "cell_type": "markdown",
   "source": [
    "### Variables"
   ],
   "metadata": {}
  },
  {
   "cell_type": "code",
   "execution_count": 16,
   "source": [
    "source_bucket_name = \"cours5bucket\"\r\n",
    "destination_bucket_name  = \"cours5bucket\"\r\n",
    "local_folder = \"cours5\""
   ],
   "outputs": [],
   "metadata": {}
  },
  {
   "cell_type": "markdown",
   "source": [
    "### Run pipeline"
   ],
   "metadata": {}
  },
  {
   "cell_type": "code",
   "execution_count": 19,
   "source": [
    "pdf_to_text_pipeline(source_bucket_name, destination_bucket_name, local_folder = \"cours5\")"
   ],
   "outputs": [
    {
     "output_type": "stream",
     "name": "stdout",
     "text": [
      "Fichiers PDF dans le bucket :\n",
      "deepseek-r1 paper.pdf\n",
      "Fichier deepseek-r1 paper.pdf téléchargé depuis <Bucket: cours5bucket>.\n",
      "Fichier cours5/deepseek-r1 paper.txt téléversé dans <Bucket: cours5bucket> sous le nom deepseek-r1 paper.txt.\n",
      "Pipeline terminée avec succès.\n"
     ]
    }
   ],
   "metadata": {}
  }
 ],
 "metadata": {
  "environment": {
   "kernel": "conda-base-py",
   "name": "workbench-notebooks.m127",
   "type": "gcloud",
   "uri": "us-docker.pkg.dev/deeplearning-platform-release/gcr.io/workbench-notebooks:m127"
  },
  "kernelspec": {
   "name": "python3",
   "display_name": "Python 3.9.7 64-bit ('.venv': venv)"
  },
  "language_info": {
   "codemirror_mode": {
    "name": "ipython",
    "version": 3
   },
   "file_extension": ".py",
   "mimetype": "text/x-python",
   "name": "python",
   "nbconvert_exporter": "python",
   "pygments_lexer": "ipython3",
   "version": "3.9.7"
  },
  "interpreter": {
   "hash": "e52065a9a8382feb981c0365dd0e895af600bf3bf243fe9b40786686c3186307"
  }
 },
 "nbformat": 4,
 "nbformat_minor": 5
}