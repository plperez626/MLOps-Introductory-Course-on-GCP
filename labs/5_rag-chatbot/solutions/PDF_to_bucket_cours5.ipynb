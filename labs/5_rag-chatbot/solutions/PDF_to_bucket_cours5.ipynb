{
 "cells": [
  {
   "cell_type": "markdown",
   "source": [
    "# Convertir un PDF en TXT, et le transférer dans un bucket Cloud Storage"
   ],
   "metadata": {}
  },
  {
   "cell_type": "markdown",
   "source": [
    "## Objectifs\r\n",
    "\r\n",
    "De nombreux fichiers à l'origine du RAG sont des PDFs, il faut les processer !"
   ],
   "metadata": {}
  },
  {
   "cell_type": "markdown",
   "source": [
    "On utilisera :\r\n",
    "- PyPDF => manipulate PDF\r\n",
    "- google-cloud-storage => access bucket"
   ],
   "metadata": {}
  },
  {
   "cell_type": "markdown",
   "source": [
    "### Install required librairies"
   ],
   "metadata": {}
  },
  {
   "cell_type": "code",
   "execution_count": null,
   "source": [
    "!pip install PyPDF2 google-cloud-storage"
   ],
   "outputs": [],
   "metadata": {}
  },
  {
   "cell_type": "markdown",
   "source": [
    "### Import libraries"
   ],
   "metadata": {}
  },
  {
   "cell_type": "code",
   "execution_count": null,
   "source": [
    "from google.cloud import storage\r\n",
    "import PyPDF2\r\n",
    "import os"
   ],
   "outputs": [],
   "metadata": {}
  },
  {
   "cell_type": "markdown",
   "source": [
    "### Functions"
   ],
   "metadata": {}
  },
  {
   "cell_type": "code",
   "execution_count": null,
   "source": [
    "# Extraire le texte d'un PDF\r\n",
    "def extract_text_from_pdf(pdf_path):\r\n",
    "    \"\"\"\r\n",
    "    Extrait le texte d'un fichier PDF.\r\n",
    "    \"\"\"\r\n",
    "    with open(pdf_path, \"rb\") as file:\r\n",
    "        reader = PyPDF2.PdfReader(file)\r\n",
    "        text = \"\"\r\n",
    "        for page in reader.pages:\r\n",
    "            text += page.extract_text()\r\n",
    "    return text"
   ],
   "outputs": [],
   "metadata": {}
  },
  {
   "cell_type": "code",
   "execution_count": null,
   "source": [
    "# Récupérer les PDF du bucket \r\n",
    "def retrieve_pdf_files_from_source_bucket(bucket):\r\n",
    "\r\n",
    "    # Lister les PDF dans le bucket\r\n",
    "    pdf_files = [blob.name for blob in bucket.list_blobs() if blob.name.endswith(\".pdf\")]\r\n",
    "\r\n",
    "    print(\"Fichiers PDF dans le bucket :\")\r\n",
    "    for pdf_file in pdf_files:\r\n",
    "        print(pdf_file)\r\n",
    "    \r\n",
    "    return pdf_files"
   ],
   "outputs": [],
   "metadata": {}
  },
  {
   "cell_type": "code",
   "execution_count": null,
   "source": [
    "def download_from_gcs(source_bucket, source_blob_name, destination_file_name):\r\n",
    "    \"\"\"\r\n",
    "    Télécharge un fichier depuis un bucket GCS.\r\n",
    "    \"\"\"\r\n",
    "    blob = source_bucket.blob(source_blob_name)\r\n",
    "    blob.download_to_filename(destination_file_name)\r\n",
    "    print(f\"Fichier {source_blob_name} téléchargé depuis {source_bucket}.\")"
   ],
   "outputs": [],
   "metadata": {}
  },
  {
   "cell_type": "code",
   "execution_count": null,
   "source": [
    "def upload_to_gcs(destination_bucket, source_file_name, destination_blob_name):\r\n",
    "    \"\"\"\r\n",
    "    Téléverse un fichier dans un bucket GCS.\r\n",
    "    \"\"\"\r\n",
    "    blob = destination_bucket.blob(destination_blob_name)\r\n",
    "    blob.upload_from_filename(source_file_name)\r\n",
    "    print(f\"Fichier {source_file_name} téléversé dans {destination_bucket} sous le nom {destination_blob_name}.\")"
   ],
   "outputs": [],
   "metadata": {}
  },
  {
   "cell_type": "markdown",
   "source": [
    "### Pipeline principale\r\n",
    "\r\n",
    "Accède au bucket => Télécharger les PDF => Les convertit en txt => Téléverse dans Bucket GCS"
   ],
   "metadata": {}
  },
  {
   "cell_type": "code",
   "execution_count": null,
   "source": [
    "def pdf_to_text_pipeline(source_bucket_name, destination_bucket_name, local_folder = \"cours5\"):\r\n",
    "    \"\"\"\r\n",
    "    Args:\r\n",
    "        source_bucket_name: Nom du bucket source contenant les PDF.\r\n",
    "        destination_bucket_name: Nom du bucket de destination pour les fichiers texte.\r\n",
    "        local_folder: Dossier temporaire pour stocker les fichiers PDF téléchargés.\r\n",
    "    \"\"\"\r\n",
    "    # Créer un dossier pour manipuler les fichiers pdf\r\n",
    "    if not os.path.exists(local_folder):\r\n",
    "        os.makedirs(local_folder)\r\n",
    "\r\n",
    "    # Initialiser le client GCS et les buckets GCS\r\n",
    "    storage_client = storage.Client()\r\n",
    "    source_bucket = storage_client.bucket(source_bucket_name)\r\n",
    "    destination_bucket = storage_client.bucket(destination_bucket_name)\r\n",
    "    \r\n",
    "    # Récupération des fichiers pdf du bucket source\r\n",
    "    pdf_files = retrieve_pdf_files_from_source_bucket(source_bucket)\r\n",
    "    \r\n",
    "    # Traiter chaque fichier PDF\r\n",
    "    for pdf_file in pdf_files:\r\n",
    "        try:\r\n",
    "            # Télécharger le PDF\r\n",
    "            local_pdf_path = os.path.join(local_folder, pdf_file)\r\n",
    "            download_from_gcs(source_bucket, pdf_file, local_pdf_path)\r\n",
    "            \r\n",
    "            # Extraire le texte du PDF\r\n",
    "            text = extract_text_from_pdf(local_pdf_path)\r\n",
    "            \r\n",
    "            # Sauvegarder le texte dans un fichier temporaire\r\n",
    "            txt_file = pdf_file.replace(\".pdf\", \".txt\")\r\n",
    "            local_txt_path = os.path.join(local_folder, txt_file)\r\n",
    "            with open(local_txt_path, \"w\") as f:\r\n",
    "                f.write(text)\r\n",
    "            \r\n",
    "            # Téléverser le fichier texte dans le bucket de destination\r\n",
    "            upload_to_gcs(destination_bucket, local_txt_path, txt_file)\r\n",
    "        \r\n",
    "        except Exception as e:\r\n",
    "            print(f\"Erreur lors du traitement du fichier {pdf_file} : {e}\")\r\n",
    "\r\n",
    "    print(\"Pipeline terminée avec succès.\")"
   ],
   "outputs": [],
   "metadata": {}
  },
  {
   "cell_type": "markdown",
   "source": [
    "### Variables"
   ],
   "metadata": {}
  },
  {
   "cell_type": "code",
   "execution_count": null,
   "source": [
    "source_bucket_name = \"cours5bucket\"\r\n",
    "destination_bucket_name  = \"cours5bucket\"\r\n",
    "local_folder = \"cours5\""
   ],
   "outputs": [],
   "metadata": {}
  },
  {
   "cell_type": "markdown",
   "source": [
    "### Run pipeline"
   ],
   "metadata": {}
  },
  {
   "cell_type": "code",
   "execution_count": null,
   "source": [
    "pdf_to_text_pipeline(source_bucket_name, destination_bucket_name, local_folder = \"cours5\")"
   ],
   "outputs": [],
   "metadata": {}
  }
 ],
 "metadata": {
  "environment": {
   "kernel": "conda-base-py",
   "name": "workbench-notebooks.m127",
   "type": "gcloud",
   "uri": "us-docker.pkg.dev/deeplearning-platform-release/gcr.io/workbench-notebooks:m127"
  },
  "kernelspec": {
   "name": "python3",
   "display_name": "Python 3.10.11 64-bit"
  },
  "language_info": {
   "codemirror_mode": {
    "name": "ipython",
    "version": 3
   },
   "file_extension": ".py",
   "mimetype": "text/x-python",
   "name": "python",
   "nbconvert_exporter": "python",
   "pygments_lexer": "ipython3",
   "version": "3.10.11"
  },
  "interpreter": {
   "hash": "99432052f818d30113247392634a2d7602c95033d0482a5a7cbfa95c3f23ec21"
  }
 },
 "nbformat": 4,
 "nbformat_minor": 5
}