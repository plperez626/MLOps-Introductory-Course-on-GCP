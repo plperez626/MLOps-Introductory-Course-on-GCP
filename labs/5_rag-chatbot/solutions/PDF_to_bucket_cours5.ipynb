{
 "cells": [
  {
   "cell_type": "markdown",
   "id": "3db142d2-7a59-4ec5-8d48-8c6d6df233d2",
   "metadata": {},
   "source": [
    "# Generate response\n",
    "response = rag_model.generate_content(\"Quelle est la première fable du livre ?\")\n",
    "print(response.text)"
   ]
  },
  {
   "cell_type": "markdown",
   "id": "d53ec8cc-d78a-47df-8ca7-e5bd2e688cad",
   "metadata": {},
   "source": [
    "Convert PDF file to text file"
   ]
  },
  {
   "cell_type": "markdown",
   "id": "20c15053-c39b-475a-b03e-a39f032182a2",
   "metadata": {},
   "source": [
    "Install required librairies"
   ]
  },
  {
   "cell_type": "code",
   "execution_count": 2,
   "id": "1d9245a2-6287-487d-8302-53d60d9fdd94",
   "metadata": {},
   "outputs": [
    {
     "name": "stdout",
     "output_type": "stream",
     "text": [
      "Collecting PyPDF2\n",
      "  Downloading pypdf2-3.0.1-py3-none-any.whl.metadata (6.8 kB)\n",
      "Requirement already satisfied: google-cloud-storage in /opt/conda/lib/python3.10/site-packages (2.14.0)\n",
      "Requirement already satisfied: google-auth<3.0dev,>=2.23.3 in /opt/conda/lib/python3.10/site-packages (from google-cloud-storage) (2.37.0)\n",
      "Requirement already satisfied: google-api-core!=2.0.*,!=2.1.*,!=2.2.*,!=2.3.0,<3.0.0dev,>=1.31.5 in /opt/conda/lib/python3.10/site-packages (from google-cloud-storage) (1.34.1)\n",
      "Requirement already satisfied: google-cloud-core<3.0dev,>=2.3.0 in /opt/conda/lib/python3.10/site-packages (from google-cloud-storage) (2.4.1)\n",
      "Requirement already satisfied: google-resumable-media>=2.6.0 in /opt/conda/lib/python3.10/site-packages (from google-cloud-storage) (2.7.2)\n",
      "Requirement already satisfied: requests<3.0.0dev,>=2.18.0 in /opt/conda/lib/python3.10/site-packages (from google-cloud-storage) (2.32.3)\n",
      "Requirement already satisfied: google-crc32c<2.0dev,>=1.0 in /opt/conda/lib/python3.10/site-packages (from google-cloud-storage) (1.6.0)\n",
      "Requirement already satisfied: googleapis-common-protos<2.0dev,>=1.56.2 in /opt/conda/lib/python3.10/site-packages (from google-api-core!=2.0.*,!=2.1.*,!=2.2.*,!=2.3.0,<3.0.0dev,>=1.31.5->google-cloud-storage) (1.66.0)\n",
      "Requirement already satisfied: protobuf!=3.20.0,!=3.20.1,!=4.21.0,!=4.21.1,!=4.21.2,!=4.21.3,!=4.21.4,!=4.21.5,<4.0.0dev,>=3.19.5 in /opt/conda/lib/python3.10/site-packages (from google-api-core!=2.0.*,!=2.1.*,!=2.2.*,!=2.3.0,<3.0.0dev,>=1.31.5->google-cloud-storage) (3.20.3)\n",
      "Requirement already satisfied: cachetools<6.0,>=2.0.0 in /opt/conda/lib/python3.10/site-packages (from google-auth<3.0dev,>=2.23.3->google-cloud-storage) (5.5.0)\n",
      "Requirement already satisfied: pyasn1-modules>=0.2.1 in /opt/conda/lib/python3.10/site-packages (from google-auth<3.0dev,>=2.23.3->google-cloud-storage) (0.4.1)\n",
      "Requirement already satisfied: rsa<5,>=3.1.4 in /opt/conda/lib/python3.10/site-packages (from google-auth<3.0dev,>=2.23.3->google-cloud-storage) (4.9)\n",
      "Requirement already satisfied: charset_normalizer<4,>=2 in /opt/conda/lib/python3.10/site-packages (from requests<3.0.0dev,>=2.18.0->google-cloud-storage) (3.4.0)\n",
      "Requirement already satisfied: idna<4,>=2.5 in /opt/conda/lib/python3.10/site-packages (from requests<3.0.0dev,>=2.18.0->google-cloud-storage) (3.10)\n",
      "Requirement already satisfied: urllib3<3,>=1.21.1 in /opt/conda/lib/python3.10/site-packages (from requests<3.0.0dev,>=2.18.0->google-cloud-storage) (1.26.20)\n",
      "Requirement already satisfied: certifi>=2017.4.17 in /opt/conda/lib/python3.10/site-packages (from requests<3.0.0dev,>=2.18.0->google-cloud-storage) (2024.12.14)\n",
      "Requirement already satisfied: pyasn1<0.7.0,>=0.4.6 in /opt/conda/lib/python3.10/site-packages (from pyasn1-modules>=0.2.1->google-auth<3.0dev,>=2.23.3->google-cloud-storage) (0.6.1)\n",
      "Downloading pypdf2-3.0.1-py3-none-any.whl (232 kB)\n",
      "Installing collected packages: PyPDF2\n",
      "Successfully installed PyPDF2-3.0.1\n"
     ]
    }
   ],
   "source": [
    "!pip install PyPDF2 google-cloud-storage"
   ]
  },
  {
   "cell_type": "markdown",
   "id": "ceca3e70-f793-4cd1-8912-704505507e14",
   "metadata": {},
   "source": [
    "Import libraries"
   ]
  },
  {
   "cell_type": "code",
   "execution_count": 3,
   "id": "5908014d-887e-4daa-af8b-3d04e6ff85d7",
   "metadata": {},
   "outputs": [],
   "source": [
    "from google.cloud import storage\n",
    "import PyPDF2\n",
    "import os"
   ]
  },
  {
   "cell_type": "markdown",
   "id": "377a913d-fd46-4b6a-8795-9ea0aa31f67e",
   "metadata": {},
   "source": [
    "Fonctions"
   ]
  },
  {
   "cell_type": "code",
   "execution_count": 4,
   "id": "73c3a92f-a34e-43e1-8e64-5b20e9f8621c",
   "metadata": {},
   "outputs": [],
   "source": [
    "# Fonction pour extraire le texte d'un PDF\n",
    "def extract_text_from_pdf(pdf_path):\n",
    "    \"\"\"\n",
    "    Extrait le texte d'un fichier PDF.\n",
    "    \"\"\"\n",
    "    with open(pdf_path, \"rb\") as file:\n",
    "        reader = PyPDF2.PdfReader(file)\n",
    "        text = \"\"\n",
    "        for page in reader.pages:\n",
    "            text += page.extract_text()\n",
    "    return text"
   ]
  },
  {
   "cell_type": "code",
   "execution_count": 5,
   "id": "6cbb6506-cb71-441c-9f0a-e2745a30e54f",
   "metadata": {},
   "outputs": [],
   "source": [
    "def retrieve_pdf_files_from_source_bucket(bucket):\n",
    "\n",
    "    # Lister les fichiers PDF dans le bucket\n",
    "    pdf_files = [blob.name for blob in bucket.list_blobs() if blob.name.endswith(\".pdf\")]\n",
    "\n",
    "    # Afficher la liste des fichiers PDF\n",
    "    print(\"Fichiers PDF dans le bucket :\")\n",
    "    for pdf_file in pdf_files:\n",
    "        print(pdf_file)\n",
    "    \n",
    "    return pdf_files"
   ]
  },
  {
   "cell_type": "code",
   "execution_count": 13,
   "id": "5f41aaa0-8e7f-4a05-8490-48589b0ad953",
   "metadata": {},
   "outputs": [],
   "source": [
    "# Fonction pour télécharger un fichier depuis un bucket GCS\n",
    "def download_from_gcs(source_bucket, source_blob_name, destination_file_name):\n",
    "    \"\"\"\n",
    "    Télécharge un fichier depuis un bucket GCS.\n",
    "    \"\"\"\n",
    "    blob = source_bucket.blob(source_blob_name)\n",
    "    blob.download_to_filename(destination_file_name)\n",
    "    print(f\"Fichier {source_blob_name} téléchargé depuis {source_bucket}.\")"
   ]
  },
  {
   "cell_type": "code",
   "execution_count": 14,
   "id": "0422e7da-05da-4526-a741-4033287425a6",
   "metadata": {},
   "outputs": [],
   "source": [
    "# Fonction pour téléverser un fichier dans un bucket GCS\n",
    "def upload_to_gcs(destination_bucket, source_file_name, destination_blob_name):\n",
    "    \"\"\"\n",
    "    Téléverse un fichier dans un bucket GCS.\n",
    "    \"\"\"\n",
    "    blob = destination_bucket.blob(destination_blob_name)\n",
    "    blob.upload_from_filename(source_file_name)\n",
    "    print(f\"Fichier {source_file_name} téléversé dans {destination_bucket} sous le nom {destination_blob_name}.\")"
   ]
  },
  {
   "cell_type": "markdown",
   "id": "83765429-8ff5-4590-8924-24c671639816",
   "metadata": {},
   "source": [
    "Pipeline principale"
   ]
  },
  {
   "cell_type": "code",
   "execution_count": 18,
   "id": "94b579de-6bb5-4547-9231-0b93a4d9407f",
   "metadata": {},
   "outputs": [],
   "source": [
    "# Fonction principale pour la pipeline\n",
    "def pdf_to_text_pipeline(source_bucket_name, destination_bucket_name, local_folder = \"cours5\"):\n",
    "    \"\"\"\n",
    "    Pipeline pour convertir des fichiers PDF d'un bucket GCS en fichiers texte dans un autre bucket.\n",
    "    \n",
    "    Args:\n",
    "        source_bucket_name: Nom du bucket source contenant les PDF.\n",
    "        destination_bucket_name: Nom du bucket de destination pour les fichiers texte.\n",
    "        local_folder: Dossier temporaire pour stocker les fichiers PDF téléchargés.\n",
    "    \"\"\"\n",
    "    # Créer un dossier pour manipuler les fichiers pdf\n",
    "    if not os.path.exists(local_folder):\n",
    "        os.makedirs(local_folder)\n",
    "\n",
    "    # Initialiser le client GCS et les buckets GCS\n",
    "    storage_client = storage.Client()\n",
    "    source_bucket = storage_client.bucket(source_bucket_name)\n",
    "    destination_bucket = storage_client.bucket(destination_bucket_name)\n",
    "    \n",
    "    # Récupération des fichiers pdf du bucket source\n",
    "    pdf_files = retrieve_pdf_files_from_source_bucket(source_bucket)\n",
    "    \n",
    "    # Traiter chaque fichier PDF\n",
    "    for pdf_file in pdf_files:\n",
    "        try:\n",
    "            # Télécharger le PDF\n",
    "            local_pdf_path = os.path.join(local_folder, pdf_file)\n",
    "            download_from_gcs(source_bucket, pdf_file, local_pdf_path)\n",
    "            \n",
    "            # Extraire le texte du PDF\n",
    "            text = extract_text_from_pdf(local_pdf_path)\n",
    "            \n",
    "            # Sauvegarder le texte dans un fichier temporaire\n",
    "            txt_file = pdf_file.replace(\".pdf\", \".txt\")\n",
    "            local_txt_path = os.path.join(local_folder, txt_file)\n",
    "            with open(local_txt_path, \"w\") as f:\n",
    "                f.write(text)\n",
    "            \n",
    "            # Téléverser le fichier texte dans le bucket de destination\n",
    "            upload_to_gcs(destination_bucket, local_txt_path, txt_file)\n",
    "            \n",
    "            # Supprimer les fichiers temporaires du local folder\n",
    "            # os.remove(local_pdf_path)\n",
    "            # os.remove(local_txt_path)\n",
    "        \n",
    "        except Exception as e:\n",
    "            print(f\"Erreur lors du traitement du fichier {pdf_file} : {e}\")\n",
    "\n",
    "    print(\"Pipeline terminée avec succès.\")"
   ]
  },
  {
   "cell_type": "markdown",
   "id": "81bae508-142f-4ffe-b5a6-86a76bb320d8",
   "metadata": {},
   "source": [
    "Variables"
   ]
  },
  {
   "cell_type": "code",
   "execution_count": 16,
   "id": "0d8302ba-b6de-4f03-91b0-b46d90bcd349",
   "metadata": {},
   "outputs": [],
   "source": [
    "source_bucket_name = \"cours5bucket\"\n",
    "destination_bucket_name  = \"cours5bucket\"\n",
    "local_folder = \"cours5\""
   ]
  },
  {
   "cell_type": "markdown",
   "id": "4798cd54-ea43-4b16-b16b-cf79e2364e31",
   "metadata": {},
   "source": [
    "Run pipeline"
   ]
  },
  {
   "cell_type": "code",
   "execution_count": 19,
   "id": "61c3b097-01e7-4b0d-b55a-1cbdff95b300",
   "metadata": {},
   "outputs": [
    {
     "name": "stdout",
     "output_type": "stream",
     "text": [
      "Fichiers PDF dans le bucket :\n",
      "deepseek-r1 paper.pdf\n",
      "Fichier deepseek-r1 paper.pdf téléchargé depuis <Bucket: cours5bucket>.\n",
      "Fichier cours5/deepseek-r1 paper.txt téléversé dans <Bucket: cours5bucket> sous le nom deepseek-r1 paper.txt.\n",
      "Pipeline terminée avec succès.\n"
     ]
    }
   ],
   "source": [
    "pdf_to_text_pipeline(source_bucket_name, destination_bucket_name, local_folder = \"cours5\")"
   ]
  }
 ],
 "metadata": {
  "environment": {
   "kernel": "conda-base-py",
   "name": "workbench-notebooks.m127",
   "type": "gcloud",
   "uri": "us-docker.pkg.dev/deeplearning-platform-release/gcr.io/workbench-notebooks:m127"
  },
  "kernelspec": {
   "display_name": "Python 3 (ipykernel) (Local)",
   "language": "python",
   "name": "conda-base-py"
  },
  "language_info": {
   "codemirror_mode": {
    "name": "ipython",
    "version": 3
   },
   "file_extension": ".py",
   "mimetype": "text/x-python",
   "name": "python",
   "nbconvert_exporter": "python",
   "pygments_lexer": "ipython3",
   "version": "3.10.16"
  }
 },
 "nbformat": 4,
 "nbformat_minor": 5
}
