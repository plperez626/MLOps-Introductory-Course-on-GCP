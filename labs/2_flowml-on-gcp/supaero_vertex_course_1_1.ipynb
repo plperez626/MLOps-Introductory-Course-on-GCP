{
 "cells": [
  {
   "cell_type": "markdown",
   "metadata": {
    "id": "title:generic,gcp"
   },
   "source": [
    "# Flow ML Course\n",
    "\n",
    "## TP 1 : Vertex AI Experiments\n",
    "\n",
    "L'objectif de ce notebook est d'apprendre à utiliser les experiments de Flow ML.\n",
    "\n",
    "Les Experiments permettent de logger les méta paramètres des architectures des modèles et leurs métriques. On peut regrouper les différents entrainements sous une experiment pour les comparer.\n",
    "\n",
    "\n",
    "En savoir plus [Experiments]( https://cloud.google.com/vertex-ai/docs/experiments/intro-vertex-ai-experiments).\n",
    "\n",
    "En savoir plus [Vertex ML Metadata](https://cloud.google.com/vertex-ai/docs/ml-metadata/introduction)."
   ]
  },
  {
   "cell_type": "markdown",
   "metadata": {},
   "source": [
    "Ce premier TP se déroulera intégralement sur la plateforme.\n",
    "\n",
    "Votre Objectif sera de déterminer quel est les hyper paramètres qui permettent d'avoir le meilleur modèle."
   ]
  },
  {
   "cell_type": "code",
   "execution_count": null,
   "metadata": {},
   "outputs": [],
   "source": [
    "best_set_hparams = {...}"
   ]
  },
  {
   "cell_type": "markdown",
   "metadata": {
    "id": "DF4l8DTdWgPY"
   },
   "source": [
    "## Intialisation"
   ]
  },
  {
   "cell_type": "code",
   "execution_count": 4,
   "metadata": {
    "id": "Nqwi-5ufWp_B",
    "tags": []
   },
   "outputs": [],
   "source": [
    "PROJECT_ID = \"projet-ia-448520\" # \"[your-project-id]\"  # @param {type:\"string\"}\n",
    "LOCATION = \"us-central1\"  # @param {type:\"string\"}\n",
    "\n",
    "BUCKET_URI = \"gs://cours1bucket\"\n",
    "\n",
    "SERVICE_ACCOUNT = \"837843744498-compute@developer.gserviceaccount.com\" \n",
    "\n",
    "! gsutil mb -l $LOCATION $BUCKET_URI"
   ]
  },
  {
   "cell_type": "code",
   "execution_count": 9,
   "metadata": {
    "id": "import_aip:mbsdk",
    "tags": []
   },
   "outputs": [],
   "source": [
    "import os\n",
    "import uuid\n",
    "\n",
    "import google.cloud.aiplatform as aiplatform"
   ]
  },
  {
   "cell_type": "markdown",
   "metadata": {
    "id": "init_aip:mbsdk,region"
   },
   "source": [
    "Pour ce TP nous allons utiliser le SDK python de Vertex AI. L'objet central de ce module est : aiplatform\n",
    "\n",
    "Initialisons le :"
   ]
  },
  {
   "cell_type": "code",
   "execution_count": 10,
   "metadata": {
    "id": "init_aip:mbsdk,region",
    "tags": []
   },
   "outputs": [],
   "source": [
    "aiplatform.init(project=PROJECT_ID, location=LOCATION, staging_bucket=BUCKET_URI)"
   ]
  },
  {
   "cell_type": "markdown",
   "metadata": {
    "id": "83f8f98ae12d"
   },
   "source": [
    "## Introduction to Vertex AI Experiments PROF\n",
    "\n"
   ]
  },
  {
   "cell_type": "code",
   "execution_count": 24,
   "metadata": {
    "id": "1ed46e349cf2",
    "tags": []
   },
   "outputs": [],
   "source": [
    "# Specify a name for the experiment\n",
    "EXPERIMENT_NAME = \"supaero-vertex-course-1-1\"\n",
    "\n",
    "if EXPERIMENT_NAME == \"[your-experiment-name]\":\n",
    "    EXPERIMENT_NAME = f\"example-{uuid.uuid1()}\""
   ]
  },
  {
   "cell_type": "code",
   "execution_count": null,
   "metadata": {
    "id": "experiment_log_params",
    "tags": []
   },
   "outputs": [],
   "source": [
    "import random\n",
    "\n",
    "units_choice = [32, 64, 128, 256]\n",
    "epochs_choice = [1, 10, 100, 1000]\n",
    "batch_size_choice = [1, 8, 32, 64]\n",
    "learning_rate_choice = [.0001, .01, .1, 1]\n",
    "\n",
    "# Create experiment\n",
    "aiplatform.init(experiment=EXPERIMENT_NAME)\n",
    "\n",
    "for i in range(1, 11):\n",
    "    aiplatform.start_run(f\"run-{str(i)}\")\n",
    "\n",
    "    metaparams = {}\n",
    "    metaparams[\"units\"] = random.choice(units_choice)\n",
    "    aiplatform.log_params(metaparams)\n",
    "\n",
    "    hyperparams = {}\n",
    "    hyperparams[\"epochs\"] = random.choice(epochs_choice)\n",
    "    hyperparams[\"batch_size\"] = random.choice(batch_size_choice)\n",
    "    hyperparams[\"learning_rate\"] = random.choice(learning_rate_choice)\n",
    "    aiplatform.log_params(hyperparams)\n",
    "\n",
    "    metrics = {}\n",
    "    metrics[\"test_acc\"] = random.random() * 30 + 68\n",
    "    metrics[\"train_acc\"] = min(random.random() * 3 + metrics[\"test_acc\"], 100)\n",
    "\n",
    "    aiplatform.log_metrics(metrics)\n",
    "    \n",
    "    aiplatform.end_run()\n",
    "\n",
    "experiment_df = aiplatform.get_experiment_df()\n"
   ]
  },
  {
   "cell_type": "code",
   "execution_count": null,
   "metadata": {
    "tags": []
   },
   "outputs": [],
   "source": [
    "experiment_df"
   ]
  },
  {
   "cell_type": "markdown",
   "metadata": {
    "id": "get_experiment",
    "tags": []
   },
   "source": [
    "#### Résultats Experiment\n",
    "\n",
    "\n",
    "When you are finished with a run within an experiment, call `end_run()` method to complete the logging for that run.\n",
    "\n",
    "Next, use the experiment name as a parameter to the method `get_experiment_df()` to get the results of the experiment as a pandas dataframe."
   ]
  },
  {
   "cell_type": "code",
   "execution_count": null,
   "metadata": {
    "id": "7ddb4e17fe92",
    "tags": []
   },
   "outputs": [],
   "source": [
    "aiplatform.end_run()\n",
    "\n",
    "experiment_df = aiplatform.get_experiment_df()\n",
    "experiment_df = experiment_df[experiment_df.experiment_name == EXPERIMENT_NAME]\n",
    "print(experiment_df.T)"
   ]
  },
  {
   "cell_type": "markdown",
   "metadata": {
    "id": "5328eb24f6a6"
   },
   "source": [
    "#### Delete the experiment\n",
    "\n",
    "Next, delete the experiment using the `delete()` method."
   ]
  },
  {
   "cell_type": "code",
   "execution_count": null,
   "metadata": {
    "id": "cleanup:mbsdk",
    "tags": []
   },
   "outputs": [],
   "source": [
    "exp = aiplatform.Experiment(EXPERIMENT_NAME)\n",
    "try:\n",
    "    exp.delete()\n",
    "except Exception as e:\n",
    "    print(e)"
   ]
  }
 ],
 "metadata": {
  "colab": {
   "name": "get_started_with_vertex_experiments.ipynb",
   "toc_visible": true
  },
  "environment": {
   "kernel": "python3",
   "name": "tf2-gpu.2-17.m127",
   "type": "gcloud",
   "uri": "us-docker.pkg.dev/deeplearning-platform-release/gcr.io/tf2-gpu.2-17:m127"
  },
  "kernelspec": {
   "display_name": "Python 3 (Local)",
   "language": "python",
   "name": "python3"
  },
  "language_info": {
   "codemirror_mode": {
    "name": "ipython",
    "version": 3
   },
   "file_extension": ".py",
   "mimetype": "text/x-python",
   "name": "python",
   "nbconvert_exporter": "python",
   "pygments_lexer": "ipython3",
   "version": "3.10.16"
  }
 },
 "nbformat": 4,
 "nbformat_minor": 4
}
