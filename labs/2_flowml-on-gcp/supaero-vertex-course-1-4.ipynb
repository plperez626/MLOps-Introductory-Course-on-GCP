{
 "cells": [
  {
   "cell_type": "code",
   "execution_count": null,
   "metadata": {
    "id": "ur8xi4C7S06n"
   },
   "outputs": [],
   "source": [
    "# Copyright 2022 Google LLC\n",
    "#\n",
    "# Licensed under the Apache License, Version 2.0 (the \"License\");\n",
    "# you may not use this file except in compliance with the License.\n",
    "# You may obtain a copy of the License at\n",
    "#\n",
    "#     https://www.apache.org/licenses/LICENSE-2.0\n",
    "#\n",
    "# Unless required by applicable law or agreed to in writing, software\n",
    "# distributed under the License is distributed on an \"AS IS\" BASIS,\n",
    "# WITHOUT WARRANTIES OR CONDITIONS OF ANY KIND, either express or implied.\n",
    "# See the License for the specific language governing permissions and\n",
    "# limitations under the License."
   ]
  },
  {
   "cell_type": "markdown",
   "metadata": {
    "id": "title:generic,gcp"
   },
   "source": [
    "# Get started with Vertex AI Model Registry\n",
    "<table align=\"left\">\n",
    "  <td style=\"text-align: center\">\n",
    "    <a href=\"https://colab.research.google.com/github/GoogleCloudPlatform/vertex-ai-samples/blob/main/notebooks/official/model_registry/get_started_with_model_registry.ipynb\">\n",
    "      <img width=\"32px\" src=\"https://cloud.google.com/ml-engine/images/colab-logo-32px.png\" alt=\"Google Colaboratory logo\"><br> Open in Colab\n",
    "    </a>\n",
    "  </td>\n",
    "  <td style=\"text-align: center\">\n",
    "    <a href=\"https://console.cloud.google.com/vertex-ai/colab/import/https:%2F%2Fraw.githubusercontent.com%2FGoogleCloudPlatform%2Fvertex-ai-samples%2Fmain%2Fnotebooks%2Fofficial%2Fmodel_registry%2Fget_started_with_model_registry.ipynb\">\n",
    "      <img width=\"32px\" src=\"https://cloud.google.com/ml-engine/images/colab-enterprise-logo-32px.png\" alt=\"Google Cloud Colab Enterprise logo\"><br> Open in Colab Enterprise\n",
    "    </a>\n",
    "  </td>\n",
    "  <td style=\"text-align: center\">\n",
    "    <a href=\"https://console.cloud.google.com/vertex-ai/workbench/deploy-notebook?download_url=https://raw.githubusercontent.com/GoogleCloudPlatform/vertex-ai-samples/blob/main/notebooks/official/model_registry/get_started_with_model_registry.ipynb\">\n",
    "      <img src=\"https://lh3.googleusercontent.com/UiNooY4LUgW_oTvpsNhPpQzsstV5W8F7rYgxgGBD85cWJoLmrOzhVs_ksK_vgx40SHs7jCqkTkCk=e14-rj-sc0xffffff-h130-w32\" alt=\"Vertex AI logo\"><br> Open in Vertex AI Workbench\n",
    "    </a>\n",
    "  </td>\n",
    "  <td style=\"text-align: center\">\n",
    "    <a href=\"https://github.com/GoogleCloudPlatform/vertex-ai-samples/blob/main/notebooks/official/model_registry/get_started_with_model_registry.ipynb\">\n",
    "      <img width=\"32px\" src=\"https://cloud.google.com/ml-engine/images/github-logo-32px.png\" alt=\"GitHub logo\"><br> View on GitHub\n",
    "    </a>\n",
    "  </td>\n",
    "</table>"
   ]
  },
  {
   "cell_type": "markdown",
   "metadata": {
    "id": "tvgnzT1CKxrO"
   },
   "source": [
    "## Overview\n",
    "\n",
    "This tutorial demonstrates how to use Vertex AI SDK to create and register multiple versions of a model using Vertex AI Model Registry.\n",
    "\n",
    "Learn more about [Vertex AI Model Registry](https://cloud.google.com/vertex-ai/docs/model-registry/introduction)."
   ]
  },
  {
   "cell_type": "markdown",
   "metadata": {
    "id": "c9402cfbdc2d"
   },
   "source": [
    "### Objective\n",
    "\n",
    "In this tutorial, you learn how to use Vertex AI Model Registry to create and register multiple versions of a model.\n",
    "\n",
    "This tutorial uses the following Vertex AI services and resources:\n",
    "\n",
    "- Vertex AI Model Registry\n",
    "- Vertex AI model resources\n",
    "- Vertex AI endpoint resources\n",
    "\n",
    "The steps performed include:\n",
    "\n",
    "- Create and register a first version of a model to Vertex AI Model Registry.\n",
    "- Create and register a second version of a model to Vertex AI Model Registry.\n",
    "- Updating the model version which is the default.\n",
    "- Deleting a model version.\n",
    "- Retraining the next model version."
   ]
  },
  {
   "cell_type": "markdown",
   "metadata": {
    "id": "dataset:iris,lcn"
   },
   "source": [
    "### Model\n",
    "\n",
    "This tutorial uses a pre-trained image classification model from TensorFlow Hub, which is trained on ImageNet dataset.\n",
    "\n",
    "Learn more about [ResNet V2 pretained model](https://tfhub.dev/google/imagenet/resnet_v2_101/classification/5). "
   ]
  },
  {
   "cell_type": "markdown",
   "metadata": {
    "id": "costs"
   },
   "source": [
    "### Costs\n",
    "\n",
    "This tutorial uses billable components of Google Cloud:\n",
    "\n",
    "* Vertex AI\n",
    "* Cloud Storage\n",
    "\n",
    "Learn about [Vertex AI\n",
    "pricing](https://cloud.google.com/vertex-ai/pricing) and [Cloud Storage\n",
    "pricing](https://cloud.google.com/storage/pricing), and use the [Pricing\n",
    "Calculator](https://cloud.google.com/products/calculator/)\n",
    "to generate a cost estimate based on your projected usage."
   ]
  },
  {
   "cell_type": "markdown",
   "metadata": {
    "id": "before_you_begin"
   },
   "source": [
    "## Get started"
   ]
  },
  {
   "cell_type": "markdown",
   "metadata": {
    "id": "e5d353aa47ac"
   },
   "source": [
    "### Install Vertex AI SDK for Python and other required packages\n"
   ]
  },
  {
   "cell_type": "code",
   "execution_count": null,
   "metadata": {
    "id": "install_aip"
   },
   "outputs": [],
   "source": [
    "# Install the packages\n",
    "USER=''\n",
    "! pip3 install {USER} --upgrade --quiet google-cloud-aiplatform \\\n",
    "                                        tensorflow==2.15.1 \\\n",
    "                                        tensorflow-hub \\\n",
    "                                        tf_keras"
   ]
  },
  {
   "cell_type": "markdown",
   "metadata": {
    "id": "c2fc3d7b6bfa"
   },
   "source": [
    "### Set Google Cloud project information and initialize Vertex AI SDK for Python\n",
    "\n",
    "To get started using Vertex AI, you must have an existing Google Cloud project and [enable the Vertex AI API](https://console.cloud.google.com/flows/enableapi?apiid=aiplatform.googleapis.com). Learn more about [setting up a project and a development environment](https://cloud.google.com/vertex-ai/docs/start/cloud-environment)."
   ]
  },
  {
   "cell_type": "code",
   "execution_count": null,
   "metadata": {
    "id": "set_project_id"
   },
   "outputs": [],
   "source": [
    "PROJECT_ID = \"projet-ia-448520\" # \"[your-project-id]\"  # @param {type:\"string\"}\n",
    "\n",
    "\n",
    "# Set the project id\n",
    "! gcloud config set project {PROJECT_ID}\n",
    "\n",
    "LOCATION = \"us-central1\"  # @param {type:\"string\"}"
   ]
  },
  {
   "cell_type": "markdown",
   "metadata": {
    "id": "zgPO1eR3CYjk"
   },
   "source": [
    "### Create a Cloud Storage bucket\n",
    "\n",
    "Create a storage bucket to store intermediate artifacts such as datasets."
   ]
  },
  {
   "cell_type": "code",
   "execution_count": null,
   "metadata": {
    "id": "MzGDU7TWdts_"
   },
   "outputs": [],
   "source": [
    "BUCKET_URI = \"gs://cours1bucket\""
   ]
  },
  {
   "cell_type": "markdown",
   "metadata": {
    "id": "create_bucket"
   },
   "source": [
    "**If your bucket doesn't already exist**: Run the following cell to create your Cloud Storage bucket."
   ]
  },
  {
   "cell_type": "code",
   "execution_count": null,
   "metadata": {
    "id": "create_bucket"
   },
   "outputs": [],
   "source": [
    "! gsutil mb -l $LOCATION $BUCKET_URI"
   ]
  },
  {
   "cell_type": "markdown",
   "metadata": {
    "id": "setup_vars"
   },
   "source": [
    "### Import libraries"
   ]
  },
  {
   "cell_type": "code",
   "execution_count": null,
   "metadata": {
    "id": "import_aip:mbsdk"
   },
   "outputs": [],
   "source": [
    "import os\n",
    "\n",
    "import google.cloud.aiplatform as aip\n",
    "import tensorflow as tf\n",
    "import tensorflow_hub as hub\n",
    "import tf_keras"
   ]
  },
  {
   "cell_type": "markdown",
   "metadata": {
    "id": "init_aip:mbsdk"
   },
   "source": [
    "### Initialize Vertex AI SDK for Python\n",
    "\n",
    "Initialize the Vertex AI SDK for Python for your project and corresponding bucket."
   ]
  },
  {
   "cell_type": "code",
   "execution_count": null,
   "metadata": {
    "id": "init_aip:mbsdk"
   },
   "outputs": [],
   "source": [
    "aip.init(project=PROJECT_ID, staging_bucket=BUCKET_URI)"
   ]
  },
  {
   "cell_type": "markdown",
   "metadata": {
    "id": "59c76b8e1285"
   },
   "source": [
    "## Introduction to Model Registry\n",
    "\n",
    "The Vertex AI Model Registry service provides you with the ability to create and group together multiple versions of a model resource. With versioning, one can:\n",
    "\n",
    "- Track the model lineage across versions.\n",
    "- Set which version is the default -- e.g., blessed.\n",
    "- Other service operations, like deploy, automatically use the default version -- w/o specifically specifying the version.\n",
    "- Assign alias names -- such as development, staging and production -- to the versions."
   ]
  },
  {
   "cell_type": "markdown",
   "metadata": {
    "id": "d8128b8ff025"
   },
   "source": [
    "m = tf.keras.Sequential([\n",
    "    hub.KerasLayer(\"https://www.kaggle.com/models/google/resnet-v2/TensorFlow2/101-classification/2\")\n",
    "])## Get pretrained model from TensorFlow Hub\n",
    "\n",
    "For demonstration purposes, this tutorial uses two versions of a pretrained model from TensorFlow Hub (TFHub), which are then uploaded to the Vertex AI Model Registry as version 1 and version 2 of the same model resource. Once you have a Vertex AI model resource, the model versions can be deployed to a Vertex AI endpoint resource.\n",
    "\n",
    "### Download the pretrained model\n",
    "\n",
    "First, you download two versions of the pretrained model from TensorFlow Hub. The models get downloaded as a TF.Keras layer. To finalize the model, in this example, you create a `Sequential()` model with the downloaded TFHub model as a layer, and specify the input shape to the model."
   ]
  },
  {
   "cell_type": "code",
   "execution_count": null,
   "metadata": {
    "id": "c55fa4c826f7"
   },
   "outputs": [],
   "source": [
    "tfhub_model_v1 = tf_keras.Sequential(\n",
    "    [hub.KerasLayer(\"https://tfhub.dev/google/imagenet/resnet_v2_101/classification/5\")]\n",
    ")\n",
    "\n",
    "tfhub_model_v1.build([None, 224, 224, 3])\n",
    "\n",
    "tfhub_model_v1.summary()"
   ]
  },
  {
   "cell_type": "code",
   "execution_count": null,
   "metadata": {
    "id": "820ce0bdb2f7"
   },
   "outputs": [],
   "source": [
    "tfhub_model_v2 = tf_keras.Sequential(\n",
    "    [hub.KerasLayer(\"https://www.kaggle.com/models/google/resnet-v2/TensorFlow2/50-classification/2\")]\n",
    ")\n",
    "\n",
    "tfhub_model_v2.build([None, 128, 128, 3])\n",
    "\n",
    "tfhub_model_v2.summary()"
   ]
  },
  {
   "cell_type": "markdown",
   "metadata": {},
   "source": [
    "### Your Turn\n",
    "\n",
    "What's the difference between model v1 & v2 ?"
   ]
  },
  {
   "cell_type": "markdown",
   "metadata": {},
   "source": [
    "Your answer : "
   ]
  },
  {
   "cell_type": "markdown",
   "metadata": {
    "id": "63de49055083"
   },
   "source": [
    "### Save the model artifacts\n",
    "\n",
    "At this point, the two versions of the model are in memory. Next, save the model artifacts to a Cloud Storage location."
   ]
  },
  {
   "cell_type": "code",
   "execution_count": null,
   "metadata": {
    "id": "64618c713db9"
   },
   "outputs": [],
   "source": [
    "MODEL_V1_DIR = BUCKET_URI + \"/model/v1\"\n",
    "tfhub_model_v1.save(MODEL_V1_DIR)\n",
    "\n",
    "MODEL_V2_DIR = BUCKET_URI + \"/model/v2\"\n",
    "tfhub_model_v2.save(MODEL_V2_DIR)"
   ]
  },
  {
   "cell_type": "markdown",
   "metadata": {},
   "source": [
    "## The Deploy Image"
   ]
  },
  {
   "cell_type": "code",
   "execution_count": null,
   "metadata": {
    "tags": []
   },
   "outputs": [],
   "source": [
    "TF = \"2.13\".replace(\".\", \"-\")\n",
    "\n",
    "DEPLOY_VERSION = \"tf2-cpu.{}\".format(TF) # Possibility to use GPU \n",
    "\n",
    "\n",
    "DEPLOY_IMAGE = \"{}-docker.pkg.dev/vertex-ai/prediction/{}:latest\".format(\n",
    "    LOCATION.split(\"-\")[0], DEPLOY_VERSION\n",
    ")\n",
    "\n",
    "print(\"Deployment:\", DEPLOY_IMAGE, DEPLOY_VERSION)"
   ]
  },
  {
   "cell_type": "markdown",
   "metadata": {
    "id": "e8ce91147c93"
   },
   "source": [
    "### Upload version 1 of the TensorFlow Hub model to a Vertex AI model resource\n",
    "\n",
    "Next, upload the first version of the model (`MODEL_DIR_V1`) as a model resource in the Vertex AI Model Registry, with the additional following parameters:\n",
    "\n",
    "- `is_default_version`: Whether this is the default version for the model resource.\n",
    "- `version_ailiases`: User defined list of alternative alias names for the model version, such as `production`.\n",
    "- `version_description`: User description of the model version.\n",
    "\n",
    "When the first model version is created in the Vertex AI Model Registry, the property `version_id` is automatically set to 1."
   ]
  },
  {
   "cell_type": "code",
   "execution_count": null,
   "metadata": {
    "id": "ad61e1429512"
   },
   "outputs": [],
   "source": [
    "your_name = \"test\"\n",
    "\n",
    "model_v1 = aip.Model.upload(\n",
    "    display_name=f\"model_course_1_4_{your_name}\",\n",
    "    artifact_uri=MODEL_V1_DIR,\n",
    "    serving_container_image_uri=DEPLOY_IMAGE,\n",
    "    is_default_version=True,\n",
    "    version_aliases=[\"v1\"],\n",
    "    version_description=..., # Add a description\n",
    ")\n",
    "\n",
    "print(model_v1)"
   ]
  },
  {
   "cell_type": "markdown",
   "metadata": {
    "id": "b3a3993dc813"
   },
   "source": [
    "### Upload version 2 of the TensorFlow Hub model to a Vertex AI model resource\n",
    "\n",
    "Next, upload the second version of the model (`MODEL_DIR_V1`) as a model resource in the Vertex AI Model Registry, with the additional following parameters:\n",
    "\n",
    "- `parent_model`: The existing model resource for which to add this model as the next model version.\n",
    "- `is_default_version`: Whether this is the default version for the model resource. In this example, you change from the default from the first version to the second version of the model.\n",
    "- `version_ailiases`: User defined list of alternative alias names for the model version, such as `production`.\n",
    "- `version_description`: User description of the model version.\n",
    "\n",
    "When a subsequent model version is created in the Vertex AI Model Registry, the property `version_id` is automatically incremented. In this example, it's set to 2 (2nd version)."
   ]
  },
  {
   "cell_type": "code",
   "execution_count": null,
   "metadata": {
    "id": "ad61e1429512"
   },
   "outputs": [],
   "source": [
    "model_v2 = # Upload the model with parameter : parent_model=model_v1.resource_name\n",
    "\n",
    "print(model_v2)"
   ]
  },
  {
   "cell_type": "markdown",
   "metadata": {
    "id": "9484a0abda32"
   },
   "source": [
    "### Get all versions of the parent model\n",
    "\n",
    "Next, list all the versions of a parent model using the `version_registry.list_versions()`."
   ]
  },
  {
   "cell_type": "code",
   "execution_count": null,
   "metadata": {
    "id": "1c9c1910bbea"
   },
   "outputs": [],
   "source": [
    "versions = model_v1.versioning_registry.list_versions()\n",
    "for version in versions:\n",
    "    print(version)"
   ]
  },
  {
   "cell_type": "markdown",
   "metadata": {
    "id": "195b5bb2d621"
   },
   "source": [
    "### Get all versions of a non-parent model\n",
    "\n",
    "You repeat the same, but this time you use a non-parent model. As you can see, you get all the versions regardless if the model you specified is the parent or non-parent model."
   ]
  },
  {
   "cell_type": "code",
   "execution_count": null,
   "metadata": {
    "id": "18d263316e52"
   },
   "outputs": [],
   "source": [
    "versions = model_v2.versioning_registry.list_versions()\n",
    "for version in versions:\n",
    "    print(version)"
   ]
  },
  {
   "cell_type": "markdown",
   "metadata": {
    "id": "a12974ec92d0"
   },
   "source": [
    "### Listing a model resource\n",
    "\n",
    "The remaining Vertex AI SDK methods relating to a model resource automatically use the default version of the model resource.\n",
    "\n",
    "Next, use the `list()` method with a filter to get the model resources you created above. In this example, there are two versions. Version 2 is set as the default version, so list() only returns the information on version 2 (default version)."
   ]
  },
  {
   "cell_type": "code",
   "execution_count": null,
   "metadata": {
    "id": "0ca3df00020a"
   },
   "outputs": [],
   "source": [
    "models = aip.Model.list(filter=f\"display_name=model_course_1_4_{your_name}\")\n",
    "print(\"Number of models:\", len(models))\n",
    "print(\"Version ID:\", models[0].version_id)\n",
    "\n",
    "model = models[0]"
   ]
  },
  {
   "cell_type": "markdown",
   "metadata": {
    "id": "6173a2f6d2be"
   },
   "source": [
    "### Change the default model version\n",
    "\n",
    "Next, change which version of the model resource is the default model version using the `versioning_registry.add_version_aliases()` method, with the following parameters:\n",
    "\n",
    "- `version`: Which version, specified by the version_id, this operation applies to.\n",
    "- `new_aliases`: The additional aliases to assign to the specified version.\n",
    "\n",
    "In this example, you refer to the special alias `default` to change this model (version 1) as the default.\n",
    "\n",
    "Next, use the `list()` method which now returns version 1 instead of version 2 of the model."
   ]
  },
  {
   "cell_type": "code",
   "execution_count": null,
   "metadata": {
    "id": "4a74d1ff65a3"
   },
   "outputs": [],
   "source": [
    "model_v2.versioning_registry.add_version_aliases(new_aliases=[\"default\"], version=\"1\")\n",
    "\n",
    "models = aip.Model.list(filter=f\"display_name=model_course_1_4_{your_name}\")\n",
    "print(\"Number of models:\", len(models))\n",
    "print(\"Version ID:\", models[0].version_id)\n",
    "\n",
    "model = models[0]"
   ]
  },
  {
   "cell_type": "markdown",
   "metadata": {
    "id": "628de0914ba1"
   },
   "source": [
    "## Creating an endpoint resource\n",
    "\n",
    "You create an endpoint resource using the `Endpoint.create()` method. At a minimum, you specify the display name for the endpoint. Optionally, you can specify the project and location (region); otherwise the settings are inherited by the values you set when you initialized the Vertex AI SDK with the `init()` method.\n",
    "\n",
    "In this example, the following parameters are specified:\n",
    "\n",
    "- `display_name`: A human readable name for the endpoint resource.\n",
    "- `project`: Your project ID.\n",
    "- `location`: Your region.\n",
    "- `labels`: (optional) User defined metadata for the endpoint in the form of key/value pairs.\n",
    "\n",
    "This method returns an endpoint object.\n",
    "\n",
    "Learn more about [Vertex AI endpoints](https://cloud.google.com/vertex-ai/docs/predictions/deploy-model-api)."
   ]
  },
  {
   "cell_type": "code",
   "execution_count": null,
   "metadata": {
    "id": "0ea443f9593b"
   },
   "outputs": [],
   "source": [
    "endpoint = aip.Endpoint.create(\n",
    "    display_name=f\"endpoint_course_1_4_{your_name}\",\n",
    "    project=PROJECT_ID,\n",
    "    location=LOCATION,\n",
    "    labels={\"your_key\": \"your_value\"},\n",
    ")\n",
    "\n",
    "print(endpoint)"
   ]
  },
  {
   "cell_type": "markdown",
   "metadata": {},
   "source": [
    "## The Compute"
   ]
  },
  {
   "cell_type": "code",
   "execution_count": null,
   "metadata": {
    "tags": []
   },
   "outputs": [],
   "source": [
    "DEPLOY_COMPUTE = \"n1-standard-4\"\n",
    "print(\"Train machine type\", DEPLOY_COMPUTE)"
   ]
  },
  {
   "cell_type": "markdown",
   "metadata": {
    "id": "ca3fa3f6a894"
   },
   "source": [
    "## Deploying model resources to an endpoint resource.\n",
    "\n",
    "You can deploy one of more Vertex AI model resource instances to the same endpoint. Each Vertex AI model resource that is deployed has its own deployment container for the serving binary. \n",
    "\n",
    "*Note:* For this example, you specified the deployment container for the TFHub model in the previous step of uploading the model artifacts to a Vertex AI model resource.\n",
    "\n",
    "### Deploying a single endpoint resource\n",
    "\n",
    "In the next example, you deploy the default version of the Vertex AI model resource to a Vertex AI endpoint resource. The Vertex AI model resource already has defined for it the deployment container image. To deploy, you specify the following additional configuration settings:\n",
    "\n",
    "- The machine type.\n",
    "- The (if any) type and number of GPUs.\n",
    "- Static, manual or auto-scaling of VM instances.\n",
    "\n",
    "In this example, you deploy the model with the minimal amount of specified parameters, as follows:\n",
    "\n",
    "- `model`: The model resource.\n",
    "- `deployed_model_displayed_name`: The human readable name for the deployed model instance.\n",
    "- `machine_type`: The machine type for each VM instance.\n",
    "\n",
    "Do to the requirements to provision the resource, this may take upto a few minutes."
   ]
  },
  {
   "cell_type": "code",
   "execution_count": null,
   "metadata": {
    "id": "4e93b034a72f"
   },
   "outputs": [],
   "source": [
    "response = endpoint.deploy(\n",
    "    model=model,\n",
    "    deployed_model_display_name=f\"endpoint_course_1_4_{your_name}\",\n",
    "    machine_type=DEPLOY_COMPUTE,\n",
    ")\n",
    "\n",
    "print(endpoint)"
   ]
  },
  {
   "cell_type": "markdown",
   "metadata": {
    "id": "f1ae5a228adb"
   },
   "source": [
    "#### Get information on the deployed model\n",
    "\n",
    "You can get the deployment settings of the deployed model from the endpoint resource configuration data `gca_resource.deployed_models`. In this example, only one model is deployed -- hence the reference to the subscript `[0]`."
   ]
  },
  {
   "cell_type": "code",
   "execution_count": null,
   "metadata": {
    "id": "5864deb1fd90"
   },
   "outputs": [],
   "source": [
    "endpoint.gca_resource.deployed_models[0]"
   ]
  },
  {
   "cell_type": "markdown",
   "metadata": {
    "id": "3cf4e3ce528b"
   },
   "source": [
    "### Undeploy model resource from endpoint resource\n",
    "\n",
    "When a model resource is deployed to an endpoint resource, the deployed model resource instance is assigned an ID -- commonly referred to as the deployed model ID.\n",
    "\n",
    "You can undeploy a specific model resource instance with the `undeploy()` method, with the following parameters:\n",
    "\n",
    "- `deployed_model_id`: The ID assigned to the deployed model."
   ]
  },
  {
   "cell_type": "code",
   "execution_count": null,
   "metadata": {
    "id": "69557a907de7"
   },
   "outputs": [],
   "source": [
    "deployed_model_id = endpoint.gca_resource.deployed_models[0].id\n",
    "print(deployed_model_id)\n",
    "\n",
    "endpoint.undeploy(deployed_model_id)"
   ]
  },
  {
   "cell_type": "markdown",
   "metadata": {
    "id": "947614f2df2a"
   },
   "source": [
    "### Deleting a model version\n",
    "\n",
    "To delete a version of a model from the Vertex AI Model Registry, you use the `versioning_registry.delete_version()` method, with the following parameters:\n",
    "\n",
    "- `version`: Can be either the `version_id` or an alias from `version_alias`.\n",
    "\n",
    "*Note:* You cannot delete the default model version."
   ]
  },
  {
   "cell_type": "code",
   "execution_count": null,
   "metadata": {
    "id": "bacd4e6397b9"
   },
   "outputs": [],
   "source": [
    "# Deletes a specific model version, as long as it isn't the default version.\n",
    "model.versioning_registry.delete_version(...) # Choose the version\n",
    "\n",
    "\n",
    "# Verify that this version is deleted\n",
    "versions = model.versioning_registry.list_versions()\n",
    "for version in versions:\n",
    "    print(version)"
   ]
  },
  {
   "cell_type": "markdown",
   "metadata": {
    "id": "874ec6278563"
   },
   "source": [
    "### Deleting a model resource\n",
    "\n",
    "When you delete a model resource, all the associated versions are deleted."
   ]
  },
  {
   "cell_type": "code",
   "execution_count": null,
   "metadata": {
    "id": "48589df0c4a9"
   },
   "outputs": [],
   "source": [
    "model.delete()"
   ]
  }
 ],
 "metadata": {
  "colab": {
   "collapsed_sections": [],
   "name": "get_started_with_model_registry.ipynb",
   "toc_visible": true
  },
  "environment": {
   "kernel": "python3",
   "name": "tf2-gpu.2-17.m127",
   "type": "gcloud",
   "uri": "us-docker.pkg.dev/deeplearning-platform-release/gcr.io/tf2-gpu.2-17:m127"
  },
  "kernelspec": {
   "display_name": "Python 3 (Local)",
   "language": "python",
   "name": "python3"
  },
  "language_info": {
   "codemirror_mode": {
    "name": "ipython",
    "version": 3
   },
   "file_extension": ".py",
   "mimetype": "text/x-python",
   "name": "python",
   "nbconvert_exporter": "python",
   "pygments_lexer": "ipython3",
   "version": "3.10.16"
  }
 },
 "nbformat": 4,
 "nbformat_minor": 4
}
