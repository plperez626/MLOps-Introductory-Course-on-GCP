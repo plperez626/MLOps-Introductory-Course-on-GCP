{
 "cells": [
  {
   "cell_type": "markdown",
   "metadata": {
    "id": "61RBz8LLbxCR"
   },
   "source": [
    "# Flow ML Course\n",
    "\n",
    "## TP 3 : Artifacts\n",
    "\n",
    "L'objectif de ce notebook est d'apprendre à utiliser les artifacts sur Vertex AI\n",
    "\n",
    "Chaque pipeline créé à l'aide de Vertex AI Pipelines comporte plusieurs `artifacts` et paramètres associés, tels que des modèles, des ensembles de données, des modèles de pipeline et des composants. L'`artifact lineage` de pipeline comprend les facteurs qui ont contribué à sa création, ainsi que les artefacts et les métadonnées associées.\n",
    "\n",
    "En savoir plus [Artifact Lineage](https://cloud.google.com/vertex-ai/docs/pipelines/lineage#:~:text=The%20lineage%20of%20a%20pipeline%20artifact%20includes%20the,and%20evaluation%20data%20used%20to%20create%20the%20model)"
   ]
  },
  {
   "cell_type": "code",
   "execution_count": 4,
   "metadata": {
    "id": "Nqwi-5ufWp_B",
    "tags": []
   },
   "outputs": [],
   "source": [
    "PROJECT_ID = \"projet-ia-448520\" # \"[your-project-id]\"  # @param {type:\"string\"}\n",
    "LOCATION = \"us-central1\"  # @param {type:\"string\"}\n",
    "\n",
    "BUCKET_URI = \"gs://cours1bucket\" # f\"gs://your-bucket-name-{PROJECT_ID}-unique\"  # @param {type:\"string\"}\n",
    "\n",
    "SERVICE_ACCOUNT = \"837843744498-compute@developer.gserviceaccount.com\" # \"[your-service-account]\"  # @param {type:\"string\"}"
   ]
  },
  {
   "cell_type": "code",
   "execution_count": null,
   "metadata": {},
   "outputs": [],
   "source": [
    "import os\n",
    "import uuid\n",
    "\n",
    "import google.cloud.aiplatform as aiplatform\n",
    "\n",
    "aiplatform.init(project=PROJECT_ID, location=LOCATION, staging_bucket=BUCKET_URI)"
   ]
  },
  {
   "cell_type": "markdown",
   "metadata": {
    "id": "start_experiment"
   },
   "source": [
    "## Créer une experiment pour faire le suivi des méta-données\n",
    "\n",
    "Créer une experiment avec `init()` puis lancer une run dans l'experiment via `start_run()`.\n",
    "\n",
    "- `aiplatform.init()` - Créer une instance experiment\n",
    "- `aiplatform.start_run()` - Lancer une run spécifique dans l'experiment\n",
    "- `aiplatform.end_run()` - Termine une run. Nécessaire pour réaliser d'autres actions dans l'experiment"
   ]
  },
  {
   "cell_type": "markdown",
   "metadata": {
    "id": "a07fb4c47af4",
    "tags": []
   },
   "source": [
    "### Artifact Lineage\n",
    "\n",
    "Créeons un lineage pour une experiment fictive"
   ]
  },
  {
   "cell_type": "code",
   "execution_count": null,
   "metadata": {
    "id": "b7aea23dafbc",
    "tags": []
   },
   "outputs": [],
   "source": [
    "# Create experiment\n",
    "your_name = ...\n",
    "EXPERIMENT_NAME = f\"supaero-vertex-course-1-3-{your_name}\"\n",
    "aiplatform.init(experiment=EXPERIMENT_NAME)\n",
    "aiplatform.start_run(\"run-1\")"
   ]
  },
  {
   "cell_type": "markdown",
   "metadata": {
    "id": "355fed1a7b6d"
   },
   "source": [
    "### Dataset & Model Artifcats\n",
    "\n",
    "Créons des artifacts synthétiques pour simuler un lineage :\n",
    "\n",
    "- `dataset_artifact`: Dataset d'input de l'Experiment Run \n",
    "- `model_artifact`: Model d'output de l'Experiment Run "
   ]
  },
  {
   "cell_type": "code",
   "execution_count": 27,
   "metadata": {
    "id": "4c1faeec89bb",
    "tags": []
   },
   "outputs": [],
   "source": [
    "DATASET_URI = \"gs://example/dataset.csv\"\n",
    "MODEL_URI = \"gs://example/saved_model.pb\"\n",
    "\n",
    "dataset_artifact = aiplatform.Artifact.create(\n",
    "    schema_title=\"system.Dataset\", display_name=\"example_dataset\", uri=DATASET_URI\n",
    ")\n",
    "\n",
    "model_artifact = aiplatform.Artifact.create(\n",
    "    schema_title=\"system.Model\", display_name=\"example_modl\", uri=MODEL_URI\n",
    ")"
   ]
  },
  {
   "cell_type": "markdown",
   "metadata": {
    "id": "7f6cc9dbaa2e"
   },
   "source": [
    "## Artifact lineage\n",
    "\n",
    "Procédure :\n",
    "- Initialiser l'éxécution : `start_execution()`\n",
    "- Attacher à la run l'input `assign_input_artifacts()` \n",
    "- Attacher à la run l'output `assign_output_artifacts()` \n"
   ]
  },
  {
   "cell_type": "code",
   "execution_count": 28,
   "metadata": {
    "id": "9170906b09f9",
    "tags": []
   },
   "outputs": [],
   "source": [
    "with aiplatform.start_execution(\n",
    "    schema_title=\"system.ContainerExecution\", display_name=\"example_training\"\n",
    ") as execution:\n",
    "    execution.assign_input_artifacts([dataset_artifact])\n",
    "\n",
    "    # Log the params you expect\n",
    "    ...\n",
    "    \n",
    "    # Log the metrics you expect\n",
    "    ...\n",
    "\n",
    "    execution.assign_output_artifacts([model_artifact])\n",
    "\n",
    "    aiplatform.log_metrics(\n",
    "        {\"lineage\": execution.get_output_artifacts()[0].lineage_console_uri}\n",
    "    )"
   ]
  },
  {
   "cell_type": "markdown",
   "metadata": {
    "id": "15f847929914"
   },
   "source": [
    "## Extraire les résultats d'un Experiment\n",
    "\n",
    "Pour terminer une expirement : utiliser `end_run()` \n",
    "\n",
    "Ensuite, vous pouvez récupérer la plupart des informations de l'experiment via : `get_experiment_df()` \n"
   ]
  },
  {
   "cell_type": "code",
   "execution_count": null,
   "metadata": {
    "id": "0cfa26496ea9",
    "tags": []
   },
   "outputs": [],
   "source": [
    "aiplatform.end_run()\n",
    "\n",
    "experiment_df = aiplatform.get_experiment_df()\n",
    "experiment_df = experiment_df[experiment_df.experiment_name == EXPERIMENT_NAME]\n",
    "print(experiment_df.T)"
   ]
  },
  {
   "cell_type": "markdown",
   "metadata": {
    "id": "994b3dab8769"
   },
   "source": [
    "## Visualiser l'Artifact Lineage\n",
    "\n",
    "Ouvrez le lien suivant pour suivre l'artifcat lineage"
   ]
  },
  {
   "cell_type": "code",
   "execution_count": null,
   "metadata": {
    "id": "b85013ec6f11",
    "tags": []
   },
   "outputs": [],
   "source": [
    "print(\n",
    "    \"Open the following link:\", execution.get_output_artifacts()[0].lineage_console_uri\n",
    ")"
   ]
  },
  {
   "cell_type": "markdown",
   "metadata": {
    "id": "80f8e272bf3f"
   },
   "source": [
    "#### Supprimer l'Artifact lineage\n"
   ]
  },
  {
   "cell_type": "code",
   "execution_count": null,
   "metadata": {
    "id": "ae66f78a233f",
    "tags": []
   },
   "outputs": [],
   "source": [
    "try:\n",
    "    dataset_artifact.delete()\n",
    "except Exception as e:\n",
    "    print(e)\n",
    "try:\n",
    "    model_artifact.delete()\n",
    "except Exception as e:\n",
    "    print(e)"
   ]
  },
  {
   "cell_type": "markdown",
   "metadata": {
    "id": "35b899773315"
   },
   "source": [
    "#### Supprimer l'Experiment\n"
   ]
  },
  {
   "cell_type": "code",
   "execution_count": null,
   "metadata": {
    "id": "f1020119d742",
    "tags": []
   },
   "outputs": [],
   "source": [
    "try:\n",
    "    exp.delete()\n",
    "except Exception as e:\n",
    "    print(e)"
   ]
  }
 ],
 "metadata": {
  "colab": {
   "name": "get_started_with_vertex_experiments.ipynb",
   "toc_visible": true
  },
  "environment": {
   "kernel": "python3",
   "name": "tf2-gpu.2-17.m127",
   "type": "gcloud",
   "uri": "us-docker.pkg.dev/deeplearning-platform-release/gcr.io/tf2-gpu.2-17:m127"
  },
  "kernelspec": {
   "display_name": "Python 3 (Local)",
   "language": "python",
   "name": "python3"
  },
  "language_info": {
   "codemirror_mode": {
    "name": "ipython",
    "version": 3
   },
   "file_extension": ".py",
   "mimetype": "text/x-python",
   "name": "python",
   "nbconvert_exporter": "python",
   "pygments_lexer": "ipython3",
   "version": "3.10.16"
  }
 },
 "nbformat": 4,
 "nbformat_minor": 4
}
