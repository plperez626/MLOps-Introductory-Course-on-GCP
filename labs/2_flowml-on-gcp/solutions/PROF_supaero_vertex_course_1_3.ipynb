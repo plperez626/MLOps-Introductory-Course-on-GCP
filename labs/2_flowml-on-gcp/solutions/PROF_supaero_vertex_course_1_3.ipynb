{
 "cells": [
  {
   "cell_type": "markdown",
   "metadata": {
    "id": "61RBz8LLbxCR"
   },
   "source": [
    "# Flow ML Course\n",
    "\n",
    "## TP 3 : Vertex AI  SDK Python\n",
    "\n",
    "L'objectif de ce notebook est d'apprendre à utiliser les experiments de Flow ML.\n",
    "\n",
    "Les Experiments permettent de logger les méta paramètres des architectures des modèles et leurs métriques. On peut regrouper les différents entrainements sous une experiment pour les comparer.\n",
    "\n",
    "\n",
    "En savoir plus [Experiments]( https://cloud.google.com/vertex-ai/docs/experiments/intro-vertex-ai-experiments).\n",
    "\n",
    "En savoir plus [Vertex ML Metadata](https://cloud.google.com/vertex-ai/docs/ml-metadata/introduction)."
   ]
  },
  {
   "cell_type": "code",
   "execution_count": 4,
   "metadata": {
    "id": "Nqwi-5ufWp_B",
    "tags": []
   },
   "outputs": [],
   "source": [
    "PROJECT_ID = \"projet-ia-448520\" # \"[your-project-id]\"  # @param {type:\"string\"}\n",
    "LOCATION = \"us-central1\"  # @param {type:\"string\"}\n",
    "\n",
    "BUCKET_URI = \"gs://cours1bucket\" # f\"gs://your-bucket-name-{PROJECT_ID}-unique\"  # @param {type:\"string\"}\n",
    "\n",
    "SERVICE_ACCOUNT = \"837843744498-compute@developer.gserviceaccount.com\" # \"[your-service-account]\"  # @param {type:\"string\"}"
   ]
  },
  {
   "cell_type": "code",
   "execution_count": null,
   "metadata": {},
   "outputs": [],
   "source": [
    "import os\n",
    "import uuid\n",
    "\n",
    "import google.cloud.aiplatform as aiplatform\n",
    "\n",
    "aiplatform.init(project=PROJECT_ID, location=LOCATION, staging_bucket=BUCKET_URI)"
   ]
  },
  {
   "cell_type": "markdown",
   "metadata": {
    "id": "start_experiment"
   },
   "source": [
    "#### Create experiment for tracking training related metadata\n",
    "\n",
    "First, you create an experiment using the `init()` method and then initialize a run within the experiment using `start_run()`.\n",
    "\n",
    "- `aiplatform.init()` - Create an experiment instance\n",
    "- `aiplatform.start_run()` - Track a specific run within the experiment."
   ]
  },
  {
   "cell_type": "markdown",
   "metadata": {
    "id": "a07fb4c47af4",
    "tags": []
   },
   "source": [
    "### Create artifact lineage in experiment runs\n",
    "\n",
    "Créeons un lineage pour une experiment fictive"
   ]
  },
  {
   "cell_type": "code",
   "execution_count": null,
   "metadata": {
    "id": "b7aea23dafbc",
    "tags": []
   },
   "outputs": [],
   "source": [
    "# Create experiment\n",
    "your_name = \"hugo\"\n",
    "EXPERIMENT_NAME = f\"supaero-vertex-course-1-3-{your_name}\"\n",
    "aiplatform.init(experiment=EXPERIMENT_NAME)\n",
    "aiplatform.start_run(\"run-1\")"
   ]
  },
  {
   "cell_type": "markdown",
   "metadata": {
    "id": "355fed1a7b6d"
   },
   "source": [
    "## Create Artifcacts Create a dataset and model artifacts\n",
    "\n",
    "Créons des artifacts synthétiques pour simuler un lineage :\n",
    "\n",
    "- `dataset_artifact`: Dataset d'input de l'Experiment Run \n",
    "- `model_artifact`: Model d'output de l'Experiment Run "
   ]
  },
  {
   "cell_type": "code",
   "execution_count": 27,
   "metadata": {
    "id": "4c1faeec89bb",
    "tags": []
   },
   "outputs": [],
   "source": [
    "DATASET_URI = \"gs://example/dataset.csv\"\n",
    "MODEL_URI = \"gs://example/saved_model.pb\"\n",
    "\n",
    "dataset_artifact = aiplatform.Artifact.create(\n",
    "    schema_title=\"system.Dataset\", display_name=\"example_dataset\", uri=DATASET_URI\n",
    ")\n",
    "\n",
    "model_artifact = aiplatform.Artifact.create(\n",
    "    schema_title=\"system.Model\", display_name=\"example_modl\", uri=MODEL_URI\n",
    ")"
   ]
  },
  {
   "cell_type": "markdown",
   "metadata": {
    "id": "7f6cc9dbaa2e"
   },
   "source": [
    "## Artifact lineage\n",
    "\n",
    "Procédure :\n",
    "- initialiser l'éxécution : `start_execution()`\n",
    "- Attacher à la run l'input `assign_input_artifacts()` \n",
    "- Attacher à la run l'output `assign_output_artifacts()` \n"
   ]
  },
  {
   "cell_type": "code",
   "execution_count": 28,
   "metadata": {
    "id": "9170906b09f9",
    "tags": []
   },
   "outputs": [],
   "source": [
    "with aiplatform.start_execution(\n",
    "    schema_title=\"system.ContainerExecution\", display_name=\"example_training\"\n",
    ") as execution:\n",
    "    execution.assign_input_artifacts([dataset_artifact])\n",
    "\n",
    "    # Log the params you expect\n",
    "    hyperparams = {}\n",
    "    hyperparams[\"batch_size\"] = 64\n",
    "    hyperparams[\"learning_rate\"] = .01\n",
    "    aiplatform.log_params(hyperparams)\n",
    "    \n",
    "    # Log the metrics you expect\n",
    "    metrics = {}\n",
    "    metrics[\"test_acc\"] = 96.7\n",
    "    metrics[\"train_acc\"] = 97.1\n",
    "    aiplatform.log_metrics(metrics)\n",
    "    \n",
    "\n",
    "    execution.assign_output_artifacts([model_artifact])\n",
    "\n",
    "    aiplatform.log_metrics(\n",
    "        {\"lineage\": execution.get_output_artifacts()[0].lineage_console_uri}\n",
    "    )"
   ]
  },
  {
   "cell_type": "markdown",
   "metadata": {
    "id": "15f847929914"
   },
   "source": [
    "## Extraire les résultats d'un Experiment\n",
    "\n",
    "Pour terminer une expirement : utiliser `end_run()` \n",
    "\n",
    "Ensuite, vous pouvez récupérer la plupart des informations de l'experiment via : `get_experiment_df()` \n"
   ]
  },
  {
   "cell_type": "code",
   "execution_count": 29,
   "metadata": {
    "id": "0cfa26496ea9",
    "tags": []
   },
   "outputs": [
    {
     "name": "stdout",
     "output_type": "stream",
     "text": [
      "                                                                 0\n",
      "experiment_name       example-81009a18-e9fa-11ef-8f5e-42010a800004\n",
      "run_name                                                     run-1\n",
      "run_type                                      system.ExperimentRun\n",
      "state                                                     COMPLETE\n",
      "param.units                                                  256.0\n",
      "metric.acc                                                    96.8\n",
      "metric.lineage   https://console.cloud.google.com/vertex-ai/loc...\n"
     ]
    }
   ],
   "source": [
    "aiplatform.end_run()\n",
    "\n",
    "experiment_df = aiplatform.get_experiment_df()\n",
    "experiment_df = experiment_df[experiment_df.experiment_name == EXPERIMENT_NAME]\n",
    "print(experiment_df.T)"
   ]
  },
  {
   "cell_type": "markdown",
   "metadata": {
    "id": "994b3dab8769"
   },
   "source": [
    "## Visualiser l'Artifact Lineage\n",
    "\n",
    "Ouvrez le lien suivant pour suivre l'artifcat lineage"
   ]
  },
  {
   "cell_type": "code",
   "execution_count": 30,
   "metadata": {
    "id": "b85013ec6f11",
    "tags": []
   },
   "outputs": [
    {
     "name": "stdout",
     "output_type": "stream",
     "text": [
      "Open the following link: https://console.cloud.google.com/vertex-ai/locations/us-central1/metadata-stores/default/artifacts/e1ceca8d-d8f3-4abc-ab72-d98beda9b32d?project=projet-ia-448520\n"
     ]
    }
   ],
   "source": [
    "print(\n",
    "    \"Open the following link:\", execution.get_output_artifacts()[0].lineage_console_uri\n",
    ")"
   ]
  },
  {
   "cell_type": "markdown",
   "metadata": {
    "id": "80f8e272bf3f"
   },
   "source": [
    "#### Supprimer l'Artifact lineage\n"
   ]
  },
  {
   "cell_type": "code",
   "execution_count": null,
   "metadata": {
    "id": "ae66f78a233f",
    "tags": []
   },
   "outputs": [],
   "source": [
    "try:\n",
    "    dataset_artifact.delete()\n",
    "except Exception as e:\n",
    "    print(e)\n",
    "try:\n",
    "    model_artifact.delete()\n",
    "except Exception as e:\n",
    "    print(e)"
   ]
  },
  {
   "cell_type": "markdown",
   "metadata": {
    "id": "35b899773315"
   },
   "source": [
    "#### Supprimer l'Experiment\n"
   ]
  },
  {
   "cell_type": "code",
   "execution_count": null,
   "metadata": {
    "id": "f1020119d742",
    "tags": []
   },
   "outputs": [],
   "source": [
    "try:\n",
    "    exp.delete()\n",
    "except Exception as e:\n",
    "    print(e)"
   ]
  }
 ],
 "metadata": {
  "colab": {
   "name": "get_started_with_vertex_experiments.ipynb",
   "toc_visible": true
  },
  "environment": {
   "kernel": "python3",
   "name": "tf2-gpu.2-17.m127",
   "type": "gcloud",
   "uri": "us-docker.pkg.dev/deeplearning-platform-release/gcr.io/tf2-gpu.2-17:m127"
  },
  "kernelspec": {
   "display_name": "Python 3 (Local)",
   "language": "python",
   "name": "python3"
  },
  "language_info": {
   "codemirror_mode": {
    "name": "ipython",
    "version": 3
   },
   "file_extension": ".py",
   "mimetype": "text/x-python",
   "name": "python",
   "nbconvert_exporter": "python",
   "pygments_lexer": "ipython3",
   "version": "3.10.16"
  }
 },
 "nbformat": 4,
 "nbformat_minor": 4
}
