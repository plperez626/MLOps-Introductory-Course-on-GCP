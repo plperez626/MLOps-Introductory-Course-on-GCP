{
 "cells": [
  {
   "cell_type": "markdown",
   "metadata": {},
   "source": [
    "# Flow ML Course\n",
    "\n",
    "## TP 2 : Vertex AI  SDK Python\n",
    "\n",
    "L'objectif de ce notebook est d'apprendre à utiliser les experiments de Flow ML.\n",
    "\n",
    "Les Experiments permettent de logger les méta paramètres des architectures des modèles et leurs métriques. On peut regrouper les différents entrainements sous une experiment pour les comparer.\n",
    "\n",
    "\n",
    "En savoir plus [Experiments]( https://cloud.google.com/vertex-ai/docs/experiments/intro-vertex-ai-experiments).\n",
    "\n",
    "En savoir plus [Vertex ML Metadata](https://cloud.google.com/vertex-ai/docs/ml-metadata/introduction)."
   ]
  },
  {
   "cell_type": "markdown",
   "metadata": {},
   "source": [
    "## Initialisation"
   ]
  },
  {
   "cell_type": "code",
   "execution_count": null,
   "metadata": {
    "id": "Nqwi-5ufWp_B",
    "tags": []
   },
   "outputs": [],
   "source": [
    "PROJECT_ID = \"projet-ia-448520\" # \"[your-project-id]\"  # @param {type:\"string\"}\n",
    "LOCATION = \"us-central1\"  # @param {type:\"string\"}\n",
    "\n",
    "BUCKET_URI = \"gs://cours1bucket\" # f\"gs://your-bucket-name-{PROJECT_ID}-unique\"  # @param {type:\"string\"}\n",
    "\n",
    "SERVICE_ACCOUNT = \"837843744498-compute@developer.gserviceaccount.com\" # \"[your-service-account]\"  # @param {type:\"string\"}"
   ]
  },
  {
   "cell_type": "code",
   "execution_count": null,
   "metadata": {
    "id": "import_aip:mbsdk",
    "tags": []
   },
   "outputs": [],
   "source": [
    "import os\n",
    "import uuid\n",
    "\n",
    "import google.cloud.aiplatform as aiplatform"
   ]
  },
  {
   "cell_type": "markdown",
   "metadata": {
    "id": "init_aip:mbsdk,region"
   },
   "source": [
    "Pour ce TP nous allons utiliser le SDK python de Vertex AI. L'objet central de ce module est : aiplatform\n",
    "\n",
    "Initialisons le :"
   ]
  },
  {
   "cell_type": "code",
   "execution_count": null,
   "metadata": {
    "id": "init_aip:mbsdk,region",
    "tags": []
   },
   "outputs": [],
   "source": [
    "aiplatform.init(project=PROJECT_ID, location=LOCATION, staging_bucket=BUCKET_URI)"
   ]
  },
  {
   "cell_type": "markdown",
   "metadata": {
    "id": "start_experiment"
   },
   "source": [
    "## Créer une Experiment\n",
    "\n",
    "\n",
    "\n",
    "- `aiplatform.init()` - Créer une experiment\n",
    "- `aiplatform.start_run()` - Tracker un run spécifique de l'experiement"
   ]
  },
  {
   "cell_type": "code",
   "execution_count": null,
   "metadata": {
    "id": "1ed46e349cf2",
    "tags": []
   },
   "outputs": [],
   "source": [
    "# Specify a name for the experiment\n",
    "your_name = ...\n",
    "EXPERIMENT_NAME = f\"supaero-vertex-course-1-2_{your_name}\"\n"
   ]
  },
  {
   "cell_type": "code",
   "execution_count": null,
   "metadata": {
    "id": "start_experiment",
    "tags": []
   },
   "outputs": [],
   "source": [
    "# Create experiment\n",
    "aiplatform.init(experiment=EXPERIMENT_NAME)\n",
    "aiplatform.start_run(\"run-1\")"
   ]
  },
  {
   "cell_type": "markdown",
   "metadata": {
    "id": "experiment_log_params"
   },
   "source": [
    "## Logger les parameters d'une experiment\n",
    "\n",
    "Lors d'un entrainement, à un dataset spécifique et une architecture de modèle, plusieurs entrainement peuvent être fait pour tester les différentes configurations possibles :\n",
    "\n",
    "\n",
    "- Traitement Données\n",
    "    - Split Dataset\n",
    "    - Sampling, Boosting, under/over sampling dataset\n",
    "- Metaparameters\n",
    "    - Profondeur et taille des layers par exemple\n",
    "- Hyperparameters:\n",
    "    - batch size\n",
    "    - learning rate\n",
    "\n",
    "On utilisera la méthode suivante pour stocker ces informations sous forme de key-value `log_params()`"
   ]
  },
  {
   "cell_type": "code",
   "execution_count": null,
   "metadata": {},
   "outputs": [],
   "source": [
    "metaparams = {}\n",
    "metaparams[\"units\"] = 128\n",
    "aiplatform.log_params(metaparams)\n",
    "\n",
    "hyperparams = {}\n",
    "hyperparams[\"epochs\"] = 100\n",
    "hyperparams[\"batch_size\"] = 32\n",
    "hyperparams[\"learning_rate\"] = 0.01\n",
    "aiplatform.log_params(hyperparams)"
   ]
  },
  {
   "cell_type": "markdown",
   "metadata": {
    "id": "experiment_log_metrics"
   },
   "source": [
    "## Logger les métriques \n",
    "\n",
    "A la fin de l'entrainement, on peut logger les performances du modèle via :\n",
    "- métriques d'évaluation\n",
    "- hyperparameter search selection\n",
    "- temps d'entrainement \n",
    "- early stop trigger\n",
    "\n",
    "On utilisera la méthode suivante pour stocker ces informations sous forme de key-value `log_metrics()`"
   ]
  },
  {
   "cell_type": "code",
   "execution_count": null,
   "metadata": {
    "id": "experiment_log_metrics",
    "tags": []
   },
   "outputs": [],
   "source": [
    "metrics = {}\n",
    "metrics[\"test_acc\"] = 93.7\n",
    "metrics[\"train_acc\"] = 97.3\n",
    "aiplatform.log_metrics(metrics)"
   ]
  },
  {
   "cell_type": "markdown",
   "metadata": {
    "id": "get_experiment"
   },
   "source": [
    "## Extraire les résultats d'un Experiment\n",
    "\n",
    "Pour terminer une expirement : utiliser `end_run()` \n",
    "\n",
    "Ensuite, vous pouvez récupérer la plupart des informations de l'experiment via : `get_experiment_df()` "
   ]
  },
  {
   "cell_type": "code",
   "execution_count": null,
   "metadata": {
    "id": "get_experiment",
    "tags": []
   },
   "outputs": [],
   "source": [
    "aiplatform.end_run()\n",
    "\n",
    "experiment_df = aiplatform.get_experiment_df()\n",
    "experiment_df = experiment_df[experiment_df.experiment_name == EXPERIMENT_NAME]\n",
    "print(experiment_df.T)"
   ]
  },
  {
   "cell_type": "markdown",
   "metadata": {
    "id": "2bcaf3e3ddff"
   },
   "source": [
    "### A vous de jouer\n",
    "\n",
    "Logger une nouvelle run sur la même experiement.\n",
    "\n",
    "Changer certains paramètres dans le but d'améliorer un hypothétique entrainement.\n",
    "\n",
    "Modifier l'accuracy pour éviter l'overfitting.\n"
   ]
  },
  {
   "cell_type": "code",
   "execution_count": null,
   "metadata": {
    "id": "d7c1a839683b",
    "tags": []
   },
   "outputs": [],
   "source": [
    "aiplatform.start_run(\"run-2\")\n",
    "\n",
    "metaparams = {}\n",
    "metaparams[\"units\"] = ...  # changed the value\n",
    "aiplatform.log_params(metaparams)\n",
    "\n",
    "hyperparams = {}\n",
    "hyperparams[\"epochs\"] = ...\n",
    "hyperparams[\"batch_size\"] = ...\n",
    "hyperparams[\"learning_rate\"] = ...\n",
    "aiplatform.log_params(hyperparams)\n",
    "\n",
    "metrics = {}\n",
    "metrics[\"test_acc\"] = ...\n",
    "metrics[\"train_acc\"] = ...\n",
    "aiplatform.log_metrics(metrics)"
   ]
  },
  {
   "cell_type": "markdown",
   "metadata": {
    "id": "0d2619bbc04a"
   },
   "source": [
    "## Comparer une Experimenet \n",
    "\n",
    "Explorer la pandas.DataFrame des résultats de l'experiment via  `get_experiment_df()` "
   ]
  },
  {
   "cell_type": "code",
   "execution_count": null,
   "metadata": {
    "id": "7ddb4e17fe92",
    "tags": []
   },
   "outputs": [],
   "source": [
    "aiplatform.end_run()\n",
    "\n",
    "experiment_df = aiplatform.get_experiment_df()\n",
    "experiment_df = experiment_df[experiment_df.experiment_name == EXPERIMENT_NAME]\n",
    "print(experiment_df.T)"
   ]
  },
  {
   "cell_type": "markdown",
   "metadata": {
    "id": "5328eb24f6a6"
   },
   "source": [
    "#### Supprimer l'Experiment\n"
   ]
  },
  {
   "cell_type": "code",
   "execution_count": null,
   "metadata": {
    "id": "cleanup:mbsdk",
    "tags": []
   },
   "outputs": [],
   "source": [
    "exp = aiplatform.Experiment(EXPERIMENT_NAME)\n",
    "try:\n",
    "    exp.delete()\n",
    "except Exception as e:\n",
    "    print(e)"
   ]
  },
  {
   "cell_type": "markdown",
   "metadata": {},
   "source": [
    "## Your Turn\n",
    "\n",
    "Trouver la meilleur run de l'experiemnt supaero-vertex-course-1-1 à l'aide du SDK Vertex AI Python"
   ]
  },
  {
   "cell_type": "code",
   "execution_count": null,
   "metadata": {},
   "outputs": [],
   "source": []
  }
 ],
 "metadata": {
  "colab": {
   "name": "get_started_with_vertex_experiments.ipynb",
   "toc_visible": true
  },
  "environment": {
   "kernel": "python3",
   "name": "tf2-gpu.2-17.m127",
   "type": "gcloud",
   "uri": "us-docker.pkg.dev/deeplearning-platform-release/gcr.io/tf2-gpu.2-17:m127"
  },
  "kernelspec": {
   "display_name": "Python 3 (Local)",
   "language": "python",
   "name": "python3"
  },
  "language_info": {
   "codemirror_mode": {
    "name": "ipython",
    "version": 3
   },
   "file_extension": ".py",
   "mimetype": "text/x-python",
   "name": "python",
   "nbconvert_exporter": "python",
   "pygments_lexer": "ipython3",
   "version": "3.10.16"
  }
 },
 "nbformat": 4,
 "nbformat_minor": 4
}
