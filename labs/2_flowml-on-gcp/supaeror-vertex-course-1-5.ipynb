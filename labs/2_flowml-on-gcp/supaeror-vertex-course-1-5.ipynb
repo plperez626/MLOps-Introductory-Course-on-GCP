{
 "cells": [
  {
   "cell_type": "code",
   "execution_count": null,
   "metadata": {
    "id": "ur8xi4C7S06n"
   },
   "outputs": [],
   "source": [
    "# Copyright 2022 Google LLC\n",
    "#\n",
    "# Licensed under the Apache License, Version 2.0 (the \"License\");\n",
    "# you may not use this file except in compliance with the License.\n",
    "# You may obtain a copy of the License at\n",
    "#\n",
    "#     https://www.apache.org/licenses/LICENSE-2.0\n",
    "#\n",
    "# Unless required by applicable law or agreed to in writing, software\n",
    "# distributed under the License is distributed on an \"AS IS\" BASIS,\n",
    "# WITHOUT WARRANTIES OR CONDITIONS OF ANY KIND, either express or implied.\n",
    "# See the License for the specific language governing permissions and\n",
    "# limitations under the License."
   ]
  },
  {
   "cell_type": "markdown",
   "metadata": {
    "id": "JAPoU8Sm5E6e"
   },
   "source": [
    "# Vertex AI TensorBoard hyperparameter tuning with the HParams Dashboard\n",
    "\n",
    "<table align=\"left\">\n",
    "  <td style=\"text-align: center\">\n",
    "    <a href=\"https://colab.research.google.com/github/GoogleCloudPlatform/vertex-ai-samples/blob/main/notebooks/official/tensorboard/tensorboard_hyperparameter_tuning_with_hparams.ipynb\">\n",
    "      <img src=\"https://cloud.google.com/ml-engine/images/colab-logo-32px.png\" alt=\"Google Colaboratory logo\"><br> Open in Colab\n",
    "    </a>\n",
    "  </td>\n",
    "  <td style=\"text-align: center\">\n",
    "    <a href=\"https://console.cloud.google.com/vertex-ai/colab/import/https:%2F%2Fraw.githubusercontent.com%2FGoogleCloudPlatform%2Fvertex-ai-samples%2Fmain%2Fnotebooks%2Fofficial%2Ftensorboard%2Ftensorboard_hyperparameter_tuning_with_hparams.ipynb\">\n",
    "      <img width=\"32px\" src=\"https://cloud.google.com/ml-engine/images/colab-enterprise-logo-32px.png\" alt=\"Google Cloud Colab Enterprise logo\"><br> Open in Colab Enterprise\n",
    "    </a>\n",
    "  </td>    \n",
    "  <td style=\"text-align: center\">\n",
    "    <a href=\"https://console.cloud.google.com/vertex-ai/workbench/deploy-notebook?download_url=https://raw.githubusercontent.com/GoogleCloudPlatform/vertex-ai-samples/main/notebooks/official/tensorboard/tensorboard_hyperparameter_tuning_with_hparams.ipynb\">\n",
    "      <img src=\"https://lh3.googleusercontent.com/UiNooY4LUgW_oTvpsNhPpQzsstV5W8F7rYgxgGBD85cWJoLmrOzhVs_ksK_vgx40SHs7jCqkTkCk=e14-rj-sc0xffffff-h130-w32\" alt=\"Vertex AI logo\"><br> Open in Workbench\n",
    "    </a>\n",
    "  </td>\n",
    "  <td style=\"text-align: center\">\n",
    "    <a href=\"https://github.com/GoogleCloudPlatform/vertex-ai-samples/blob/main/notebooks/official/tensorboard/tensorboard_hyperparameter_tuning_with_hparams.ipynb\">\n",
    "      <img src=\"https://cloud.google.com/ml-engine/images/github-logo-32px.png\" alt=\"GitHub logo\"><br> View on GitHub\n",
    "    </a>\n",
    "  </td>\n",
    "</table>"
   ]
  },
  {
   "cell_type": "markdown",
   "metadata": {
    "id": "tvgnzT1CKxrO"
   },
   "source": [
    "## Overview\n",
    "\n",
    "In this tutorial, you learn how to log hyperparameter experiment results in TensorFlow and visualize the results in TensorBoard's Hparams dashboard.\n",
    "\n",
    "**_NOTE_**: This notebook is tested in the following environments:\n",
    "\n",
    "* Python version = 3.9"
   ]
  },
  {
   "cell_type": "markdown",
   "metadata": {
    "id": "d975e698c9a4"
   },
   "source": [
    "### Objective\n",
    "\n",
    "In this notebook, you train a model and perform hyperparameter tuning using tensorflow. You also log the hyperparameters and metrics in Vertex AI TensorBoard.\n",
    "\n",
    "This tutorial uses the following Vertex AI services and resources:\n",
    "\n",
    "- Vertex AI TensorBoard\n",
    "- Vertex AI Experiments\n",
    "\n",
    "The steps performed include:\n",
    "\n",
    "* Adapt TensorFlow runs to log hyperparameters and metrics.\n",
    "* Start runs and log them all under one parent directory.\n",
    "* Visualize the results in TensorBoard's HParams dashboard."
   ]
  },
  {
   "cell_type": "markdown",
   "metadata": {
    "id": "08d289fa873f"
   },
   "source": [
    "### Dataset\n",
    "\n",
    "This tutorial uses the [FashionMNIST](https://github.com/zalandoresearch/fashion-mnist) dataset.\n"
   ]
  },
  {
   "cell_type": "markdown",
   "metadata": {
    "id": "aed92deeb4a0"
   },
   "source": [
    "### Costs\n",
    "\n",
    "This tutorial uses the following billable components of Google Cloud:\n",
    "\n",
    "* Vertex AI\n",
    "\n",
    "Learn about [Vertex AI pricing](https://cloud.google.com/vertex-ai/pricing),\n",
    "and use the [Pricing Calculator](https://cloud.google.com/products/calculator/)\n",
    "to generate a cost estimate based on your projected usage."
   ]
  },
  {
   "cell_type": "markdown",
   "metadata": {
    "id": "f0316df526f8"
   },
   "source": [
    "## Get started"
   ]
  },
  {
   "cell_type": "markdown",
   "metadata": {
    "id": "i7EUnXsZhAGF"
   },
   "source": [
    "### Install Vertex AI SDK for Python and other required packages\n"
   ]
  },
  {
   "cell_type": "code",
   "execution_count": null,
   "metadata": {
    "id": "th7tWguZiSN2"
   },
   "outputs": [],
   "source": [
    "! pip3 install --upgrade --quiet google-cloud-aiplatform[tensorboard] \\\n",
    "                                 tensorflow==2.15.1"
   ]
  },
  {
   "cell_type": "markdown",
   "metadata": {
    "id": "WReHDGG5g0XY"
   },
   "source": [
    "### Set Google Cloud project information and initialize Vertex AI SDK for Python\n",
    "\n",
    "To get started using Vertex AI, you must have an existing Google Cloud project and [enable the Vertex AI API](https://console.cloud.google.com/flows/enableapi?apiid=aiplatform.googleapis.com). Learn more about [setting up a project and a development environment](https://cloud.google.com/vertex-ai/docs/start/cloud-environment)."
   ]
  },
  {
   "cell_type": "code",
   "execution_count": null,
   "metadata": {
    "id": "oM1iC_MfAts1"
   },
   "outputs": [],
   "source": [
    "PROJECT_ID = \"projet-ia-448520\"  # @param {type:\"string\"}\n",
    "LOCATION = \"us-central1\"  # @param {type:\"string\"}\n",
    "\n",
    "\n",
    "from google.cloud import aiplatform\n",
    "\n",
    "aiplatform.init(project=PROJECT_ID, location=LOCATION)"
   ]
  },
  {
   "cell_type": "markdown",
   "metadata": {
    "id": "bea5ee30d9ca"
   },
   "source": [
    "## What is Vertex AI TensorBoard?\n",
    "\n",
    "Vertex AI TensorBoard is an enterprise-ready managed\n",
    "version of [Open source TensorBoard](https://www.tensorflow.org/tensorboard/get_started)\n",
    "(TB), which is a Google open source project for machine learning experiment\n",
    "visualization.\n",
    "\n",
    "Vertex AI TensorBoard provides various detailed visualizations, including the following:\n",
    "\n",
    "*   tracking and visualizing metrics, such as loss and accuracy over time,\n",
    "*   visualizing model computational graphs (ops and layers),\n",
    "*   viewing histograms of weights, biases, or other tensors as they change over time,\n",
    "*   projecting embeddings to a lower dimensional space,\n",
    "*   displaying image, text, and audio samples.\n",
    "\n",
    "In addition to the powerful visualizations from\n",
    "TensorBoard, Vertex AI TensorBoard provides the following benefits:\n",
    "\n",
    "*  a persistent, shareable link to your experiment's dashboard,\n",
    "\n",
    "*  a searchable list of all experiments in a project,\n",
    "\n",
    "*  integrations with Vertex AI services for model training,\n",
    "\n",
    "*  enterprise-grade security, privacy, and compliance.\n",
    "\n",
    "With Vertex AI TensorBoard, you can track, visualize, and compare\n",
    "ML experiments and share them with your team.\n",
    "\n",
    "Learn more about [Vertex AI TensorBoard](https://cloud.google.com/vertex-ai/docs/experiments/tensorboard-introduction)."
   ]
  },
  {
   "cell_type": "markdown",
   "metadata": {
    "id": "WjWD61gONRkw"
   },
   "source": [
    "## Load TensorBoard and TensorFlow components\n",
    "\n",
    "Load the TensorBoard notebook extension and import TensorFlow and the TensorBoard HParams plugin.\n"
   ]
  },
  {
   "cell_type": "code",
   "execution_count": null,
   "metadata": {
    "id": "KSayPNqxfJC_"
   },
   "outputs": [],
   "source": [
    "# Load the TensorBoard notebook extension\n",
    "%load_ext tensorboard\n",
    "\n",
    "# Clear any logs from previous runs\n",
    "!rm -rf ./logs/\n",
    "\n",
    "# Import TensorFlow and the TensorBoard HParams plugin\n",
    "import tensorflow as tf\n",
    "from tensorboard.plugins.hparams import api as hp"
   ]
  },
  {
   "cell_type": "markdown",
   "metadata": {
    "id": "KJ4zE7rYfcvb"
   },
   "source": [
    "## Download dataset\n",
    "\n",
    "Download the [FashionMNIST](https://github.com/zalandoresearch/fashion-mnist) dataset and scale it."
   ]
  },
  {
   "cell_type": "code",
   "execution_count": null,
   "metadata": {
    "id": "vHME9wnnfiMr"
   },
   "outputs": [],
   "source": [
    "fashion_mnist = tf.keras.datasets.fashion_mnist\n",
    "\n",
    "(x_train, y_train), (x_test, y_test) = fashion_mnist.load_data()\n",
    "\n"
   ]
  },
  {
   "cell_type": "markdown",
   "metadata": {},
   "source": [
    "## Your turn \n",
    "\n",
    "Normalize X train / test between [0, 1]"
   ]
  },
  {
   "cell_type": "code",
   "execution_count": null,
   "metadata": {
    "tags": []
   },
   "outputs": [],
   "source": [
    "x_train, x_test = ..."
   ]
  },
  {
   "cell_type": "markdown",
   "metadata": {
    "id": "ofGSMru5r4kP"
   },
   "source": [
    "## Set up the experiment\n",
    "\n",
    "Run an experiment by specifying values for the following hyperparameters:\n",
    "\n",
    "* number of units in the first dense layer\n",
    "* dropout rate in the dropout layer\n",
    "* optimizer\n",
    "\n",
    "Specify the hyperparameter values for the experiment in TensorBoard."
   ]
  },
  {
   "cell_type": "markdown",
   "metadata": {},
   "source": [
    "### Your Turn\n",
    "\n",
    "Define the renage for hyperparameters values\n",
    "- Use hp.Discrete or hp.RealInterval\n",
    "- Choose your metric\n",
    "\n",
    "Explain your choice : \n",
    "\n",
    "...\n"
   ]
  },
  {
   "cell_type": "code",
   "execution_count": null,
   "metadata": {
    "id": "IG5sPLBAcDRy"
   },
   "outputs": [],
   "source": [
    "HP_NUM_UNITS = hp.HParam(\"num_units\", ...)\n",
    "HP_DROPOUT = hp.HParam(\"dropout\", ...)\n",
    "HP_OPTIMIZER = hp.HParam(\"optimizer\", ...)\n",
    "\n",
    "METRIC_NAME = ...\n",
    "\n",
    "with tf.summary.create_file_writer(\"logs/hparam_tuning\").as_default():\n",
    "    hp.hparams_config(\n",
    "        hparams=[HP_NUM_UNITS, HP_DROPOUT, HP_OPTIMIZER],\n",
    "        metrics=[hp.Metric(METRIC_NAME, display_name=METRIC_NAME)],\n",
    "    )"
   ]
  },
  {
   "cell_type": "markdown",
   "metadata": {
    "id": "cLNgBNA6srlk"
   },
   "source": [
    "## Adapt TensorFlow runs to log hyperparameters and metrics\n",
    "\n",
    "The model you define is quite simple: two dense layers with a dropout layer between them. Your hyperparameters are provided in an `hparams` dictionary and used throughout the training function."
   ]
  },
  {
   "cell_type": "markdown",
   "metadata": {},
   "source": [
    "### Your Turn\n",
    "\n",
    "Define the architecture of your mnist classification model with keras"
   ]
  },
  {
   "cell_type": "code",
   "execution_count": null,
   "metadata": {
    "id": "C-RSsrF4u-Fq"
   },
   "outputs": [],
   "source": [
    "def train_test_model(hparams):\n",
    "    model = ... # Define your achitecure\n",
    "    model.compile(\n",
    "        optimizer=hparams[HP_OPTIMIZER],\n",
    "        loss=..., # Choose your loss\n",
    "        metrics=[METRIC_NAME],\n",
    "    )\n",
    "\n",
    "    model.fit(\n",
    "        x_train, y_train, epochs=1\n",
    "    )  # Run with 1 epoch to speed things up for demo purposes\n",
    "    _, accuracy = model.evaluate(..., ...) # to complete\n",
    "    return accuracy"
   ]
  },
  {
   "cell_type": "markdown",
   "metadata": {
    "id": "Esz3uqqCvLoK"
   },
   "source": [
    "For each run, log the summary with hyperparameters and final accuracy."
   ]
  },
  {
   "cell_type": "code",
   "execution_count": null,
   "metadata": {
    "id": "HwR1PAv1vPER"
   },
   "outputs": [],
   "source": [
    "def run(run_dir, hparams):\n",
    "    with tf.summary.create_file_writer(run_dir).as_default():\n",
    "        hp.hparams(hparams)  # record the values used in this trial\n",
    "        accuracy = train_test_model(hparams)\n",
    "        tf.summary.scalar(METRIC_NAME, accuracy, step=1)"
   ]
  },
  {
   "cell_type": "markdown",
   "metadata": {
    "id": "0V_8soFFvU7b"
   },
   "source": [
    "## Start runs and log them all under one parent directory\n",
    "\n",
    "You can now try multiple experiments, training each one with a different set of hyperparameters.\n",
    "\n",
    "For simplicity, use grid search: try all combinations of the discrete parameters and just the lower and upper bounds of the real-valued parameter. For more complex scenarios, it might be more effective to choose each hyperparameter value randomly (this is called a random search). There are more advanced methods that can be used.\n",
    "\n",
    "In the below cell, run a few experiments. This takes a few minutes to complete."
   ]
  },
  {
   "cell_type": "code",
   "execution_count": null,
   "metadata": {
    "id": "6r2oO_PVvbdL"
   },
   "outputs": [],
   "source": [
    "session_num = 0\n",
    "\n",
    "for num_units in HP_NUM_UNITS.domain.values:\n",
    "    for dropout_rate in (HP_DROPOUT.domain.min_value, HP_DROPOUT.domain.max_value):\n",
    "        for optimizer in HP_OPTIMIZER.domain.values:\n",
    "            hparams = {\n",
    "                HP_NUM_UNITS: num_units,\n",
    "                HP_DROPOUT: dropout_rate,\n",
    "                HP_OPTIMIZER: optimizer,\n",
    "            }\n",
    "            run_name = \"run-%d\" % session_num\n",
    "            print(\"--- Starting trial: %s\" % run_name)\n",
    "            print({h.name: hparams[h] for h in hparams})\n",
    "            run(\"logs/hparam_tuning/\" + run_name, hparams)\n",
    "            session_num += 1"
   ]
  },
  {
   "cell_type": "markdown",
   "metadata": {
    "id": "BkbB5GEI3Ge3"
   },
   "source": [
    "## Create Vertex AI TensorBoard\n",
    "A Vertex AI TensorBoard instance, which is a regionalized resource storing your Vertex AI TensorBoard experiments, must be created before the experiments can be visualized. You can create multiple instances in a project.\n",
    "\n",
    "Learn more see [Create a Vertex AI TensorBoard instance](https://cloud.google.com/vertex-ai/docs/experiments/tensorboard-setup#create-tensorboard-instance).\n",
    "\n",
    "Create a TensorBoard instance to be used by the training job."
   ]
  },
  {
   "cell_type": "code",
   "execution_count": null,
   "metadata": {
    "id": "lQ-d3j-I3ZWV"
   },
   "outputs": [],
   "source": [
    "# Set the display name for your tensorboard instance\n",
    "\n",
    "TENSORBOARD_NAME = f\"supaero-vertex-course-1-tb-{PROJECT_ID}-{your_name}\"  # @param {type:\"string\"}\n",
    "\n",
    "tensorboard = aiplatform.Tensorboard.create(\n",
    "    display_name=TENSORBOARD_NAME, project=PROJECT_ID, location=LOCATION\n",
    ")\n",
    "TENSORBOARD_RESOURCE_NAME = tensorboard.gca_resource.name\n",
    "print(\"TensorBoard resource name:\", TENSORBOARD_RESOURCE_NAME)"
   ]
  },
  {
   "cell_type": "markdown",
   "metadata": {
    "id": "27rERDqeJ2nE"
   },
   "source": [
    "Set your TensorBoard Experiment name."
   ]
  },
  {
   "cell_type": "code",
   "execution_count": null,
   "metadata": {
    "id": "4OU4TMtFCn0_"
   },
   "outputs": [],
   "source": [
    "EXPERIMENT_NAME = f\"supaero-vertex-course-1-5-{PROJECT_ID}-{your_name}\"  # @param {type:\"string\"}"
   ]
  },
  {
   "cell_type": "markdown",
   "metadata": {
    "id": "f1D2oU3K8Ys0"
   },
   "source": [
    "Upload the log to your Vertex AI TensorBoard."
   ]
  },
  {
   "cell_type": "code",
   "execution_count": null,
   "metadata": {
    "id": "TyXFVQuRv0-X"
   },
   "outputs": [],
   "source": [
    "!tb-gcp-uploader --one_shot=True --tensorboard_resource_name=$TENSORBOARD_RESOURCE_NAME --logdir=\"logs/hparam_tuning/\" --experiment_name=$EXPERIMENT_NAME"
   ]
  },
  {
   "cell_type": "markdown",
   "metadata": {
    "id": "OFe3qRyh9Wjl"
   },
   "source": [
    "## Visualize the results in Vertex AI TensorBoard's HParams tab\n",
    "\n",
    "Click the generated TensorBoard link and click on \"HParams\" at the top.\n",
    "\n",
    "The left pane of the dashboard provides filtering capabilities that are active across all the views in the HParams dashboard. In this pane, you can:\n",
    "\n",
    "- Filter which hyperparameters/metrics are shown in the dashboard.\n",
    "- Filter which hyperparameter/metrics values are shown in the dashboard.\n",
    "- Filter on run status (running, success, etc.).\n",
    "- Sort by hyperparameter/metric in the table view.\n",
    "- Select number of session groups to show (useful for performance when there are many experiments).\n",
    "\n",
    "The HParams dashboard has three different views, with various useful information:\n",
    "\n",
    "* The **Table View** lists the runs, their hyperparameters, and their metrics.\n",
    "* The **Parallel Coordinates View** shows each run as a line going through an axis for each hyperparemeter and metric. Click and drag the mouse on any axis to mark a region which highlights only the runs that pass through it. This can be useful for identifying which groups of hyperparameters are most important. The axes themselves can be re-ordered by dragging them.\n",
    "* The **Scatter Plot Matrix View** shows plots comparing each hyperparameter/metric with each metric. This can help identify correlations. Click and drag to select a region in a specific plot and highlight those sessions across the other plots.\n",
    "\n",
    "These views help to see the plots of the metrics as a function of training steps for that session (although in this tutorial only one step is used for each run)."
   ]
  },
  {
   "cell_type": "markdown",
   "metadata": {},
   "source": [
    "## Your Turn\n",
    "\n",
    "Which hyperparameters provides the better performance ? (check via the tensorboard)\n",
    "\n",
    "Does it make sense ?"
   ]
  },
  {
   "cell_type": "markdown",
   "metadata": {},
   "source": [
    "Your answer : "
   ]
  }
 ],
 "metadata": {
  "colab": {
   "name": "tensorboard_hyperparameter_tuning_with_hparams.ipynb",
   "toc_visible": true
  },
  "environment": {
   "kernel": "python3",
   "name": "tf2-gpu.2-17.m127",
   "type": "gcloud",
   "uri": "us-docker.pkg.dev/deeplearning-platform-release/gcr.io/tf2-gpu.2-17:m127"
  },
  "kernelspec": {
   "display_name": "Python 3 (Local)",
   "language": "python",
   "name": "python3"
  },
  "language_info": {
   "codemirror_mode": {
    "name": "ipython",
    "version": 3
   },
   "file_extension": ".py",
   "mimetype": "text/x-python",
   "name": "python",
   "nbconvert_exporter": "python",
   "pygments_lexer": "ipython3",
   "version": "3.10.16"
  }
 },
 "nbformat": 4,
 "nbformat_minor": 4
}
