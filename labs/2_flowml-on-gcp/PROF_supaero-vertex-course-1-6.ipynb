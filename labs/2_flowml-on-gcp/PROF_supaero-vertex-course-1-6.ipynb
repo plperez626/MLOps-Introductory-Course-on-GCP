{
 "cells": [
  {
   "cell_type": "markdown",
   "id": "5f236b8b",
   "metadata": {},
   "source": [
    "# Flow ML Course - Version Professeur\n",
    "\n",
    "# TP 6\n",
    "\n",
    "L'objectif de ce TP est d'utiliser tous les outils vus dans les TP précédents pour entrainer et déposer un modèle sur la plateforme de Flow ML de GCP.\n",
    "\n",
    "## Initialisation"
   ]
  },
  {
   "cell_type": "code",
   "execution_count": 1,
   "id": "ba9f7631-5515-4c6e-a75a-c7c8d77cbb00",
   "metadata": {
    "tags": []
   },
   "outputs": [],
   "source": [
    "! pip3 install --upgrade --quiet google-cloud-aiplatform[tensorboard] \\\n",
    "                                 tensorflow==2.15.1"
   ]
  },
  {
   "cell_type": "code",
   "execution_count": 2,
   "id": "2cb5d44b-5787-4155-bcae-6676721a011b",
   "metadata": {
    "tags": []
   },
   "outputs": [],
   "source": [
    "# Load the TensorBoard notebook extension\n",
    "%load_ext tensorboard\n",
    "\n",
    "# Clear any logs from previous runs\n",
    "!rm -rf ./logs/\n"
   ]
  },
  {
   "cell_type": "code",
   "execution_count": 28,
   "id": "f9f2f65c-95b6-4064-8e93-ad77014e411e",
   "metadata": {
    "tags": []
   },
   "outputs": [],
   "source": [
    "your_name = \"fvi\""
   ]
  },
  {
   "cell_type": "code",
   "execution_count": 3,
   "id": "f31ab155-75cd-46ef-8804-e373c48e39e0",
   "metadata": {
    "tags": []
   },
   "outputs": [
    {
     "name": "stderr",
     "output_type": "stream",
     "text": [
      "2025-02-21 10:43:07.606554: E external/local_xla/xla/stream_executor/cuda/cuda_dnn.cc:9261] Unable to register cuDNN factory: Attempting to register factory for plugin cuDNN when one has already been registered\n",
      "2025-02-21 10:43:07.606615: E external/local_xla/xla/stream_executor/cuda/cuda_fft.cc:607] Unable to register cuFFT factory: Attempting to register factory for plugin cuFFT when one has already been registered\n",
      "2025-02-21 10:43:07.608980: E external/local_xla/xla/stream_executor/cuda/cuda_blas.cc:1515] Unable to register cuBLAS factory: Attempting to register factory for plugin cuBLAS when one has already been registered\n",
      "2025-02-21 10:43:07.622724: I tensorflow/core/platform/cpu_feature_guard.cc:182] This TensorFlow binary is optimized to use available CPU instructions in performance-critical operations.\n",
      "To enable the following instructions: AVX2 FMA, in other operations, rebuild TensorFlow with the appropriate compiler flags.\n"
     ]
    }
   ],
   "source": [
    "\n",
    "import pandas as pd\n",
    "from sklearn.model_selection import train_test_split\n",
    "from sklearn.linear_model import LinearRegression\n",
    "from sklearn.metrics import mean_squared_error\n",
    "from sklearn.preprocessing import StandardScaler\n",
    "import joblib\n",
    "import os\n",
    "import gcsfs\n",
    "\n",
    "from google.cloud import aiplatform\n",
    "from google.cloud import storage\n",
    "\n",
    "# Import TensorFlow and the TensorBoard HParams plugin\n",
    "import tensorflow as tf\n",
    "from tensorboard.plugins.hparams import api as hp\n",
    "\n",
    "\n",
    "PROJECT_ID = \"projet-ia-448520\"  # @param {type:\"string\"}\n",
    "LOCATION = \"us-central1\"  # @param {type:\"string\"}\n",
    "\n",
    "aiplatform.init(project=PROJECT_ID, location=LOCATION)\n",
    "\n",
    "BUCKET_URI = \"gs://cours1bucket\" \n",
    "\n",
    "\n",
    "\n",
    "client = storage.Client()\n",
    "bucket = client.bucket(BUCKET_URI.split(\"//\")[1])\n"
   ]
  },
  {
   "cell_type": "markdown",
   "id": "d5514a85-1bee-4910-8dbc-e9aaba3205cc",
   "metadata": {
    "tags": []
   },
   "source": [
    "## Création Données [PROF]"
   ]
  },
  {
   "cell_type": "code",
   "execution_count": 12,
   "id": "88bcb24c-5555-4b6d-b9cc-213f6ade2959",
   "metadata": {
    "tags": []
   },
   "outputs": [],
   "source": [
    "\n",
    "\n",
    "\n",
    "# Original Data file : https://www.kaggle.com/datasets/whenamancodes/students-performance-in-exams?resource=download\n",
    "\n",
    "\n",
    "data = pd.read_csv(\"exams.csv\", sep=\",\")\n",
    "\n",
    "train_blob = bucket.blob('data/dataset_train_course_1_6.csv')\n",
    "test_blob = bucket.blob('data/dataset_test_course_1_6.csv')\n",
    "\n",
    "\n",
    "train, test = train_test_split(data, test_size=.2, random_state=47)\n",
    "\n",
    "train.to_csv(\"exams_train.csv\", index=False)\n",
    "test.to_csv(\"exams_test.csv\", index=False)\n",
    "\n",
    "\n",
    "with open(\"exams_train.csv\", 'r') as f:\n",
    "   train_blob.upload_from_file(f)\n",
    "\n",
    "with open(\"exams_test.csv\", 'r') as f:\n",
    "   test_blob.upload_from_file(f)\n"
   ]
  },
  {
   "cell_type": "code",
   "execution_count": null,
   "id": "557cdbfc-de19-4aad-89f0-edc89567e884",
   "metadata": {},
   "outputs": [],
   "source": []
  },
  {
   "cell_type": "markdown",
   "id": "2467d580",
   "metadata": {},
   "source": [
    "## Extraction des données\n",
    "\n",
    "Depuis un bucket GCP, on utilisera gcsfs.\n",
    "\n",
    "Utilisez l'exemple du fichier exams_train.csv pour extraire exams_test.csv\n",
    "\n",
    "\n",
    "Le fichier de base est disponible ici : https://www.kaggle.com/datasets/whenamancodes/students-performance-in-exams?resource=download"
   ]
  },
  {
   "cell_type": "code",
   "execution_count": 27,
   "id": "95fd01f8-2d52-469f-8d8a-8f823f09133a",
   "metadata": {
    "tags": []
   },
   "outputs": [
    {
     "data": {
      "text/html": [
       "<div>\n",
       "<style scoped>\n",
       "    .dataframe tbody tr th:only-of-type {\n",
       "        vertical-align: middle;\n",
       "    }\n",
       "\n",
       "    .dataframe tbody tr th {\n",
       "        vertical-align: top;\n",
       "    }\n",
       "\n",
       "    .dataframe thead th {\n",
       "        text-align: right;\n",
       "    }\n",
       "</style>\n",
       "<table border=\"1\" class=\"dataframe\">\n",
       "  <thead>\n",
       "    <tr style=\"text-align: right;\">\n",
       "      <th></th>\n",
       "      <th>gender</th>\n",
       "      <th>race/ethnicity</th>\n",
       "      <th>parental level of education</th>\n",
       "      <th>lunch</th>\n",
       "      <th>test preparation course</th>\n",
       "      <th>math score</th>\n",
       "      <th>reading score</th>\n",
       "      <th>writing score</th>\n",
       "    </tr>\n",
       "  </thead>\n",
       "  <tbody>\n",
       "    <tr>\n",
       "      <th>0</th>\n",
       "      <td>female</td>\n",
       "      <td>group D</td>\n",
       "      <td>high school</td>\n",
       "      <td>standard</td>\n",
       "      <td>none</td>\n",
       "      <td>66</td>\n",
       "      <td>84</td>\n",
       "      <td>77</td>\n",
       "    </tr>\n",
       "    <tr>\n",
       "      <th>1</th>\n",
       "      <td>female</td>\n",
       "      <td>group C</td>\n",
       "      <td>master's degree</td>\n",
       "      <td>standard</td>\n",
       "      <td>completed</td>\n",
       "      <td>73</td>\n",
       "      <td>86</td>\n",
       "      <td>85</td>\n",
       "    </tr>\n",
       "    <tr>\n",
       "      <th>2</th>\n",
       "      <td>male</td>\n",
       "      <td>group D</td>\n",
       "      <td>high school</td>\n",
       "      <td>free/reduced</td>\n",
       "      <td>none</td>\n",
       "      <td>65</td>\n",
       "      <td>63</td>\n",
       "      <td>60</td>\n",
       "    </tr>\n",
       "    <tr>\n",
       "      <th>3</th>\n",
       "      <td>female</td>\n",
       "      <td>group C</td>\n",
       "      <td>some high school</td>\n",
       "      <td>free/reduced</td>\n",
       "      <td>none</td>\n",
       "      <td>32</td>\n",
       "      <td>35</td>\n",
       "      <td>41</td>\n",
       "    </tr>\n",
       "    <tr>\n",
       "      <th>4</th>\n",
       "      <td>male</td>\n",
       "      <td>group C</td>\n",
       "      <td>high school</td>\n",
       "      <td>standard</td>\n",
       "      <td>none</td>\n",
       "      <td>48</td>\n",
       "      <td>43</td>\n",
       "      <td>40</td>\n",
       "    </tr>\n",
       "    <tr>\n",
       "      <th>...</th>\n",
       "      <td>...</td>\n",
       "      <td>...</td>\n",
       "      <td>...</td>\n",
       "      <td>...</td>\n",
       "      <td>...</td>\n",
       "      <td>...</td>\n",
       "      <td>...</td>\n",
       "      <td>...</td>\n",
       "    </tr>\n",
       "    <tr>\n",
       "      <th>795</th>\n",
       "      <td>male</td>\n",
       "      <td>group C</td>\n",
       "      <td>bachelor's degree</td>\n",
       "      <td>standard</td>\n",
       "      <td>none</td>\n",
       "      <td>100</td>\n",
       "      <td>84</td>\n",
       "      <td>88</td>\n",
       "    </tr>\n",
       "    <tr>\n",
       "      <th>796</th>\n",
       "      <td>male</td>\n",
       "      <td>group D</td>\n",
       "      <td>some high school</td>\n",
       "      <td>standard</td>\n",
       "      <td>completed</td>\n",
       "      <td>90</td>\n",
       "      <td>82</td>\n",
       "      <td>88</td>\n",
       "    </tr>\n",
       "    <tr>\n",
       "      <th>797</th>\n",
       "      <td>female</td>\n",
       "      <td>group A</td>\n",
       "      <td>high school</td>\n",
       "      <td>standard</td>\n",
       "      <td>none</td>\n",
       "      <td>63</td>\n",
       "      <td>69</td>\n",
       "      <td>60</td>\n",
       "    </tr>\n",
       "    <tr>\n",
       "      <th>798</th>\n",
       "      <td>male</td>\n",
       "      <td>group A</td>\n",
       "      <td>some college</td>\n",
       "      <td>standard</td>\n",
       "      <td>completed</td>\n",
       "      <td>78</td>\n",
       "      <td>69</td>\n",
       "      <td>73</td>\n",
       "    </tr>\n",
       "    <tr>\n",
       "      <th>799</th>\n",
       "      <td>male</td>\n",
       "      <td>group C</td>\n",
       "      <td>some high school</td>\n",
       "      <td>free/reduced</td>\n",
       "      <td>none</td>\n",
       "      <td>73</td>\n",
       "      <td>78</td>\n",
       "      <td>69</td>\n",
       "    </tr>\n",
       "  </tbody>\n",
       "</table>\n",
       "<p>800 rows × 8 columns</p>\n",
       "</div>"
      ],
      "text/plain": [
       "     gender race/ethnicity parental level of education         lunch  \\\n",
       "0    female        group D                 high school      standard   \n",
       "1    female        group C             master's degree      standard   \n",
       "2      male        group D                 high school  free/reduced   \n",
       "3    female        group C            some high school  free/reduced   \n",
       "4      male        group C                 high school      standard   \n",
       "..      ...            ...                         ...           ...   \n",
       "795    male        group C           bachelor's degree      standard   \n",
       "796    male        group D            some high school      standard   \n",
       "797  female        group A                 high school      standard   \n",
       "798    male        group A                some college      standard   \n",
       "799    male        group C            some high school  free/reduced   \n",
       "\n",
       "    test preparation course  math score  reading score  writing score  \n",
       "0                      none          66             84             77  \n",
       "1                 completed          73             86             85  \n",
       "2                      none          65             63             60  \n",
       "3                      none          32             35             41  \n",
       "4                      none          48             43             40  \n",
       "..                      ...         ...            ...            ...  \n",
       "795                    none         100             84             88  \n",
       "796               completed          90             82             88  \n",
       "797                    none          63             69             60  \n",
       "798               completed          78             69             73  \n",
       "799                    none          73             78             69  \n",
       "\n",
       "[800 rows x 8 columns]"
      ]
     },
     "execution_count": 27,
     "metadata": {},
     "output_type": "execute_result"
    }
   ],
   "source": [
    "\n",
    "\n",
    "fs = gcsfs.GCSFileSystem(project=PROJECT_ID)\n",
    "with fs.open(f\"{BUCKET_URI.split('//')[1]}/data/exams_train.csv\") as f:\n",
    "    df_train = pd.read_csv(f)\n",
    "df_train"
   ]
  },
  {
   "cell_type": "code",
   "execution_count": null,
   "id": "76779c1c-13a0-411f-974d-78b8dd0372e9",
   "metadata": {
    "tags": []
   },
   "outputs": [],
   "source": [
    "\n",
    "## Your Turn \n",
    "\n",
    "fs = gcsfs.GCSFileSystem(project=PROJECT_ID)\n",
    "with fs.open(f\"{BUCKET_URI.split('//')[1]}/data/exams_test.csv\") as f:\n",
    "    df_test = pd.read_csv(f)\n",
    "df_test"
   ]
  },
  {
   "cell_type": "markdown",
   "id": "fdd9e119-e033-4d38-a7ed-a9289d232e75",
   "metadata": {},
   "source": [
    "## Explore & Transform your data\n",
    "\n",
    "L'objectif est de prédire le \"math score\".\n",
    "\n",
    "Analyser, explorer et transformer les données pour pouvoir prédire le score."
   ]
  },
  {
   "cell_type": "code",
   "execution_count": 54,
   "id": "70629bce-5a45-42a7-8812-57de1109afba",
   "metadata": {
    "tags": []
   },
   "outputs": [],
   "source": [
    "X_train = df_train[[\"reading score\", \"writing score\"]].values\n",
    "y_train = df_train[\"math score\"].values\n",
    "X_test = df_train[[\"reading score\", \"writing score\"]].values\n",
    "y_test = df_train[\"math score\"].values\n",
    "\n",
    "score_mean, score_std = X_train.mean(), X_train.std()\n",
    "\n",
    "normalize_score = lambda x: (x - score_mean) / score_std\n",
    "unormalize_score = lambda x: (x * score_std) + score_mean"
   ]
  },
  {
   "cell_type": "markdown",
   "id": "2cfa870e-6c8c-4168-a00a-c698b99edd0f",
   "metadata": {},
   "source": [
    "## Training\n",
    "\n",
    "### Model Selection\n",
    "\n",
    "Choisissez 3 modèles à entrainer pour répondre à la problématique du dataset"
   ]
  },
  {
   "cell_type": "code",
   "execution_count": 35,
   "id": "888471c4-0ae7-4b7c-b4f9-a3375718f071",
   "metadata": {
    "tags": []
   },
   "outputs": [],
   "source": [
    "model_names = [\"LinearRegression\"]"
   ]
  },
  {
   "cell_type": "markdown",
   "id": "26f1ca65",
   "metadata": {},
   "source": [
    "### Training Method\n",
    "\n",
    "\n",
    "Utiliser cet espace pour créer les méthodes vous aidant à entrainer les modèles\n",
    "\n",
    "\n",
    "Conseil :\n",
    "\n",
    " Enregistrez vos modèles à chacun de vos entrainements. Enregistrer dans l'espace de storage google via ce snippet :\n",
    "\n",
    "\n",
    "'''\n",
    "\n",
    "    blob = bucket.blob(MODEL_DIR)\n",
    "\n",
    "    blob.upload_from_filename(model_file)\n",
    "'''\n",
    "\n",
    "\n",
    "Modifier MODEL_DIR pour créer un sous répertoire à votre nom où vous pourrez stocker vos informations."
   ]
  },
  {
   "cell_type": "code",
   "execution_count": 189,
   "id": "1606f79d-009c-4443-bba8-b31c0c91eb94",
   "metadata": {
    "tags": []
   },
   "outputs": [],
   "source": [
    "\n",
    "\n",
    "def save_model(model, model_name, hparams):\n",
    "    config = \"__\".join([f\"{key}_{values}\" for key, values in hparams.items()])\n",
    "\n",
    "    MODEL_DIR = f\"sup_aero_vertex_course_1_6/{model_name}/{config}/\"\n",
    "    \n",
    "    model_file = f'{model_name}_{config}/model.joblib'\n",
    "    if not os.path.isdir(f\"{model_name}_{config}\"):\n",
    "        os.mkdir(f\"{model_name}_{config}\")\n",
    "    joblib.dump(model, model_file)\n",
    "\n",
    "    blob = bucket.blob(MODEL_DIR)\n",
    "    blob.upload_from_filename(model_file)\n",
    "    print(MODEL_DIR, model_file)\n",
    "    \n",
    "\n",
    "def run(run_dir, model_name, hparams):\n",
    "    with tf.summary.create_file_writer(run_dir).as_default():\n",
    "        hp.hparams(hparams)  # record the values used in this trial\n",
    "        model, mse = train_test_model(model_name, hparams)\n",
    "        tf.summary.scalar(METRIC_NAME, mse, step=1)\n",
    "        \n",
    "        save_model(model, model_name, hparams)\n",
    "\n",
    "        \n",
    "        \n",
    "def train_test_model(model_name, hparams):\n",
    "    if model_name == \"LinearRegression\":\n",
    "        model = LinearRegression(**hparams)\n",
    "    \n",
    "    model.fit(normalize_score(X_train), normalize_score(y_train))\n",
    "    \n",
    "    y_pred = model.predict(normalize_score(X_test))\n",
    "    \n",
    "    mse = mean_squared_error(unormalize_score(y_pred), unormalize_score(y_test))\n",
    "                           \n",
    "    return model, mse\n",
    "    "
   ]
  },
  {
   "cell_type": "markdown",
   "id": "2a88a6cd-c595-492a-b674-037b3c3e97be",
   "metadata": {},
   "source": [
    "### Hyperparamétrage\n",
    "\n",
    "Définisser les range d'hyperparamètres ainsi que la métrique d'évaluation ici"
   ]
  },
  {
   "cell_type": "code",
   "execution_count": 190,
   "id": "d06fb56e-dfc0-4fba-b898-62dcd954f505",
   "metadata": {
    "tags": []
   },
   "outputs": [],
   "source": [
    "fit_intercept_model_1 = hp.HParam(\"fit_intercept\", hp.Discrete([False, True]))"
   ]
  },
  {
   "cell_type": "code",
   "execution_count": 191,
   "id": "72ded6f0-bb0b-41a7-a618-f9112770af8a",
   "metadata": {
    "tags": []
   },
   "outputs": [],
   "source": [
    "\n",
    "METRIC_NAME = \"MSE\"\n",
    "\n",
    "with tf.summary.create_file_writer(\"logs/hparam_tuning_model_1\").as_default():\n",
    "    hp.hparams_config(\n",
    "        hparams=[fit_intercept_model_1],\n",
    "        metrics=[hp.Metric(METRIC_NAME, display_name=METRIC_NAME)],\n",
    "    )\n",
    "    \n"
   ]
  },
  {
   "cell_type": "markdown",
   "id": "9f13c389-5e25-440b-9e05-bce54414bd38",
   "metadata": {},
   "source": [
    "### Train\n",
    "\n",
    "Entrainer vos différents modèles avec les différentes combinaisons de paramètres."
   ]
  },
  {
   "cell_type": "code",
   "execution_count": null,
   "id": "4baed631-6e65-41f1-a1fd-3557d5c5c16f",
   "metadata": {
    "tags": []
   },
   "outputs": [],
   "source": [
    "    \n",
    "session_num = 0\n",
    "\n",
    "for fit_intercept in fit_intercept_model_1.domain.values:\n",
    "    hparams = {\n",
    "                fit_intercept_model_1: fit_intercept,\n",
    "            }\n",
    "    \n",
    "    run_name = f\"run-{your_name}-%d\" % session_num\n",
    "    print(\"--- Starting trial: %s\" % run_name)\n",
    "    print({h.name: hparams[h] for h in hparams})\n",
    "    run(\"logs/hparam_tuning_model_1/\" + run_name, \"LinearRegression\", {h.name: hparams[h] for h in hparams})\n",
    "    session_num += 1"
   ]
  },
  {
   "cell_type": "markdown",
   "id": "2eb2adb6-0e01-4de6-bc7d-21bb76d8dece",
   "metadata": {
    "tags": []
   },
   "source": [
    "### Tensorboard\n",
    "\n",
    "Poussez chaque modèle dans des des expériments Tensorboards"
   ]
  },
  {
   "cell_type": "code",
   "execution_count": 216,
   "id": "43f9a0b6-12e3-471d-a96a-b9166c29ffa7",
   "metadata": {
    "tags": []
   },
   "outputs": [],
   "source": [
    "model_name = \"LinearRegression\""
   ]
  },
  {
   "cell_type": "code",
   "execution_count": null,
   "id": "eca28be2-ae05-4458-82b6-e163f03bcc43",
   "metadata": {
    "tags": []
   },
   "outputs": [],
   "source": [
    "# Set the display name for your tensorboard instance\n",
    "\n",
    "TENSORBOARD_NAME = f\"supaero-vertex-course-1-6-tb-{PROJECT_ID}-{your_name}\"  # @param {type:\"string\"}\n",
    "\n",
    "tensorboard = aiplatform.Tensorboard.create(\n",
    "    display_name=TENSORBOARD_NAME, project=PROJECT_ID, location=LOCATION\n",
    ")\n",
    "TENSORBOARD_RESOURCE_NAME = tensorboard.gca_resource.name\n",
    "print(\"TensorBoard resource name:\", TENSORBOARD_RESOURCE_NAME)\n",
    "\n",
    "EXPERIMENT_NAME = f\"supaero-vertex-course-1-6-{PROJECT_ID}-{your_name}-{model_name.lower()}\"  # @param {type:\"string\"}"
   ]
  },
  {
   "cell_type": "code",
   "execution_count": null,
   "id": "7b7d1baa-1c2b-4a22-bb2e-7bfdbb05af60",
   "metadata": {
    "tags": []
   },
   "outputs": [],
   "source": [
    "!tb-gcp-uploader --one_shot=True --tensorboard_resource_name=$TENSORBOARD_RESOURCE_NAME --logdir=\"logs/hparam_tuning_model_1/\" --experiment_name=$EXPERIMENT_NAME"
   ]
  },
  {
   "cell_type": "markdown",
   "id": "400bcd86",
   "metadata": {},
   "source": [
    "### Meilleurs modèles\n",
    "\n",
    "Utiliser Tensorboard pour définir les meilleurs paramètres pour chaque modèle"
   ]
  },
  {
   "cell_type": "markdown",
   "id": "a6ff5807",
   "metadata": {},
   "source": []
  },
  {
   "cell_type": "code",
   "execution_count": null,
   "id": "91bac82c-4bba-472e-a197-e0458deb1fe0",
   "metadata": {},
   "outputs": [],
   "source": [
    "## Register your models\n",
    "\n"
   ]
  },
  {
   "cell_type": "markdown",
   "id": "51de9c3c",
   "metadata": {},
   "source": [
    "## Model Registry\n",
    "\n",
    "Sauvegardez vos modèles dans le model Registry de ML Flow.\n",
    "\n",
    "Utiliser ce lien pour définir les DEPLOY_IMAGE en fonction de votre type de modèle (CPU only) : https://cloud.google.com/vertex-ai/docs/training/pre-built-containers#scikit-learn"
   ]
  },
  {
   "cell_type": "code",
   "execution_count": 81,
   "id": "c0721a8e-59fb-4955-b649-7a2bf2158141",
   "metadata": {
    "tags": []
   },
   "outputs": [],
   "source": [
    "TF = \"2.13\".replace(\".\", \"-\")\n",
    "\n",
    "DEPLOY_VERSION = \"tf2-cpu.{}\".format(TF) # Possibility to use GPU \n",
    "\n",
    "\n",
    "DEPLOY_IMAGE = \"{}-docker.pkg.dev/vertex-ai/prediction/{}:latest\".format(\n",
    "    LOCATION.split(\"-\")[0], DEPLOY_VERSION\n",
    ")"
   ]
  },
  {
   "cell_type": "code",
   "execution_count": null,
   "id": "90a758bd-0cbf-4ae4-b50e-d6a6ffa33cb7",
   "metadata": {
    "tags": []
   },
   "outputs": [],
   "source": [
    "model_1 = aiplatform.Model.upload(\n",
    "    display_name=f\"model_course_1_6_{your_name}_{model_name.lower()}\",\n",
    "    artifact_uri=\"gs://cours1bucket/sup_aero_vertex_course_1_6/LinearRegression/fit_intercept_False\",\n",
    "    serving_container_image_uri=\"us-docker.pkg.dev/vertex-ai/training/sklearn-cpu.1-0:latest\",\n",
    "    is_default_version=True,\n",
    "    version_aliases=[\"v1\"],\n",
    "    # version_description=..., # Add a description\n",
    ")\n",
    "\n",
    "\n",
    "model_2 = aiplatform.Model.upload(\n",
    "    display_name=f\"model_course_1_6_{your_name}_{model_name.lower()}\",\n",
    "    artifact_uri=\"gs://cours1bucket/sup_aero_vertex_course_1_6/LinearRegression/fit_intercept_True/\",\n",
    "    serving_container_image_uri=\"us-docker.pkg.dev/vertex-ai/training/sklearn-cpu.1-0:latest\",\n",
    "    is_default_version=False,\n",
    "    parent_model=model_1.resource_name,\n",
    "    version_aliases=[\"v2\"],\n",
    "    # version_description=..., # Add a description\n",
    ")\n",
    "print(model_1)\n"
   ]
  },
  {
   "cell_type": "markdown",
   "id": "3a2a5961-83bd-4783-aa36-e2c90fa29c68",
   "metadata": {
    "tags": []
   },
   "source": [
    "## Versionning\n",
    "\n",
    "Update the model registry to get the model in version v1"
   ]
  },
  {
   "cell_type": "code",
   "execution_count": 233,
   "id": "0ed39519-dbb0-44d0-9522-c92631e1f039",
   "metadata": {
    "tags": []
   },
   "outputs": [],
   "source": [
    "models = aiplatform.Model.list(filter=f'display_name=\"model_course_1_6_{your_name}_{model_name.lower()}\"')"
   ]
  },
  {
   "cell_type": "code",
   "execution_count": null,
   "id": "0a6f020d-51c1-4e1c-830d-c63615889431",
   "metadata": {
    "tags": []
   },
   "outputs": [],
   "source": [
    "\n",
    "print(\"Version ID:\", models[0].version_id)\n",
    "\n",
    "models[1].versioning_registry.add_version_aliases(new_aliases=[\"default\"], version=\"1\")\n",
    "print(\"Version ID:\", models[1].version_id)\n",
    "\n",
    "models = aiplatform.Model.list(filter=f'display_name=\"model_course_1_6_{your_name}_{model_name.lower()}\"')\n",
    "print(\"Number of models:\", len(models))\n",
    "print(\"Version ID:\", models[0].version_id)\n"
   ]
  },
  {
   "cell_type": "markdown",
   "id": "014d165c-b259-490d-9cec-d807fa4fd663",
   "metadata": {},
   "source": [
    "## Model Lineage\n",
    "\n"
   ]
  },
  {
   "cell_type": "raw",
   "id": "d9c0f68a-b1ba-49b5-be83-9d1ee62c34c6",
   "metadata": {
    "tags": []
   },
   "source": [
    "On the tab 'Model Registry', do the lineage of your solution."
   ]
  },
  {
   "cell_type": "markdown",
   "id": "da65b0ca",
   "metadata": {},
   "source": [
    "## Endpoint\n",
    "\n",
    "Créer un endpoint"
   ]
  },
  {
   "cell_type": "code",
   "execution_count": null,
   "id": "08b0a563-f62f-4402-badd-88f4bbfed99d",
   "metadata": {
    "tags": []
   },
   "outputs": [],
   "source": [
    "\n",
    "version_selected = ...\n",
    "\n",
    "\n",
    "# Deploy the model to the endpoint\n",
    "endpoint = aiplatform.Endpoint.create(\n",
    "        display_name=f'model_course_1_6_{your_name}',\n",
    "        project=PROJECT_ID,\n",
    "        location=LOCATION,\n",
    "    )\n",
    "\n",
    "\n",
    "models = aiplatform.Model.list(filter=f'display_name=\"model_course_1_6_{your_name}_{model_name.lower()}\"')\n",
    "print(models)\n",
    "\n",
    "\n",
    "models[version_selected].deploy(\n",
    "    deployed_model_display_name=f'model_course_1_6_{your_name}',\n",
    "    machine_type='n1-standard-4'\n",
    ")"
   ]
  },
  {
   "cell_type": "markdown",
   "id": "17bf6f07",
   "metadata": {},
   "source": [
    "## Tester votre endpoint"
   ]
  },
  {
   "cell_type": "code",
   "execution_count": null,
   "id": "03339c35-0a02-4715-b047-03f09ad09caa",
   "metadata": {},
   "outputs": [],
   "source": [
    "\n",
    "# Make a prediction\n",
    "response = endpoint.predict(instances=[{\"input\": \"your-input-data\"}])\n",
    "print(response)"
   ]
  }
 ],
 "metadata": {
  "environment": {
   "kernel": "python3",
   "name": "tf2-gpu.2-17.m127",
   "type": "gcloud",
   "uri": "us-docker.pkg.dev/deeplearning-platform-release/gcr.io/tf2-gpu.2-17:m127"
  },
  "kernelspec": {
   "display_name": "Python 3 (Local)",
   "language": "python",
   "name": "python3"
  },
  "language_info": {
   "codemirror_mode": {
    "name": "ipython",
    "version": 3
   },
   "file_extension": ".py",
   "mimetype": "text/x-python",
   "name": "python",
   "nbconvert_exporter": "python",
   "pygments_lexer": "ipython3",
   "version": "3.10.16"
  }
 },
 "nbformat": 4,
 "nbformat_minor": 5
}
