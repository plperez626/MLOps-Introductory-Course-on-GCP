{
 "cells": [
  {
   "cell_type": "markdown",
   "source": [
    "# TP 3 : job d'entraînement, déploiement de modèle, prédiction par batch et en ligne"
   ],
   "metadata": {
    "id": "title"
   }
  },
  {
   "cell_type": "markdown",
   "source": [
    "### Objectifs\n",
    "\n",
    "Au cours de ce TP, vous apprendrez à créer un modèle de Vision personnalisé, vous configurerez et lancerez un job d'entraînement, enfin, vous déploierez le modèle pour de la prédiction par lot (batch) puis pour de la prédiction en ligne (streaming). \n",
    "\n",
    "On utilisera les services Google Cloud ML suivant :\n",
    "\n",
    "- Vertex AI Training\n",
    "- Vertex AI Batch Prediction\n",
    "- Vertex AI Model resource\n",
    "\n",
    "Quelques liens utiles :\n",
    "- [Custom training](https://cloud.google.com/vertex-ai/docs/training/custom-training) \n",
    "- [Vertex AI Batch Prediction](https://cloud.google.com/vertex-ai/docs/tabular-data/classification-regression/get-batch-predictions)"
   ],
   "metadata": {
    "id": "objective:custom,training,online_prediction"
   }
  },
  {
   "cell_type": "markdown",
   "source": [
    "### Dataset\n",
    "\n",
    "TensorFlow met à disposition de nombreux datasets issues de domaines variés et pensés pour le machine learning : [TensorFlow Datasets](https://www.tensorflow.org/datasets/catalog/overview). \n",
    "\n",
    "Pour mettre tout ceci en pratique, on utilisera les données [cifar10 dataset](https://www.tensorflow.org/datasets/catalog/cifar10) et on développera un modèle de Computer Vision avec TensorFlow afin de prédire la nature des objets présents sur les images parmi 10 catégories possibles : avion, voiture, oiseau, chat, cerf, chien, grenouille, cheval, bateau, camion."
   ],
   "metadata": {
    "id": "dataset:custom,cifar10,icn"
   }
  },
  {
   "cell_type": "markdown",
   "source": [
    "# Mise en place de l'environnement"
   ],
   "metadata": {
    "id": "3b1ffd5ab768"
   }
  },
  {
   "cell_type": "markdown",
   "source": [
    "### Installer Vertex AI SDK for Python et autres\n"
   ],
   "metadata": {
    "id": "aae9ca040eab"
   }
  },
  {
   "cell_type": "code",
   "execution_count": 11,
   "source": [
    "pip install -r requirements.txt"
   ],
   "outputs": [
    {
     "output_type": "stream",
     "name": "stdout",
     "text": [
      "Requirement already satisfied: google in c:\\users\\ahochedez\\appdata\\local\\anaconda3\\envs\\gcptestenv\\lib\\site-packages (from -r requirements.txt (line 1)) (3.0.0)\n",
      "Requirement already satisfied: google-cloud-aiplatform in c:\\users\\ahochedez\\appdata\\local\\anaconda3\\envs\\gcptestenv\\lib\\site-packages (from -r requirements.txt (line 2)) (1.83.0)\n",
      "Requirement already satisfied: google-cloud-storage in c:\\users\\ahochedez\\appdata\\local\\anaconda3\\envs\\gcptestenv\\lib\\site-packages (from -r requirements.txt (line 3)) (2.19.0)\n",
      "Collecting pillow==10.2.0 (from -r requirements.txt (line 4))\n",
      "  Using cached pillow-10.2.0-cp311-cp311-win_amd64.whl.metadata (9.9 kB)\n",
      "Collecting numpy==1.22.0 (from -r requirements.txt (line 5))\n",
      "  Using cached numpy-1.22.0.zip (11.3 MB)\n",
      "  Installing build dependencies: started\n",
      "  Installing build dependencies: finished with status 'done'\n",
      "  Getting requirements to build wheel: started\n",
      "  Getting requirements to build wheel: finished with status 'done'\n",
      "  Preparing metadata (pyproject.toml): started\n",
      "  Preparing metadata (pyproject.toml): finished with status 'done'\n",
      "Note: you may need to restart the kernel to use updated packages.\n"
     ]
    },
    {
     "output_type": "stream",
     "name": "stderr",
     "text": [
      "ERROR: Could not find a version that satisfies the requirement backports.tarfile==0.4.0 (from versions: 1.0.0, 1.1.0, 1.1.1, 1.2.0)\n",
      "ERROR: No matching distribution found for backports.tarfile==0.4.0\n"
     ]
    }
   ],
   "metadata": {
    "id": "23e23ce735c9"
   }
  },
  {
   "cell_type": "markdown",
   "source": [
    "### Variables du projet Google Cloud and initialisation du SDK"
   ],
   "metadata": {
    "id": "107c51893a64"
   }
  },
  {
   "cell_type": "code",
   "execution_count": 12,
   "source": [
    "PROJECT_ID = \"projet-ia-448520\"  # @param {type:\"string\"}\r\n",
    "LOCATION = \"us-central1\"  # @param {type:\"string\"}"
   ],
   "outputs": [],
   "metadata": {
    "id": "294fe4e5a671"
   }
  },
  {
   "cell_type": "markdown",
   "source": [
    "#### Renseigner le chemin du Cloud Storage bucket\n",
    "\n",
    "Le bucket permettra de stocker les datasets et le modèle"
   ],
   "metadata": {
    "id": "ddbea904fbe5"
   }
  },
  {
   "cell_type": "code",
   "execution_count": 13,
   "source": [
    "BUCKET_URI = f\"gs://cours3bucket\""
   ],
   "outputs": [],
   "metadata": {
    "id": "751138cf3bd5"
   }
  },
  {
   "cell_type": "markdown",
   "source": [
    "**Si vous n'avez pas de bucket** : Décommentez la cellule suivante afin de créer un bucket."
   ],
   "metadata": {
    "id": "58cb4f5895f0"
   }
  },
  {
   "cell_type": "code",
   "execution_count": 14,
   "source": [
    "#! gsutil mb -l $LOCATION -p $PROJECT_ID $BUCKET_URI"
   ],
   "outputs": [],
   "metadata": {
    "id": "5e1288505682"
   }
  },
  {
   "cell_type": "markdown",
   "source": [
    "#### Initialisation du SDK Python\n",
    "\n",
    "Le SDK python permet d'utiliser l'API de Google Cloud Platform avec du code plutôt qu'avec l'interface utilisateur."
   ],
   "metadata": {
    "id": "fb03963cdb69"
   }
  },
  {
   "cell_type": "code",
   "execution_count": 15,
   "source": [
    "from google.cloud import aiplatform\r\n",
    "\r\n",
    "aiplatform.init(project=PROJECT_ID, location=LOCATION, staging_bucket=BUCKET_URI)"
   ],
   "outputs": [],
   "metadata": {
    "id": "a4f61991b160"
   }
  },
  {
   "cell_type": "markdown",
   "source": [
    "### Import des librairies python"
   ],
   "metadata": {
    "id": "setup_vars"
   }
  },
  {
   "cell_type": "code",
   "execution_count": 16,
   "source": [
    "import os\r\n",
    "import numpy as np\r\n",
    "from PIL import Image"
   ],
   "outputs": [],
   "metadata": {
    "id": "9dcd3eedadfb"
   }
  },
  {
   "cell_type": "markdown",
   "source": [
    "### Mise en place des conteneurs docker pré-construit\n",
    "\n",
    "On utilisera ici des conteneurs dockeurs pré-construits, fournis par Vertex AI, qui permettent à nos codes d'entrainement et de prédiction de tourner sans encombre sur les machines virtuelles de GCP. \n",
    "\n",
    "Puisque l'on utilise des conteneurs pré-construits, il suffit de fournir un code python pour l'entrainement puis de préciser le nom de deux conteneurs parmi les listes suivantes : [Pre-built containers for training](https://cloud.google.com/vertex-ai/docs/training/pre-built-containers) et [Pre-built containers for prediction](https://cloud.google.com/vertex-ai/docs/predictions/pre-built-containers), en prenant garde à ce que ces conteneurs fournissent des environnements adaptés à notre projet et aux machines que l'on souhaite utiliser. (Veuillez consulter les liens pour adapter le conteneur à votre version de python) "
   ],
   "metadata": {
    "id": "container:training,prediction"
   }
  },
  {
   "cell_type": "code",
   "execution_count": 17,
   "source": [
    "TRAIN_VERSION = \"tf-cpu.2-9\"\r\n",
    "DEPLOY_VERSION = \"tf2-cpu.2-9\"\r\n",
    "\r\n",
    "TRAIN_IMAGE = \"us-docker.pkg.dev/vertex-ai/training/{}:latest\".format(TRAIN_VERSION)\r\n",
    "DEPLOY_IMAGE = \"us-docker.pkg.dev/vertex-ai/prediction/{}:latest\".format(DEPLOY_VERSION)"
   ],
   "outputs": [],
   "metadata": {
    "id": "1u1mr18jlugv"
   }
  },
  {
   "cell_type": "markdown",
   "source": [
    "Le code pour l'inférence n'aura pas à être écrit. En effet, le conteneur de prédiction pré-construit contient un serveur d'inférence qui chargera les poids de notre modèle entrainé pour servir des prédictions."
   ],
   "metadata": {}
  },
  {
   "cell_type": "markdown",
   "source": [
    "# PART 1: Entraînement d'un modèle\n",
    "\n",
    "Nous allons maintenant créer un modèle de vision et nous l'entraînerons sur les données CIFAR10."
   ],
   "metadata": {
    "id": "tutorial_start:custom"
   }
  },
  {
   "cell_type": "markdown",
   "source": [
    "#### Écrire un script d'entrainement\n",
    "\n",
    "La prochaine cellule vise à écrire le fichier `task.py` qui contient le script de définition et d'entrainement de notre modèle. On suit les étapes suivante :\n",
    "\n",
    "- Récuperer les paramètres de l'entrainement en parsant les arguments. \n",
    "- Récupérer le chemin du répertoire `AIP_MODEL_DIR` où les artefacts de notre modèle seront enregistrés. La variable sera fixée par le service d'entrainement.\n",
    "- Charger le CIFAR10 dataset.\n",
    "- Définir un modèle CNN avec tensortlow.Keras.\n",
    "- Compiler le modèle (`compile()`).\n",
    "- Mettre en place la statégie de distribution des calculs précisée par `args.distribute`.\n",
    "- Entrainer le modèle (`fit()`) avec les paramètres : `args.epochs` et `args.steps`\n",
    "- Sauvegarder le modèle à l'emplacement spécifié (`save(MODEL_DIR)`)"
   ],
   "metadata": {
    "id": "taskpy_contents"
   }
  },
  {
   "cell_type": "code",
   "execution_count": 14,
   "source": [
    "%%writefile task.py\r\n",
    "# Single, Mirror and Multi-Machine Distributed Training for CIFAR-10\r\n",
    "\r\n",
    "import tensorflow_datasets as tfds\r\n",
    "import tensorflow as tf\r\n",
    "from tensorflow.python.client import device_lib\r\n",
    "import argparse\r\n",
    "import os\r\n",
    "import sys\r\n",
    "tfds.disable_progress_bar()\r\n",
    "\r\n",
    "parser = argparse.ArgumentParser()\r\n",
    "parser.add_argument('--lr', dest='lr',\r\n",
    "                    default=0.01, type=float,\r\n",
    "                    help='Learning rate.')\r\n",
    "parser.add_argument('--epochs', dest='epochs',\r\n",
    "                    default=10, type=int,\r\n",
    "                    help='Number of epochs.')\r\n",
    "parser.add_argument('--steps', dest='steps',\r\n",
    "                    default=200, type=int,\r\n",
    "                    help='Number of steps per epoch.')\r\n",
    "parser.add_argument('--distribute', dest='distribute', type=str, default='single',\r\n",
    "                    help='distributed training strategy')\r\n",
    "args = parser.parse_args()\r\n",
    "\r\n",
    "print('Python Version = {}'.format(sys.version))\r\n",
    "print('TensorFlow Version = {}'.format(tf.__version__))\r\n",
    "print('TF_CONFIG = {}'.format(os.environ.get('TF_CONFIG', 'Not found')))\r\n",
    "print('DEVICES', device_lib.list_local_devices())\r\n",
    "\r\n",
    "# Single Machine, single compute device\r\n",
    "if args.distribute == 'single':\r\n",
    "    if tf.test.is_gpu_available():\r\n",
    "        strategy = tf.distribute.OneDeviceStrategy(device=\"/gpu:0\")\r\n",
    "    else:\r\n",
    "        strategy = tf.distribute.OneDeviceStrategy(device=\"/cpu:0\")\r\n",
    "# Single Machine, multiple compute device\r\n",
    "elif args.distribute == 'mirror':\r\n",
    "    strategy = tf.distribute.MirroredStrategy()\r\n",
    "# Multiple Machine, multiple compute device\r\n",
    "elif args.distribute == 'multi':\r\n",
    "    strategy = tf.distribute.experimental.MultiWorkerMirroredStrategy()\r\n",
    "\r\n",
    "# Multi-worker configuration\r\n",
    "print('num_replicas_in_sync = {}'.format(strategy.num_replicas_in_sync))\r\n",
    "\r\n",
    "# Preparing dataset\r\n",
    "BUFFER_SIZE = 10000\r\n",
    "BATCH_SIZE = 64\r\n",
    "\r\n",
    "def make_datasets_unbatched():\r\n",
    "    # Scaling CIFAR10 data from (0, 255] to (0., 1.]\r\n",
    "    def scale(image, label):\r\n",
    "        image = tf.cast(image, tf.float32)\r\n",
    "        image /= 255.0\r\n",
    "        return image, label\r\n",
    "    \r\n",
    "    datasets, info = tfds.load(name='cifar10',\r\n",
    "                            with_info=True,\r\n",
    "                            as_supervised=True)\r\n",
    "    return datasets['train'].map(scale).cache().shuffle(BUFFER_SIZE).repeat()\r\n",
    "\r\n",
    "\r\n",
    "# Build the Keras model\r\n",
    "def build_and_compile_cnn_model():\r\n",
    "    model = tf.keras.Sequential([\r\n",
    "      tf.keras.layers.Conv2D(32, 3, activation='relu', input_shape=(32, 32, 3)),\r\n",
    "      tf.keras.layers.MaxPooling2D(),\r\n",
    "      tf.keras.layers.Conv2D(32, 3, activation='relu'),\r\n",
    "      tf.keras.layers.MaxPooling2D(),\r\n",
    "      tf.keras.layers.Flatten(),\r\n",
    "      tf.keras.layers.Dense(10, activation='softmax')\r\n",
    "    ])\r\n",
    "    model.compile(\r\n",
    "      loss=tf.keras.losses.sparse_categorical_crossentropy,\r\n",
    "      optimizer=tf.keras.optimizers.SGD(learning_rate=args.lr),\r\n",
    "      metrics=['accuracy'])\r\n",
    "    return model\r\n",
    "\r\n",
    "# Train the model\r\n",
    "NUM_WORKERS = strategy.num_replicas_in_sync\r\n",
    "# Here the batch size scales up by number of workers since\r\n",
    "# `tf.data.Dataset.batch` expects the global batch size.\r\n",
    "GLOBAL_BATCH_SIZE = BATCH_SIZE * NUM_WORKERS\r\n",
    "MODEL_DIR = os.getenv(\"AIP_MODEL_DIR\")\r\n",
    "\r\n",
    "train_dataset = make_datasets_unbatched().batch(GLOBAL_BATCH_SIZE)\r\n",
    "\r\n",
    "with strategy.scope():\r\n",
    "    # Creation of dataset, and model building/compiling need to be within\r\n",
    "    # `strategy.scope()`.\r\n",
    "    model = build_and_compile_cnn_model()\r\n",
    "\r\n",
    "model.fit(x=train_dataset, epochs=args.epochs, steps_per_epoch=args.steps)\r\n",
    "model.save(MODEL_DIR)"
   ],
   "outputs": [
    {
     "output_type": "stream",
     "name": "stdout",
     "text": [
      "Overwriting task.py\n"
     ]
    }
   ],
   "metadata": {
    "id": "72rUqXNFlugx"
   }
  },
  {
   "cell_type": "markdown",
   "source": [
    "### Arguments d'entraînement\n",
    "\n",
    "Le code que l'on a écrit prend les arguments suivant en entrée :\n",
    "\n",
    "- `args`: \n",
    "  - `\"--epochs=\" + EPOCHS`: Nombre d'epochs.\n",
    "  - `\"--steps=\" + STEPS`: Nombre de lot par epoch.\n",
    "  - `\"--distribute=\" + TRAIN_STRATEGY\"` : Stratégie de distributions des calculs pour l'entraînement.\n",
    "     - `\"single\"`: une seule machine.\n",
    "     - `\"mirror\"`: tous les GPU sur une seule instance de calcul.\n",
    "     - `\"multi\"`: tous les GPU sur toutes les instances de calcul.\n",
    "     \n",
    "On précisera dans la cellule suivante les paramètres à utiliser."
   ],
   "metadata": {
    "id": "train_custom_job_args"
   }
  },
  {
   "cell_type": "code",
   "execution_count": 15,
   "source": [
    "JOB_NAME = \"custom_job_unique\"\r\n",
    "MODEL_DIR = \"{}/{}\".format(BUCKET_URI, JOB_NAME)\r\n",
    "\r\n",
    "\r\n",
    "TRAIN_STRATEGY = \"single\"\r\n",
    "\r\n",
    "EPOCHS = 60\r\n",
    "STEPS = 100\r\n",
    "\r\n",
    "CMDARGS = [\r\n",
    "    \"--epochs=\" + str(EPOCHS),\r\n",
    "    \"--steps=\" + str(STEPS),\r\n",
    "    \"--distribute=\" + TRAIN_STRATEGY,\r\n",
    "]"
   ],
   "outputs": [],
   "metadata": {
    "id": "1npiDcUtlugw"
   }
  },
  {
   "cell_type": "markdown",
   "source": [
    "### Entraîner le modèle\n",
    "\n",
    "Nous allons maintenant définir un job d'entraînement.\n",
    "\n",
    "On utilise la classe `CustomTrainingJob` qui prend les paramètres suivant :\n",
    "\n",
    "- `display_name`: Le nom du job à définir.\n",
    "- `script_path`: Le chemin vers le script `task.py` à utiliser.\n",
    "- `container_uri`: The URI of the training container image.\n",
    "- `requirements`: The list of Python package dependencies of the script.\n",
    "- `model_serving_container_image_uri`: L'adresse de l'image du conteneur à utiliser, pré-construit ou personnalisé.\n",
    "\n",
    "On peut ensuite lancer le job avec la fonction `run`, il faut préciser les paramètres suivant :\n",
    "\n",
    "- `args`: Les arguments du script python que l'on a renseigné.\n",
    "- `replica_count`: Le nombre de worker.\n",
    "- `model_display_name`: Le nom à afficher du `Model` que le script va produire.\n",
    "- `machine_type`: Le type de machine. ex: \"n1-standard-8\"\n",
    "- `accelerator_type`: Le type d'accelerateur (GPU, TPU). ex: \"NVIDIA_TESLA_T4\"\n",
    "- `accelerator_count`: Le nombre d'accélérateur à attacher par worker. ex: 1"
   ],
   "metadata": {
    "id": "train_custom_job"
   }
  },
  {
   "cell_type": "code",
   "execution_count": 16,
   "source": [
    "job = aiplatform.CustomTrainingJob(\r\n",
    "    display_name=JOB_NAME,\r\n",
    "    script_path=\"task.py\",\r\n",
    "    container_uri=TRAIN_IMAGE,\r\n",
    "    requirements=[\"tensorflow_datasets==1.3.0\"],\r\n",
    "    model_serving_container_image_uri=DEPLOY_IMAGE,\r\n",
    ")\r\n",
    "\r\n",
    "MODEL_DISPLAY_NAME = \"model_unique\"\r\n",
    "\r\n",
    "# Start the training\r\n",
    "\r\n",
    "model = job.run(\r\n",
    "    model_display_name=MODEL_DISPLAY_NAME,\r\n",
    "    args=CMDARGS,\r\n",
    "    replica_count=1,\r\n",
    ")"
   ],
   "outputs": [
    {
     "output_type": "stream",
     "name": "stdout",
     "text": [
      "Training script copied to:\n",
      "gs://cours3bucket/aiplatform-2025-02-26-17:26:44.280-aiplatform_custom_trainer_script-0.1.tar.gz.\n",
      "Training Output directory:\n",
      "gs://cours3bucket/aiplatform-custom-training-2025-02-26-17:26:44.560 \n",
      "View Training:\n",
      "https://console.cloud.google.com/ai/platform/locations/us-central1/training/103626737534894080?project=837843744498\n",
      "View backing custom job:\n",
      "https://console.cloud.google.com/ai/platform/locations/us-central1/training/2393869875773702144?project=837843744498\n",
      "CustomTrainingJob projects/837843744498/locations/us-central1/trainingPipelines/103626737534894080 current state:\n",
      "3\n",
      "CustomTrainingJob projects/837843744498/locations/us-central1/trainingPipelines/103626737534894080 current state:\n",
      "3\n",
      "CustomTrainingJob projects/837843744498/locations/us-central1/trainingPipelines/103626737534894080 current state:\n",
      "3\n",
      "CustomTrainingJob projects/837843744498/locations/us-central1/trainingPipelines/103626737534894080 current state:\n",
      "3\n",
      "CustomTrainingJob projects/837843744498/locations/us-central1/trainingPipelines/103626737534894080 current state:\n",
      "3\n",
      "CustomTrainingJob projects/837843744498/locations/us-central1/trainingPipelines/103626737534894080 current state:\n",
      "3\n",
      "CustomTrainingJob projects/837843744498/locations/us-central1/trainingPipelines/103626737534894080 current state:\n",
      "3\n",
      "CustomTrainingJob run completed. Resource name: projects/837843744498/locations/us-central1/trainingPipelines/103626737534894080\n",
      "Model available at projects/837843744498/locations/us-central1/models/3904388879976759296\n"
     ]
    }
   ],
   "metadata": {
    "id": "mxIxvDdglugx"
   }
  },
  {
   "cell_type": "markdown",
   "source": [
    "Veuillez vérifier que le job est bien terminé en ouvrant la console GCP sur votre navigateur. "
   ],
   "metadata": {}
  },
  {
   "cell_type": "markdown",
   "source": [
    "Donnez l'ID du Bucket où sont enregistré les artéfact du model "
   ],
   "metadata": {}
  },
  {
   "cell_type": "code",
   "execution_count": null,
   "source": [
    "#Réponse"
   ],
   "outputs": [],
   "metadata": {}
  },
  {
   "cell_type": "code",
   "execution_count": null,
   "source": [],
   "outputs": [],
   "metadata": {}
  },
  {
   "cell_type": "code",
   "execution_count": null,
   "source": [],
   "outputs": [],
   "metadata": {}
  },
  {
   "cell_type": "markdown",
   "source": [
    "# PART 2 : Inférence par lot\n",
    "\n",
    "Nous allond maintenant utiliser le modèle pour faire de la prédiction par lot (batch)."
   ],
   "metadata": {
    "id": "make_prediction"
   }
  },
  {
   "cell_type": "markdown",
   "source": [
    "### Données de test\n",
    "\n",
    "#### téléchargement des données\n",
    "\n",
    "Télécharger et préparer les images du CIFAR dataset."
   ],
   "metadata": {
    "id": "get_test_item:test"
   }
  },
  {
   "cell_type": "code",
   "execution_count": 17,
   "source": [
    "# Download the images\r\n",
    "! gsutil -m cp -r gs://cloud-samples-data/ai-platform-unified/cifar_test_images ."
   ],
   "outputs": [
    {
     "output_type": "stream",
     "name": "stderr",
     "text": [
      "Copying gs://cloud-samples-data/ai-platform-unified/cifar_test_images/image_0_3.jpg...\n",
      "Copying gs://cloud-samples-data/ai-platform-unified/cifar_test_images/image_2_8.jpg...\n",
      "/ [0/10 files][    0.0 B/  8.7 KiB]   0% Done                                   \n",
      "/ [0/10 files][    0.0 B/  8.7 KiB]   0% Done                                   \n",
      "Copying gs://cloud-samples-data/ai-platform-unified/cifar_test_images/image_0_6.jpg...\n",
      "/ [0/10 files][    0.0 B/  8.7 KiB]   0% Done                                   \n",
      "Copying gs://cloud-samples-data/ai-platform-unified/cifar_test_images/image_5_4.jpg...\n",
      "/ [0/10 files][    0.0 B/  8.7 KiB]   0% Done                                   \n",
      "Copying gs://cloud-samples-data/ai-platform-unified/cifar_test_images/image_2_9.jpg...\n",
      "Copying gs://cloud-samples-data/ai-platform-unified/cifar_test_images/image_2_1.jpg...\n",
      "/ [0/10 files][    0.0 B/  8.7 KiB]   0% Done                                   \n",
      "Copying gs://cloud-samples-data/ai-platform-unified/cifar_test_images/image_2_5.jpg...\n",
      "/ [0/10 files][    0.0 B/  8.7 KiB]   0% Done                                   \n",
      "Copying gs://cloud-samples-data/ai-platform-unified/cifar_test_images/image_4_10.jpg...\n",
      "/ [0/10 files][    0.0 B/  8.7 KiB]   0% Done                                   \n",
      "/ [0/10 files][    0.0 B/  8.7 KiB]   0% Done                                   \n",
      "Copying gs://cloud-samples-data/ai-platform-unified/cifar_test_images/image_3_7.jpg...\n",
      "Copying gs://cloud-samples-data/ai-platform-unified/cifar_test_images/image_7_2.jpg...\n",
      "/ [0/10 files][    0.0 B/  8.7 KiB]   0% Done                                   \n",
      "/ [0/10 files][    0.0 B/  8.7 KiB]   0% Done                                   \n",
      "/ [0/10 files][  951.0 B/  8.7 KiB]  10% Done                                   \n",
      "-\n",
      "- [1/10 files][  951.0 B/  8.7 KiB]  10% Done                                   \n",
      "- [2/10 files][  1.8 KiB/  8.7 KiB]  20% Done                                   \n",
      "- [3/10 files][  2.7 KiB/  8.7 KiB]  30% Done                                   \n",
      "- [4/10 files][  3.6 KiB/  8.7 KiB]  40% Done                                   \n",
      "- [5/10 files][  4.4 KiB/  8.7 KiB]  50% Done                                   \n",
      "- [6/10 files][  5.3 KiB/  8.7 KiB]  60% Done                                   \n",
      "- [7/10 files][  6.2 KiB/  8.7 KiB]  70% Done                                   \n",
      "- [8/10 files][  7.0 KiB/  8.7 KiB]  80% Done                                   \n",
      "- [9/10 files][  7.8 KiB/  8.7 KiB]  89% Done                                   \n",
      "- [10/10 files][  8.7 KiB/  8.7 KiB] 100% Done                                  \n",
      "\n",
      "Operation completed over 10 objects/8.7 KiB.                                     \n"
     ]
    }
   ],
   "metadata": {
    "id": "E1EQBPGnlugz"
   }
  },
  {
   "cell_type": "code",
   "execution_count": 7,
   "source": [
    "# Load image data\r\n",
    "IMAGE_DIRECTORY = \"cifar_test_images\"\r\n",
    "\r\n",
    "image_files = [file for file in os.listdir(IMAGE_DIRECTORY) if file.endswith(\".jpg\")]\r\n",
    "\r\n",
    "# Decode JPEG images into numpy arrays\r\n",
    "image_data = [\r\n",
    "    np.asarray(Image.open(os.path.join(IMAGE_DIRECTORY, file))) for file in image_files\r\n",
    "]\r\n",
    "\r\n",
    "# Scale and convert to expected format\r\n",
    "x_test = [(image / 255.0).astype(np.float32).tolist() for image in image_data]\r\n",
    "\r\n",
    "# Extract labels from image name\r\n",
    "y_test = [int(file.split(\"_\")[1]) for file in image_files]"
   ],
   "outputs": [],
   "metadata": {
    "id": "cl59KGnXlugz"
   }
  },
  {
   "cell_type": "markdown",
   "source": [
    "#### Préparer les données à la prediction par lot\n",
    "Il existe plusieurs formats possibles pour l'enregistrement des données d'entrée d'un job de batch prediction.\n",
    "\n",
    "On utilise ici le format JSONL.\n",
    "\n",
    "Pour plus d'information : https://cloud.google.com/vertex-ai/docs/predictions/batch-predictions#batch_request_input"
   ],
   "metadata": {
    "id": "b1e29665076f"
   }
  },
  {
   "cell_type": "code",
   "execution_count": 19,
   "source": [
    "import json\r\n",
    "\r\n",
    "BATCH_PREDICTION_INSTANCES_FILE = \"batch_prediction_instances.jsonl\"\r\n",
    "\r\n",
    "BATCH_PREDICTION_GCS_SOURCE = (\r\n",
    "    BUCKET_URI + \"/batch_prediction_instances/\" + BATCH_PREDICTION_INSTANCES_FILE\r\n",
    ")\r\n",
    "\r\n",
    "# Write instances at JSONL\r\n",
    "with open(BATCH_PREDICTION_INSTANCES_FILE, \"w\") as f:\r\n",
    "    for x in x_test:\r\n",
    "        f.write(json.dumps(x) + \"\\n\")\r\n",
    "\r\n",
    "# Upload to Cloud Storage bucket*\r\n",
    "! gsutil cp $BATCH_PREDICTION_INSTANCES_FILE $BATCH_PREDICTION_GCS_SOURCE\r\n",
    "\r\n",
    "print(\"Uploaded instances to: \", BATCH_PREDICTION_GCS_SOURCE)\r\n"
   ],
   "outputs": [
    {
     "output_type": "stream",
     "name": "stdout",
     "text": [
      "Uploaded instances to:  gs://cours3bucket/batch_prediction_instances/batch_prediction_instances.jsonl\n"
     ]
    },
    {
     "output_type": "stream",
     "name": "stderr",
     "text": [
      "Copying file://batch_prediction_instances.jsonl [Content-Type=application/octet-stream]...\n",
      "/ [0 files][    0.0 B/617.6 KiB]                                                \n",
      "/ [1 files][617.6 KiB/617.6 KiB]                                                \n",
      "-\n",
      "\n",
      "Operation completed over 1 objects/617.6 KiB.                                    \n"
     ]
    }
   ],
   "metadata": {
    "id": "3e6b04d29c3b"
   }
  },
  {
   "cell_type": "markdown",
   "source": [
    "### Envoi de la requète de prédiction\n",
    "\n",
    "Pour faire une requète de prédiction par lot, on appelle la méthode batch_predict du modèle avec les paramètres suivants :\n",
    "\n",
    "- `instances_format` : Le format du fichier de demande de prédiction par lot : \"jsonl\", \"csv\", \"bigquery\", \"tf-record\", \"tf-record-gzip\" ou \"file-list\"\n",
    "- `prediction_format` : Le format du fichier de réponse de prédiction par lot : \"jsonl\", \"csv\", \"bigquery\", \"tf-record\", \"tf-record-gzip\" ou \"file-list\"\n",
    "- `job_display_name` : Le nom de la tâche de prédiction.\n",
    "- `gcs_source` : Une liste d'un ou plusieurs chemins Cloud Storage vers les données sources. \n",
    "- `gcs_destination_prefix` : Le chemin Cloud Storage où le service écrira les prédictions.\n",
    "- `model_parameters` : Paramètres de filtrage supplémentaires pour la diffusion des résultats de prédiction.\n",
    "- `machine_type` : Le type de machine à utiliser pour l'entraînement.\n",
    "- `accelerator_type` : Le type d'accélérateur matériel.\n",
    "- `accelerator_count` : Le nombre d'accélérateurs à attacher à une réplique de travail.\n",
    "- `starting_replica_count` : Le nombre d'instances de calcul à provisionner initialement.\n",
    "- `max_replica_count` : Le nombre maximum d'instances de calcul auxquelles effectuer la mise à l'échelle. Dans ce tutoriel, une seule instance est provisionnée.\n",
    "\n",
    "### Mise à l'échelle des instances de calcul\n",
    "On utilise pour l'instant une seule instance (ou nœud) pour traiter les requêtes de prédiction par lot : les variables `MIN_NODES` et `MAX_NODES` sont toutes deux fixées à `1`.\n",
    "\n",
    "Pour utiliser plusieurs nœuds dans la prédiction par lot, on peut définir `MAX_NODES` sur le nombre maximum de nœuds que l'on souhaite utiliser. Vertex AI met automatiquement à l'échelle le nombre de nœuds utilisés pour servir les prédictions, jusqu'au nombre maximum défini."
   ],
   "metadata": {
    "id": "send_prediction_request:image"
   }
  },
  {
   "cell_type": "code",
   "execution_count": 20,
   "source": [
    "MIN_NODES = 1\r\n",
    "MAX_NODES = 1\r\n",
    "\r\n",
    "# The name of the job\r\n",
    "BATCH_PREDICTION_JOB_NAME = \"cifar10_batch_prediction_unique\"\r\n",
    "\r\n",
    "# Folder in the bucket to write results to\r\n",
    "DESTINATION_FOLDER = \"batch_prediction_results\"\r\n",
    "\r\n",
    "# The Cloud Storage bucket to upload results to\r\n",
    "BATCH_PREDICTION_GCS_DEST_PREFIX = BUCKET_URI + \"/\" + DESTINATION_FOLDER\r\n",
    "\r\n",
    "# Make SDK batch_predict method call\r\n",
    "batch_prediction_job = model.batch_predict(\r\n",
    "    instances_format=\"jsonl\",\r\n",
    "    predictions_format=\"jsonl\",\r\n",
    "    job_display_name=BATCH_PREDICTION_JOB_NAME,\r\n",
    "    gcs_source=BATCH_PREDICTION_GCS_SOURCE,\r\n",
    "    gcs_destination_prefix=BATCH_PREDICTION_GCS_DEST_PREFIX,\r\n",
    "    model_parameters=None,\r\n",
    "    starting_replica_count=MIN_NODES,\r\n",
    "    max_replica_count=MAX_NODES,\r\n",
    "    machine_type=\"n1-standard-4\",\r\n",
    "    sync=True,\r\n",
    "    \r\n",
    ")"
   ],
   "outputs": [
    {
     "output_type": "stream",
     "name": "stdout",
     "text": [
      "Creating BatchPredictionJob\n",
      "BatchPredictionJob created. Resource name: projects/837843744498/locations/us-central1/batchPredictionJobs/4016128913813012480\n",
      "To use this BatchPredictionJob in another session:\n",
      "bpj = aiplatform.BatchPredictionJob('projects/837843744498/locations/us-central1/batchPredictionJobs/4016128913813012480')\n",
      "View Batch Prediction Job:\n",
      "https://console.cloud.google.com/ai/platform/locations/us-central1/batch-predictions/4016128913813012480?project=837843744498\n",
      "BatchPredictionJob projects/837843744498/locations/us-central1/batchPredictionJobs/4016128913813012480 current state:\n",
      "3\n",
      "BatchPredictionJob projects/837843744498/locations/us-central1/batchPredictionJobs/4016128913813012480 current state:\n",
      "3\n",
      "BatchPredictionJob projects/837843744498/locations/us-central1/batchPredictionJobs/4016128913813012480 current state:\n",
      "3\n",
      "BatchPredictionJob projects/837843744498/locations/us-central1/batchPredictionJobs/4016128913813012480 current state:\n",
      "3\n",
      "BatchPredictionJob projects/837843744498/locations/us-central1/batchPredictionJobs/4016128913813012480 current state:\n",
      "3\n",
      "BatchPredictionJob projects/837843744498/locations/us-central1/batchPredictionJobs/4016128913813012480 current state:\n",
      "3\n",
      "BatchPredictionJob projects/837843744498/locations/us-central1/batchPredictionJobs/4016128913813012480 current state:\n",
      "3\n",
      "BatchPredictionJob projects/837843744498/locations/us-central1/batchPredictionJobs/4016128913813012480 current state:\n",
      "4\n",
      "BatchPredictionJob run completed. Resource name: projects/837843744498/locations/us-central1/batchPredictionJobs/4016128913813012480\n"
     ]
    }
   ],
   "metadata": {
    "id": "1cf1076178fc"
   }
  },
  {
   "cell_type": "markdown",
   "source": [
    "### Récupérer les résultats\n",
    "\n",
    "A la fin du job de prédiction, les résultats sont accessibles dans le répertoire de sortie que l'on a précisé dans un jsonl appelé prediction.results-xxxx-of-xxxx.\n",
    "\n",
    "Pour chaque image, on obtient un vecteur de probabilité pour chacune des 10 classes du dataset."
   ],
   "metadata": {
    "id": "df3b3d1bdd24"
   }
  },
  {
   "cell_type": "code",
   "execution_count": 21,
   "source": [
    "RESULTS_DIRECTORY = \"prediction_results\"\r\n",
    "RESULTS_DIRECTORY_FULL = RESULTS_DIRECTORY + \"/\" + DESTINATION_FOLDER\r\n",
    "\r\n",
    "# Create missing directories\r\n",
    "os.makedirs(RESULTS_DIRECTORY, exist_ok=True)\r\n"
   ],
   "outputs": [],
   "metadata": {}
  },
  {
   "cell_type": "code",
   "execution_count": 22,
   "source": [
    "BATCH_PREDICTION_GCS_DEST_PREFIX"
   ],
   "outputs": [
    {
     "output_type": "execute_result",
     "data": {
      "text/plain": [
       "'gs://cours3bucket/batch_prediction_results'"
      ]
     },
     "metadata": {},
     "execution_count": 22
    }
   ],
   "metadata": {}
  },
  {
   "cell_type": "code",
   "execution_count": 23,
   "source": [
    "# Get the Cloud Storage paths for each result\r\n",
    "! gsutil -m cp -r $BATCH_PREDICTION_GCS_DEST_PREFIX $RESULTS_DIRECTORY"
   ],
   "outputs": [
    {
     "output_type": "stream",
     "name": "stderr",
     "text": [
      "Copying gs://cours3bucket/batch_prediction_results/prediction-model_unique-2025_02_26T02_01_12_596Z/prediction.errors_stats-00000-of-00001...\n",
      "Copying gs://cours3bucket/batch_prediction_results/prediction-model_unique-2025_02_21T07_18_35_602Z/prediction.errors_stats-00000-of-00001...\n",
      "/ [0/6 files][    0.0 B/  1.8 MiB]   0% Done                                    \n",
      "Copying gs://cours3bucket/batch_prediction_results/prediction-model_unique-2025_02_26T08_42_01_168Z/prediction.errors_stats-00000-of-00001...\n",
      "Copying gs://cours3bucket/batch_prediction_results/prediction-model_unique-2025_02_26T08_42_01_168Z/prediction.results-00000-of-00001...\n",
      "/ [0/6 files][    0.0 B/  1.8 MiB]   0% Done                                    \n",
      "/ [0/6 files][    0.0 B/  1.8 MiB]   0% Done                                    \n",
      "Copying gs://cours3bucket/batch_prediction_results/prediction-model_unique-2025_02_21T07_18_35_602Z/prediction.results-00000-of-00001...\n",
      "/ [0/6 files][    0.0 B/  1.8 MiB]   0% Done                                    \n",
      "Copying gs://cours3bucket/batch_prediction_results/prediction-model_unique-2025_02_26T02_01_12_596Z/prediction.results-00000-of-00001...\n",
      "/ [0/6 files][    0.0 B/  1.8 MiB]   0% Done                                    \n",
      "/ [0/6 files][    0.0 B/  1.8 MiB]   0% Done                                    \n",
      "/ [1/6 files][    0.0 B/  1.8 MiB]   0% Done                                    \n",
      "/ [2/6 files][    0.0 B/  1.8 MiB]   0% Done                                    \n",
      "/ [3/6 files][    0.0 B/  1.8 MiB]   0% Done                                    \n",
      "/ [3/6 files][320.0 KiB/  1.8 MiB]  17% Done                                    \n",
      "-\n",
      "- [4/6 files][  1.2 MiB/  1.8 MiB]  67% Done                                    \n",
      "- [5/6 files][  1.8 MiB/  1.8 MiB]  99% Done                                    \n",
      "- [6/6 files][  1.8 MiB/  1.8 MiB] 100% Done                                    \n",
      "\n",
      "Operation completed over 6 objects/1.8 MiB.                                      \n"
     ]
    }
   ],
   "metadata": {}
  },
  {
   "cell_type": "code",
   "execution_count": 24,
   "source": [
    "\r\n",
    "# Get most recently modified directory\r\n",
    "latest_directory = max(\r\n",
    "    (\r\n",
    "        os.path.join(RESULTS_DIRECTORY_FULL, d)\r\n",
    "        for d in os.listdir(RESULTS_DIRECTORY_FULL)\r\n",
    "    ),\r\n",
    "    key=os.path.getmtime,\r\n",
    ")\r\n",
    "\r\n",
    "# Get downloaded results in directory\r\n",
    "results_files = []\r\n",
    "for dirpath, subdirs, files in os.walk(latest_directory):\r\n",
    "    for file in files:\r\n",
    "        if file.startswith(\"prediction.results\"):\r\n",
    "            results_files.append(os.path.join(dirpath, file))\r\n",
    "\r\n",
    "# Consolidate all the results into a list\r\n",
    "results = []\r\n",
    "for results_file in results_files:\r\n",
    "    # Download each result\r\n",
    "    with open(results_file, \"r\") as file:\r\n",
    "        results.extend([json.loads(line) for line in file.readlines()])"
   ],
   "outputs": [],
   "metadata": {
    "id": "2f10b13b2b88"
   }
  },
  {
   "cell_type": "markdown",
   "source": [
    "### Evaluer les résulats\n",
    "\n",
    "Pour l'évaluation :\n",
    "1. `np.argmax`: sélectionne le label prédit (avec la plus grande probabilité)\n",
    "2. On compare ensuite la prédiction au label d'origine\n",
    "3. On calcule l'`accuracy` $=$ `correct/total`\n",
    "\n",
    "On pourra essayer d'autres paramètres d'entrainement pour augmenter les performances du modèle."
   ],
   "metadata": {
    "id": "962b5a11fdae"
   }
  },
  {
   "cell_type": "code",
   "execution_count": 25,
   "source": [
    "y_predicted = [np.argmax(result[\"prediction\"]) for result in results]\r\n",
    "\r\n",
    "correct = sum(y_predicted == np.array(y_test))\r\n",
    "total_predictions = len(y_predicted)\r\n",
    "print(\r\n",
    "    f\"Correct predictions = {correct}, Total predictions = {total_predictions}, Accuracy = {correct/total_predictions}\"\r\n",
    ")"
   ],
   "outputs": [
    {
     "output_type": "stream",
     "name": "stdout",
     "text": [
      "Correct predictions = 4, Total predictions = 10, Accuracy = 0.4\n"
     ]
    }
   ],
   "metadata": {
    "id": "UywuX7fRlugz"
   }
  },
  {
   "cell_type": "markdown",
   "source": [
    "# Partie 4 : Prédiction en ligne"
   ],
   "metadata": {}
  },
  {
   "cell_type": "markdown",
   "source": [
    "### Déployer le modèle sur un endpoint\n",
    "\n",
    "Avant de pouvoir obtenir des prédictions, le modèle doit être déployé sur un `Endpoint`. L'endpoint est un serveur qui tourne sur les ressources qu'on définit au préalable. Il gère les requêtes qu'il reçoit au format HTTP et distribue les calculs pour une réponse avec un minimum de latence.\n",
    "\n",
    "On utilisera la fonction `deploy` qui prend en entrée :\n",
    "\n",
    "- `deployed_model_display_name`: Un nom pour le modèle deployé\n",
    "- `traffic_split`: Le pourcentage du trafic de l'endpoint qui va être transmis aux différents modèles de l'edpoint.\n",
    "   - On précisera la répartition du trafic sous forme de dictionnaire python où les clés sont les id des modèles et les valeurs sont les pourcentages de trafic qui doivent sommer à 100. On utilise \"0\" pour la clé du modèle que l'on déploie. Ex : *{ \"0\": percent, model_id: percent, ... }**\n",
    "- `machine_type`: Le type de machine pour l'entraînement.\n",
    "- `accelerator_type`: Le type d'accelerateur (GPU, TPU).\n",
    "- `accelerator_count`: Le nombre d'accelerateur par worker.\n",
    "- `starting_replica_count`: Le nombre initial d'instance de calcul.\n",
    "- `min_replica_count`: Le nombre minimum d'instances de calcul que Vertex AI doit attribuer à l'endpoint.\n",
    "- `max_replica_count`: Le nombre maximum d'instances de calcul que Vertex AI puisse attribuer à l'endpoint pour l'_autoscaling_.\n",
    "\n",
    "### Traffic split\n",
    "\n",
    "Le `traffic_split` est généralement utilisé pour introduire graduellement un nouveau modèle en production. C'est ce qu'on appelle l'A/B testing, et cela permet de comparer les performances d'un nouveau modèle en production tout en minimizant le risque d'un changement brutal pour la plupart des utilisateurs."
   ],
   "metadata": {}
  },
  {
   "cell_type": "code",
   "execution_count": 13,
   "source": [
    "DEPLOYED_NAME = \"cifar10_deployed_unique\"\r\n",
    "\r\n",
    "TRAFFIC_SPLIT = {\"0\": 100}\r\n",
    "\r\n",
    "MIN_NODES = 1\r\n",
    "MAX_NODES = 1\r\n",
    "\r\n",
    "#model = aiplatform.Model('3904388879976759296')\r\n",
    "\r\n",
    "endpoint = model.deploy(\r\n",
    "    deployed_model_display_name=DEPLOYED_NAME,\r\n",
    "    machine_type='n1-highcpu-4',\r\n",
    "    traffic_split=TRAFFIC_SPLIT,\r\n",
    "    min_replica_count=MIN_NODES,\r\n",
    "    max_replica_count=4,\r\n",
    ")"
   ],
   "outputs": [
    {
     "output_type": "stream",
     "name": "stdout",
     "text": [
      "Creating Endpoint\n",
      "Create Endpoint backing LRO: projects/837843744498/locations/us-central1/endpoints/3863531027888603136/operations/8263665614652964864\n",
      "Endpoint created. Resource name: projects/837843744498/locations/us-central1/endpoints/3863531027888603136\n",
      "To use this Endpoint in another session:\n",
      "endpoint = aiplatform.Endpoint('projects/837843744498/locations/us-central1/endpoints/3863531027888603136')\n",
      "Deploying model to Endpoint : projects/837843744498/locations/us-central1/endpoints/3863531027888603136\n",
      "Deploy Endpoint model backing LRO: projects/837843744498/locations/us-central1/endpoints/3863531027888603136/operations/5904623834840956928\n",
      "Endpoint model deployed. Resource name: projects/837843744498/locations/us-central1/endpoints/3863531027888603136\n"
     ]
    }
   ],
   "metadata": {}
  },
  {
   "cell_type": "markdown",
   "source": [
    "#### Préparer les images\n",
    "\n",
    "Les images qui seront envoyés à l'endpoint doivent être _préprocessées_ afin qu'elles soient au même format que le format d'entrée du script d'entraînement `task.py`."
   ],
   "metadata": {}
  },
  {
   "cell_type": "markdown",
   "source": [
    "Préparer un batch d'image a envoyer a l'endpoint afin d'obtenir les meme résultats que lors de l'inférence précédente"
   ],
   "metadata": {}
  },
  {
   "cell_type": "code",
   "execution_count": null,
   "source": [
    "#Etudiant script "
   ],
   "outputs": [],
   "metadata": {}
  },
  {
   "cell_type": "code",
   "execution_count": null,
   "source": [],
   "outputs": [],
   "metadata": {}
  },
  {
   "cell_type": "code",
   "execution_count": 27,
   "source": [
    "import os\r\n",
    "import numpy as np\r\n",
    "from PIL import Image\r\n",
    "\r\n",
    "# Load image data\r\n",
    "IMAGE_DIRECTORY = \"cifar_test_images\"\r\n",
    "\r\n",
    "image_files = ... # list of paths\r\n",
    "\r\n",
    "# Decode JPEG images into numpy arrays\r\n",
    "image_data = ...\r\n",
    "\r\n",
    "# Scale and convert to expected format\r\n",
    "x_test = ...\r\n",
    "\r\n",
    "# Extract labels from image name\r\n",
    "y_test = ..."
   ],
   "outputs": [],
   "metadata": {}
  },
  {
   "cell_type": "code",
   "execution_count": 36,
   "source": [
    "len(x_test)"
   ],
   "outputs": [
    {
     "output_type": "execute_result",
     "data": {
      "text/plain": [
       "10"
      ]
     },
     "metadata": {},
     "execution_count": 36
    }
   ],
   "metadata": {}
  },
  {
   "cell_type": "markdown",
   "source": [
    "### Envoyer les requêtes de prédiction\n",
    "\n",
    "On utilise la méthode `predict` de l'objet `Endpoint`. La fonction retourne une liste où chaque élément correspond à une image de la requête. \n",
    "\n",
    "Dans la cellule suivante, on lance une évaluation des résultats de prédiction comme pour la prédiction par bacth, on ne devrait pas observer de changement de performance."
   ],
   "metadata": {}
  },
  {
   "cell_type": "code",
   "execution_count": 35,
   "source": [
    "# A priori, l'endpoint est déja chargé à ce stade. Sinon :\r\n",
    "# endpoint = aiplatform.Endpoint(ENDPOINT_ID)\r\n",
    "\r\n",
    "predictions = endpoint.predict(instances=x_test)\r\n",
    "y_predicted = np.argmax(predictions.predictions, axis=1)\r\n",
    "\r\n",
    "correct = sum(y_predicted == np.array(y_test))\r\n",
    "total_predictions = len(y_predicted)\r\n",
    "print(\r\n",
    "    f\"Correct predictions = {correct}, Total predictions = {total_predictions}, Accuracy = {correct/total_predictions}\"\r\n",
    ")"
   ],
   "outputs": [
    {
     "output_type": "stream",
     "name": "stdout",
     "text": [
      "Correct predictions = 2, Total predictions = 10, Accuracy = 0.2\n"
     ]
    }
   ],
   "metadata": {}
  },
  {
   "cell_type": "markdown",
   "source": [
    "# Part 5 : Montée en charge de l'endpoint "
   ],
   "metadata": {}
  },
  {
   "cell_type": "markdown",
   "source": [
    "Dans cette partie nous allons tester la capacité de notre endpoint a pouvoir monter en charge. Dans un cas d'usage où nous constuisons une application ayant comme vocation a recevoir beacuoup de connexion, \n",
    "nous devons nous assurer que les modèles ont cette capacité a traiter ce traffic. \n",
    "\n",
    "Ainsi, nous allons utiliser la librairie Locust, elle permet de réaliser des test de charge sur des API. "
   ],
   "metadata": {}
  },
  {
   "cell_type": "markdown",
   "source": [
    "Le code api.py contient déjà tous les élément permettant de construire une API qui héberge notre endpoint. "
   ],
   "metadata": {}
  },
  {
   "cell_type": "markdown",
   "source": [
    "- Il vous faut dans un premier temps remplacer les variables PROJECT_ID, LOCATION, BUCKET_URI, ID_ENDPOINT par les variables que vous avez utilisé précédemment"
   ],
   "metadata": {}
  },
  {
   "cell_type": "markdown",
   "source": [
    "- Pour déployé l'API en local, veuillez lancer la commande suivante $python -m unicorn api:app --reload --port 8080 (veuillez vérifier en amont que vous possédez bien les librairie FastAPi et uvicorn)"
   ],
   "metadata": {}
  },
  {
   "cell_type": "markdown",
   "source": [
    "- Ensuite, ouvrez le script locust.py vérifiez bien que la fonction load_data() fonctionne dans votre cas. et adapter le script pour que l'appel ne comportant qu'une seule image. \n"
   ],
   "metadata": {}
  },
  {
   "cell_type": "markdown",
   "source": [
    "- Lancer l'application locust avec la commande $locust -f locustfile.py (!! librairie nécessaire locust, PyYAML, flask !!) "
   ],
   "metadata": {}
  },
  {
   "cell_type": "markdown",
   "source": [
    "Réalisez plusieurs test de votre endpoint \n",
    "\n",
    "Ex: "
   ],
   "metadata": {}
  },
  {
   "cell_type": "markdown",
   "source": [
    "![image.png](attachment:image.png)"
   ],
   "metadata": {},
   "attachments": {
    "image.png": {
     "image/png": "[encoded data removed]"
    }
   }
  },
  {
   "cell_type": "markdown",
   "source": [
    "Q2 : Quels sont les limites de l'endpoint ? Avez vous pu observer la scalabilité automatique de vertexAI ? (Argumentez avec des graphs)"
   ],
   "metadata": {}
  },
  {
   "cell_type": "markdown",
   "source": [],
   "metadata": {}
  },
  {
   "cell_type": "markdown",
   "source": [
    "Q3 : Est ce que les limitations observé sont uniquement du au endpoint vertexAI ?"
   ],
   "metadata": {}
  },
  {
   "cell_type": "markdown",
   "source": [],
   "metadata": {}
  },
  {
   "cell_type": "markdown",
   "source": [
    "Q4 : Mise en situation, j'ai développé une application mobile pour une grande marque de vétements, qui permet de prendre une photo d'un habits et de retrouver un article similaire dans leur shop. Le modèle utilisé est similaire a celui de notre exemple. Nous avons déployé ce modèle sur un endpoint VertexAI. L'application a été téléchargé plus de 50 000 fois, on estime qu'un utilisateur fais une recherche par jour. Pouvez vous dire si cette méthode de déploiement est viable pour notre application ? (Ouvert)"
   ],
   "metadata": {}
  },
  {
   "cell_type": "markdown",
   "source": [],
   "metadata": {}
  },
  {
   "cell_type": "markdown",
   "source": [],
   "metadata": {}
  },
  {
   "cell_type": "markdown",
   "source": [
    "# Nettoyage du projet"
   ],
   "metadata": {
    "id": "cleanup:custom"
   }
  },
  {
   "cell_type": "code",
   "execution_count": 69,
   "source": [
    "# Delete the training job\n",
    "job.delete()\n",
    "\n",
    "# Delete the model\n",
    "model.delete()"
   ],
   "outputs": [
    {
     "output_type": "stream",
     "name": "stdout",
     "text": [
      "Deleting CustomTrainingJob : projects/837843744498/locations/us-central1/trainingPipelines/5233020004923867136\n"
     ]
    },
    {
     "output_type": "error",
     "ename": "NotFound",
     "evalue": "404 Job \"projects/837843744498/locations/us-central1/trainingPipelines/5233020004923867136\" does not exist.",
     "traceback": [
      "\u001b[1;31m---------------------------------------------------------------------------\u001b[0m",
      "\u001b[1;31m_InactiveRpcError\u001b[0m                         Traceback (most recent call last)",
      "File \u001b[1;32m~\\AppData\\Roaming\\Python\\Python39\\site-packages\\google\\api_core\\grpc_helpers.py:76\u001b[0m, in \u001b[0;36m_wrap_unary_errors.<locals>.error_remapped_callable\u001b[1;34m(*args, **kwargs)\u001b[0m\n\u001b[0;32m     75\u001b[0m \u001b[38;5;28;01mtry\u001b[39;00m:\n\u001b[1;32m---> 76\u001b[0m     \u001b[38;5;28;01mreturn\u001b[39;00m callable_(\u001b[38;5;241m*\u001b[39margs, \u001b[38;5;241m*\u001b[39m\u001b[38;5;241m*\u001b[39mkwargs)\n\u001b[0;32m     77\u001b[0m \u001b[38;5;28;01mexcept\u001b[39;00m grpc\u001b[38;5;241m.\u001b[39mRpcError \u001b[38;5;28;01mas\u001b[39;00m exc:\n",
      "File \u001b[1;32m~\\AppData\\Roaming\\Python\\Python39\\site-packages\\grpc\\_interceptor.py:277\u001b[0m, in \u001b[0;36m_UnaryUnaryMultiCallable.__call__\u001b[1;34m(self, request, timeout, metadata, credentials, wait_for_ready, compression)\u001b[0m\n\u001b[0;32m    268\u001b[0m \u001b[38;5;28;01mdef\u001b[39;00m\u001b[38;5;250m \u001b[39m\u001b[38;5;21m__call__\u001b[39m(\n\u001b[0;32m    269\u001b[0m     \u001b[38;5;28mself\u001b[39m,\n\u001b[0;32m    270\u001b[0m     request: Any,\n\u001b[1;32m   (...)\u001b[0m\n\u001b[0;32m    275\u001b[0m     compression: Optional[grpc\u001b[38;5;241m.\u001b[39mCompression] \u001b[38;5;241m=\u001b[39m \u001b[38;5;28;01mNone\u001b[39;00m,\n\u001b[0;32m    276\u001b[0m ) \u001b[38;5;241m-\u001b[39m\u001b[38;5;241m>\u001b[39m Any:\n\u001b[1;32m--> 277\u001b[0m     response, ignored_call \u001b[38;5;241m=\u001b[39m \u001b[38;5;28;43mself\u001b[39;49m\u001b[38;5;241;43m.\u001b[39;49m\u001b[43m_with_call\u001b[49m\u001b[43m(\u001b[49m\n\u001b[0;32m    278\u001b[0m \u001b[43m        \u001b[49m\u001b[43mrequest\u001b[49m\u001b[43m,\u001b[49m\n\u001b[0;32m    279\u001b[0m \u001b[43m        \u001b[49m\u001b[43mtimeout\u001b[49m\u001b[38;5;241;43m=\u001b[39;49m\u001b[43mtimeout\u001b[49m\u001b[43m,\u001b[49m\n\u001b[0;32m    280\u001b[0m \u001b[43m        \u001b[49m\u001b[43mmetadata\u001b[49m\u001b[38;5;241;43m=\u001b[39;49m\u001b[43mmetadata\u001b[49m\u001b[43m,\u001b[49m\n\u001b[0;32m    281\u001b[0m \u001b[43m        \u001b[49m\u001b[43mcredentials\u001b[49m\u001b[38;5;241;43m=\u001b[39;49m\u001b[43mcredentials\u001b[49m\u001b[43m,\u001b[49m\n\u001b[0;32m    282\u001b[0m \u001b[43m        \u001b[49m\u001b[43mwait_for_ready\u001b[49m\u001b[38;5;241;43m=\u001b[39;49m\u001b[43mwait_for_ready\u001b[49m\u001b[43m,\u001b[49m\n\u001b[0;32m    283\u001b[0m \u001b[43m        \u001b[49m\u001b[43mcompression\u001b[49m\u001b[38;5;241;43m=\u001b[39;49m\u001b[43mcompression\u001b[49m\u001b[43m,\u001b[49m\n\u001b[0;32m    284\u001b[0m \u001b[43m    \u001b[49m\u001b[43m)\u001b[49m\n\u001b[0;32m    285\u001b[0m     \u001b[38;5;28;01mreturn\u001b[39;00m response\n",
      "File \u001b[1;32m~\\AppData\\Roaming\\Python\\Python39\\site-packages\\grpc\\_interceptor.py:332\u001b[0m, in \u001b[0;36m_UnaryUnaryMultiCallable._with_call\u001b[1;34m(self, request, timeout, metadata, credentials, wait_for_ready, compression)\u001b[0m\n\u001b[0;32m    329\u001b[0m call \u001b[38;5;241m=\u001b[39m \u001b[38;5;28mself\u001b[39m\u001b[38;5;241m.\u001b[39m_interceptor\u001b[38;5;241m.\u001b[39mintercept_unary_unary(\n\u001b[0;32m    330\u001b[0m     continuation, client_call_details, request\n\u001b[0;32m    331\u001b[0m )\n\u001b[1;32m--> 332\u001b[0m \u001b[38;5;28;01mreturn\u001b[39;00m \u001b[43mcall\u001b[49m\u001b[38;5;241;43m.\u001b[39;49m\u001b[43mresult\u001b[49m\u001b[43m(\u001b[49m\u001b[43m)\u001b[49m, call\n",
      "File \u001b[1;32m~\\AppData\\Roaming\\Python\\Python39\\site-packages\\grpc\\_channel.py:440\u001b[0m, in \u001b[0;36m_InactiveRpcError.result\u001b[1;34m(self, timeout)\u001b[0m\n\u001b[0;32m    439\u001b[0m \u001b[38;5;250m\u001b[39m\u001b[38;5;124;03m\"\"\"See grpc.Future.result.\"\"\"\u001b[39;00m\n\u001b[1;32m--> 440\u001b[0m \u001b[38;5;28;01mraise\u001b[39;00m \u001b[38;5;28mself\u001b[39m\n",
      "File \u001b[1;32m~\\AppData\\Roaming\\Python\\Python39\\site-packages\\grpc\\_interceptor.py:315\u001b[0m, in \u001b[0;36m_UnaryUnaryMultiCallable._with_call.<locals>.continuation\u001b[1;34m(new_details, request)\u001b[0m\n\u001b[0;32m    314\u001b[0m \u001b[38;5;28;01mtry\u001b[39;00m:\n\u001b[1;32m--> 315\u001b[0m     response, call \u001b[38;5;241m=\u001b[39m \u001b[38;5;28;43mself\u001b[39;49m\u001b[38;5;241;43m.\u001b[39;49m\u001b[43m_thunk\u001b[49m\u001b[43m(\u001b[49m\u001b[43mnew_method\u001b[49m\u001b[43m)\u001b[49m\u001b[38;5;241;43m.\u001b[39;49m\u001b[43mwith_call\u001b[49m\u001b[43m(\u001b[49m\n\u001b[0;32m    316\u001b[0m \u001b[43m        \u001b[49m\u001b[43mrequest\u001b[49m\u001b[43m,\u001b[49m\n\u001b[0;32m    317\u001b[0m \u001b[43m        \u001b[49m\u001b[43mtimeout\u001b[49m\u001b[38;5;241;43m=\u001b[39;49m\u001b[43mnew_timeout\u001b[49m\u001b[43m,\u001b[49m\n\u001b[0;32m    318\u001b[0m \u001b[43m        \u001b[49m\u001b[43mmetadata\u001b[49m\u001b[38;5;241;43m=\u001b[39;49m\u001b[43mnew_metadata\u001b[49m\u001b[43m,\u001b[49m\n\u001b[0;32m    319\u001b[0m \u001b[43m        \u001b[49m\u001b[43mcredentials\u001b[49m\u001b[38;5;241;43m=\u001b[39;49m\u001b[43mnew_credentials\u001b[49m\u001b[43m,\u001b[49m\n\u001b[0;32m    320\u001b[0m \u001b[43m        \u001b[49m\u001b[43mwait_for_ready\u001b[49m\u001b[38;5;241;43m=\u001b[39;49m\u001b[43mnew_wait_for_ready\u001b[49m\u001b[43m,\u001b[49m\n\u001b[0;32m    321\u001b[0m \u001b[43m        \u001b[49m\u001b[43mcompression\u001b[49m\u001b[38;5;241;43m=\u001b[39;49m\u001b[43mnew_compression\u001b[49m\u001b[43m,\u001b[49m\n\u001b[0;32m    322\u001b[0m \u001b[43m    \u001b[49m\u001b[43m)\u001b[49m\n\u001b[0;32m    323\u001b[0m     \u001b[38;5;28;01mreturn\u001b[39;00m _UnaryOutcome(response, call)\n",
      "File \u001b[1;32m~\\AppData\\Roaming\\Python\\Python39\\site-packages\\grpc\\_channel.py:1198\u001b[0m, in \u001b[0;36m_UnaryUnaryMultiCallable.with_call\u001b[1;34m(self, request, timeout, metadata, credentials, wait_for_ready, compression)\u001b[0m\n\u001b[0;32m   1192\u001b[0m (\n\u001b[0;32m   1193\u001b[0m     state,\n\u001b[0;32m   1194\u001b[0m     call,\n\u001b[0;32m   1195\u001b[0m ) \u001b[38;5;241m=\u001b[39m \u001b[38;5;28mself\u001b[39m\u001b[38;5;241m.\u001b[39m_blocking(\n\u001b[0;32m   1196\u001b[0m     request, timeout, metadata, credentials, wait_for_ready, compression\n\u001b[0;32m   1197\u001b[0m )\n\u001b[1;32m-> 1198\u001b[0m \u001b[38;5;28;01mreturn\u001b[39;00m \u001b[43m_end_unary_response_blocking\u001b[49m\u001b[43m(\u001b[49m\u001b[43mstate\u001b[49m\u001b[43m,\u001b[49m\u001b[43m \u001b[49m\u001b[43mcall\u001b[49m\u001b[43m,\u001b[49m\u001b[43m \u001b[49m\u001b[38;5;28;43;01mTrue\u001b[39;49;00m\u001b[43m,\u001b[49m\u001b[43m \u001b[49m\u001b[38;5;28;43;01mNone\u001b[39;49;00m\u001b[43m)\u001b[49m\n",
      "File \u001b[1;32m~\\AppData\\Roaming\\Python\\Python39\\site-packages\\grpc\\_channel.py:1006\u001b[0m, in \u001b[0;36m_end_unary_response_blocking\u001b[1;34m(state, call, with_call, deadline)\u001b[0m\n\u001b[0;32m   1005\u001b[0m \u001b[38;5;28;01melse\u001b[39;00m:\n\u001b[1;32m-> 1006\u001b[0m     \u001b[38;5;28;01mraise\u001b[39;00m _InactiveRpcError(state)\n",
      "\u001b[1;31m_InactiveRpcError\u001b[0m: <_InactiveRpcError of RPC that terminated with:\n\tstatus = StatusCode.NOT_FOUND\n\tdetails = \"Job \"projects/837843744498/locations/us-central1/trainingPipelines/5233020004923867136\" does not exist.\"\n\tdebug_error_string = \"UNKNOWN:Error received from peer ipv4:216.58.214.170:443 {created_time:\"2025-02-26T15:16:51.6624679+00:00\", grpc_status:5, grpc_message:\"Job \\\"projects/837843744498/locations/us-central1/trainingPipelines/5233020004923867136\\\" does not exist.\"}\"\n>",
      "\nThe above exception was the direct cause of the following exception:\n",
      "\u001b[1;31mNotFound\u001b[0m                                  Traceback (most recent call last)",
      "Cell \u001b[1;32mIn[69], line 2\u001b[0m\n\u001b[0;32m      1\u001b[0m \u001b[38;5;66;03m# Delete the training job\u001b[39;00m\n\u001b[1;32m----> 2\u001b[0m \u001b[43mjob\u001b[49m\u001b[38;5;241;43m.\u001b[39;49m\u001b[43mdelete\u001b[49m\u001b[43m(\u001b[49m\u001b[43m)\u001b[49m\n\u001b[0;32m      4\u001b[0m \u001b[38;5;66;03m# Delete the model\u001b[39;00m\n\u001b[0;32m      5\u001b[0m model\u001b[38;5;241m.\u001b[39mdelete()\n",
      "File \u001b[1;32m~\\AppData\\Roaming\\Python\\Python39\\site-packages\\google\\cloud\\aiplatform\\base.py:863\u001b[0m, in \u001b[0;36moptional_sync.<locals>.optional_run_in_thread.<locals>.wrapper\u001b[1;34m(*args, **kwargs)\u001b[0m\n\u001b[0;32m    861\u001b[0m     \u001b[38;5;28;01mif\u001b[39;00m \u001b[38;5;28mself\u001b[39m:\n\u001b[0;32m    862\u001b[0m         VertexAiResourceNounWithFutureManager\u001b[38;5;241m.\u001b[39mwait(\u001b[38;5;28mself\u001b[39m)\n\u001b[1;32m--> 863\u001b[0m     \u001b[38;5;28;01mreturn\u001b[39;00m method(\u001b[38;5;241m*\u001b[39margs, \u001b[38;5;241m*\u001b[39m\u001b[38;5;241m*\u001b[39mkwargs)\n\u001b[0;32m    865\u001b[0m \u001b[38;5;66;03m# callbacks to call within the Future (in same Thread)\u001b[39;00m\n\u001b[0;32m    866\u001b[0m internal_callbacks \u001b[38;5;241m=\u001b[39m []\n",
      "File \u001b[1;32m~\\AppData\\Roaming\\Python\\Python39\\site-packages\\google\\cloud\\aiplatform\\base.py:1371\u001b[0m, in \u001b[0;36mVertexAiResourceNounWithFutureManager.delete\u001b[1;34m(self, sync)\u001b[0m\n\u001b[0;32m   1360\u001b[0m \u001b[38;5;129m@optional_sync\u001b[39m()\n\u001b[0;32m   1361\u001b[0m \u001b[38;5;28;01mdef\u001b[39;00m\u001b[38;5;250m \u001b[39m\u001b[38;5;21mdelete\u001b[39m(\u001b[38;5;28mself\u001b[39m, sync: \u001b[38;5;28mbool\u001b[39m \u001b[38;5;241m=\u001b[39m \u001b[38;5;28;01mTrue\u001b[39;00m) \u001b[38;5;241m-\u001b[39m\u001b[38;5;241m>\u001b[39m \u001b[38;5;28;01mNone\u001b[39;00m:\n\u001b[0;32m   1362\u001b[0m \u001b[38;5;250m    \u001b[39m\u001b[38;5;124;03m\"\"\"Deletes this Vertex AI resource. WARNING: This deletion is\u001b[39;00m\n\u001b[0;32m   1363\u001b[0m \u001b[38;5;124;03m    permanent.\u001b[39;00m\n\u001b[0;32m   1364\u001b[0m \n\u001b[1;32m   (...)\u001b[0m\n\u001b[0;32m   1369\u001b[0m \u001b[38;5;124;03m            be immediately returned and synced when the Future has completed.\u001b[39;00m\n\u001b[0;32m   1370\u001b[0m \u001b[38;5;124;03m    \"\"\"\u001b[39;00m\n\u001b[1;32m-> 1371\u001b[0m     \u001b[38;5;28;43mself\u001b[39;49m\u001b[38;5;241;43m.\u001b[39;49m\u001b[43m_delete\u001b[49m\u001b[43m(\u001b[49m\u001b[43m)\u001b[49m\n",
      "File \u001b[1;32m~\\AppData\\Roaming\\Python\\Python39\\site-packages\\google\\cloud\\aiplatform\\base.py:1202\u001b[0m, in \u001b[0;36m_VertexAiResourceNounPlus._delete\u001b[1;34m(self)\u001b[0m\n\u001b[0;32m   1200\u001b[0m \u001b[38;5;250m\u001b[39m\u001b[38;5;124;03m\"\"\"Deletes this Vertex AI resource. WARNING: This deletion is permanent.\"\"\"\u001b[39;00m\n\u001b[0;32m   1201\u001b[0m _LOGGER\u001b[38;5;241m.\u001b[39mlog_action_start_against_resource(\u001b[38;5;124m\"\u001b[39m\u001b[38;5;124mDeleting\u001b[39m\u001b[38;5;124m\"\u001b[39m, \u001b[38;5;124m\"\u001b[39m\u001b[38;5;124m\"\u001b[39m, \u001b[38;5;28mself\u001b[39m)\n\u001b[1;32m-> 1202\u001b[0m possible_lro \u001b[38;5;241m=\u001b[39m \u001b[38;5;28;43mgetattr\u001b[39;49m\u001b[43m(\u001b[49m\u001b[38;5;28;43mself\u001b[39;49m\u001b[38;5;241;43m.\u001b[39;49m\u001b[43mapi_client\u001b[49m\u001b[43m,\u001b[49m\u001b[43m \u001b[49m\u001b[38;5;28;43mself\u001b[39;49m\u001b[38;5;241;43m.\u001b[39;49m\u001b[43m_delete_method\u001b[49m\u001b[43m)\u001b[49m\u001b[43m(\u001b[49m\n\u001b[0;32m   1203\u001b[0m \u001b[43m    \u001b[49m\u001b[43mname\u001b[49m\u001b[38;5;241;43m=\u001b[39;49m\u001b[38;5;28;43mself\u001b[39;49m\u001b[38;5;241;43m.\u001b[39;49m\u001b[43mresource_name\u001b[49m\n\u001b[0;32m   1204\u001b[0m \u001b[43m\u001b[49m\u001b[43m)\u001b[49m\n\u001b[0;32m   1206\u001b[0m \u001b[38;5;28;01mif\u001b[39;00m possible_lro:\n\u001b[0;32m   1207\u001b[0m     _LOGGER\u001b[38;5;241m.\u001b[39mlog_action_completed_against_resource(\u001b[38;5;124m\"\u001b[39m\u001b[38;5;124mdeleted.\u001b[39m\u001b[38;5;124m\"\u001b[39m, \u001b[38;5;124m\"\u001b[39m\u001b[38;5;124m\"\u001b[39m, \u001b[38;5;28mself\u001b[39m)\n",
      "File \u001b[1;32m~\\AppData\\Roaming\\Python\\Python39\\site-packages\\google\\cloud\\aiplatform_v1\\services\\pipeline_service\\client.py:1429\u001b[0m, in \u001b[0;36mdelete_training_pipeline\u001b[1;34m(self, request, name, retry, timeout, metadata)\u001b[0m\n\u001b[0;32m   1407\u001b[0m \u001b[38;5;28;01mdef\u001b[39;00m\u001b[38;5;250m \u001b[39m\u001b[38;5;21mcancel_training_pipeline\u001b[39m(\n\u001b[0;32m   1408\u001b[0m     \u001b[38;5;28mself\u001b[39m,\n\u001b[0;32m   1409\u001b[0m     request: Optional[\n\u001b[1;32m   (...)\u001b[0m\n\u001b[0;32m   1416\u001b[0m     metadata: Sequence[Tuple[\u001b[38;5;28mstr\u001b[39m, \u001b[38;5;28mstr\u001b[39m]] \u001b[38;5;241m=\u001b[39m (),\n\u001b[0;32m   1417\u001b[0m ) \u001b[38;5;241m-\u001b[39m\u001b[38;5;241m>\u001b[39m \u001b[38;5;28;01mNone\u001b[39;00m:\n\u001b[0;32m   1418\u001b[0m \u001b[38;5;250m    \u001b[39m\u001b[38;5;124mr\u001b[39m\u001b[38;5;124;03m\"\"\"Cancels a TrainingPipeline. Starts asynchronous cancellation on\u001b[39;00m\n\u001b[0;32m   1419\u001b[0m \u001b[38;5;124;03m    the TrainingPipeline. The server makes a best effort to cancel\u001b[39;00m\n\u001b[0;32m   1420\u001b[0m \u001b[38;5;124;03m    the pipeline, but success is not guaranteed. Clients can use\u001b[39;00m\n\u001b[0;32m   1421\u001b[0m \u001b[38;5;124;03m    [PipelineService.GetTrainingPipeline][google.cloud.aiplatform.v1.PipelineService.GetTrainingPipeline]\u001b[39;00m\n\u001b[0;32m   1422\u001b[0m \u001b[38;5;124;03m    or other methods to check whether the cancellation succeeded or\u001b[39;00m\n\u001b[0;32m   1423\u001b[0m \u001b[38;5;124;03m    whether the pipeline completed despite cancellation. On\u001b[39;00m\n\u001b[0;32m   1424\u001b[0m \u001b[38;5;124;03m    successful cancellation, the TrainingPipeline is not deleted;\u001b[39;00m\n\u001b[0;32m   1425\u001b[0m \u001b[38;5;124;03m    instead it becomes a pipeline with a\u001b[39;00m\n\u001b[0;32m   1426\u001b[0m \u001b[38;5;124;03m    [TrainingPipeline.error][google.cloud.aiplatform.v1.TrainingPipeline.error]\u001b[39;00m\n\u001b[0;32m   1427\u001b[0m \u001b[38;5;124;03m    value with a [google.rpc.Status.code][google.rpc.Status.code] of\u001b[39;00m\n\u001b[0;32m   1428\u001b[0m \u001b[38;5;124;03m    1, corresponding to ``Code.CANCELLED``, and\u001b[39;00m\n\u001b[1;32m-> 1429\u001b[0m \u001b[38;5;124;03m    [TrainingPipeline.state][google.cloud.aiplatform.v1.TrainingPipeline.state]\u001b[39;00m\n\u001b[0;32m   1430\u001b[0m \u001b[38;5;124;03m    is set to ``CANCELLED``.\u001b[39;00m\n\u001b[0;32m   1431\u001b[0m \n\u001b[0;32m   1432\u001b[0m \u001b[38;5;124;03m    .. code-block:: python\u001b[39;00m\n\u001b[0;32m   1433\u001b[0m \n\u001b[0;32m   1434\u001b[0m \u001b[38;5;124;03m        # This snippet has been automatically generated and should be regarded as a\u001b[39;00m\n\u001b[0;32m   1435\u001b[0m \u001b[38;5;124;03m        # code template only.\u001b[39;00m\n\u001b[0;32m   1436\u001b[0m \u001b[38;5;124;03m        # It will require modifications to work:\u001b[39;00m\n\u001b[0;32m   1437\u001b[0m \u001b[38;5;124;03m        # - It may require correct/in-range values for request initialization.\u001b[39;00m\n\u001b[0;32m   1438\u001b[0m \u001b[38;5;124;03m        # - It may require specifying regional endpoints when creating the service\u001b[39;00m\n\u001b[0;32m   1439\u001b[0m \u001b[38;5;124;03m        #   client as shown in:\u001b[39;00m\n\u001b[0;32m   1440\u001b[0m \u001b[38;5;124;03m        #   https://googleapis.dev/python/google-api-core/latest/client_options.html\u001b[39;00m\n\u001b[0;32m   1441\u001b[0m \u001b[38;5;124;03m        from google.cloud import aiplatform_v1\u001b[39;00m\n\u001b[0;32m   1442\u001b[0m \n\u001b[0;32m   1443\u001b[0m \u001b[38;5;124;03m        def sample_cancel_training_pipeline():\u001b[39;00m\n\u001b[0;32m   1444\u001b[0m \u001b[38;5;124;03m            # Create a client\u001b[39;00m\n\u001b[0;32m   1445\u001b[0m \u001b[38;5;124;03m            client = aiplatform_v1.PipelineServiceClient()\u001b[39;00m\n\u001b[0;32m   1446\u001b[0m \n\u001b[0;32m   1447\u001b[0m \u001b[38;5;124;03m            # Initialize request argument(s)\u001b[39;00m\n\u001b[0;32m   1448\u001b[0m \u001b[38;5;124;03m            request = aiplatform_v1.CancelTrainingPipelineRequest(\u001b[39;00m\n\u001b[0;32m   1449\u001b[0m \u001b[38;5;124;03m                name=\"name_value\",\u001b[39;00m\n\u001b[0;32m   1450\u001b[0m \u001b[38;5;124;03m            )\u001b[39;00m\n\u001b[0;32m   1451\u001b[0m \n\u001b[0;32m   1452\u001b[0m \u001b[38;5;124;03m            # Make the request\u001b[39;00m\n\u001b[0;32m   1453\u001b[0m \u001b[38;5;124;03m            client.cancel_training_pipeline(request=request)\u001b[39;00m\n\u001b[0;32m   1454\u001b[0m \n\u001b[0;32m   1455\u001b[0m \u001b[38;5;124;03m    Args:\u001b[39;00m\n\u001b[0;32m   1456\u001b[0m \u001b[38;5;124;03m        request (Union[google.cloud.aiplatform_v1.types.CancelTrainingPipelineRequest, dict]):\u001b[39;00m\n\u001b[0;32m   1457\u001b[0m \u001b[38;5;124;03m            The request object. Request message for\u001b[39;00m\n\u001b[0;32m   1458\u001b[0m \u001b[38;5;124;03m            [PipelineService.CancelTrainingPipeline][google.cloud.aiplatform.v1.PipelineService.CancelTrainingPipeline].\u001b[39;00m\n\u001b[0;32m   1459\u001b[0m \u001b[38;5;124;03m        name (str):\u001b[39;00m\n\u001b[0;32m   1460\u001b[0m \u001b[38;5;124;03m            Required. The name of the TrainingPipeline to cancel.\u001b[39;00m\n\u001b[0;32m   1461\u001b[0m \u001b[38;5;124;03m            Format:\u001b[39;00m\n\u001b[0;32m   1462\u001b[0m \u001b[38;5;124;03m            ``projects/{project}/locations/{location}/trainingPipelines/{training_pipeline}``\u001b[39;00m\n\u001b[0;32m   1463\u001b[0m \n\u001b[0;32m   1464\u001b[0m \u001b[38;5;124;03m            This corresponds to the ``name`` field\u001b[39;00m\n\u001b[0;32m   1465\u001b[0m \u001b[38;5;124;03m            on the ``request`` instance; if ``request`` is provided, this\u001b[39;00m\n\u001b[0;32m   1466\u001b[0m \u001b[38;5;124;03m            should not be set.\u001b[39;00m\n\u001b[0;32m   1467\u001b[0m \u001b[38;5;124;03m        retry (google.api_core.retry.Retry): Designation of what errors, if any,\u001b[39;00m\n\u001b[0;32m   1468\u001b[0m \u001b[38;5;124;03m            should be retried.\u001b[39;00m\n\u001b[0;32m   1469\u001b[0m \u001b[38;5;124;03m        timeout (float): The timeout for this request.\u001b[39;00m\n\u001b[0;32m   1470\u001b[0m \u001b[38;5;124;03m        metadata (Sequence[Tuple[str, str]]): Strings which should be\u001b[39;00m\n\u001b[0;32m   1471\u001b[0m \u001b[38;5;124;03m            sent along with the request as metadata.\u001b[39;00m\n\u001b[0;32m   1472\u001b[0m \u001b[38;5;124;03m    \"\"\"\u001b[39;00m\n\u001b[0;32m   1473\u001b[0m     \u001b[38;5;66;03m# Create or coerce a protobuf request object.\u001b[39;00m\n\u001b[0;32m   1474\u001b[0m     \u001b[38;5;66;03m# - Quick check: If we got a request object, we should *not* have\u001b[39;00m\n\u001b[0;32m   1475\u001b[0m     \u001b[38;5;66;03m#   gotten any keyword arguments that map to the request.\u001b[39;00m\n\u001b[0;32m   1476\u001b[0m     has_flattened_params \u001b[38;5;241m=\u001b[39m \u001b[38;5;28many\u001b[39m([name])\n",
      "File \u001b[1;32m~\\AppData\\Roaming\\Python\\Python39\\site-packages\\google\\api_core\\gapic_v1\\method.py:131\u001b[0m, in \u001b[0;36m_GapicCallable.__call__\u001b[1;34m(self, timeout, retry, compression, *args, **kwargs)\u001b[0m\n\u001b[0;32m    128\u001b[0m \u001b[38;5;28;01mif\u001b[39;00m \u001b[38;5;28mself\u001b[39m\u001b[38;5;241m.\u001b[39m_compression \u001b[38;5;129;01mis\u001b[39;00m \u001b[38;5;129;01mnot\u001b[39;00m \u001b[38;5;28;01mNone\u001b[39;00m:\n\u001b[0;32m    129\u001b[0m     kwargs[\u001b[38;5;124m\"\u001b[39m\u001b[38;5;124mcompression\u001b[39m\u001b[38;5;124m\"\u001b[39m] \u001b[38;5;241m=\u001b[39m compression\n\u001b[1;32m--> 131\u001b[0m \u001b[38;5;28;01mreturn\u001b[39;00m wrapped_func(\u001b[38;5;241m*\u001b[39margs, \u001b[38;5;241m*\u001b[39m\u001b[38;5;241m*\u001b[39mkwargs)\n",
      "File \u001b[1;32m~\\AppData\\Roaming\\Python\\Python39\\site-packages\\google\\api_core\\grpc_helpers.py:78\u001b[0m, in \u001b[0;36m_wrap_unary_errors.<locals>.error_remapped_callable\u001b[1;34m(*args, **kwargs)\u001b[0m\n\u001b[0;32m     76\u001b[0m     \u001b[38;5;28;01mreturn\u001b[39;00m callable_(\u001b[38;5;241m*\u001b[39margs, \u001b[38;5;241m*\u001b[39m\u001b[38;5;241m*\u001b[39mkwargs)\n\u001b[0;32m     77\u001b[0m \u001b[38;5;28;01mexcept\u001b[39;00m grpc\u001b[38;5;241m.\u001b[39mRpcError \u001b[38;5;28;01mas\u001b[39;00m exc:\n\u001b[1;32m---> 78\u001b[0m     \u001b[38;5;28;01mraise\u001b[39;00m exceptions\u001b[38;5;241m.\u001b[39mfrom_grpc_error(exc) \u001b[38;5;28;01mfrom\u001b[39;00m\u001b[38;5;250m \u001b[39m\u001b[38;5;21;01mexc\u001b[39;00m\n",
      "\u001b[1;31mNotFound\u001b[0m: 404 Job \"projects/837843744498/locations/us-central1/trainingPipelines/5233020004923867136\" does not exist."
     ]
    }
   ],
   "metadata": {
    "id": "NNmebHf7lug0"
   }
  },
  {
   "cell_type": "code",
   "execution_count": null,
   "source": [],
   "outputs": [],
   "metadata": {}
  }
 ],
 "metadata": {
  "colab": {
   "name": "sdk-custom-image-classification-batch.ipynb",
   "toc_visible": true
  },
  "kernelspec": {
   "display_name": "gcptestenv",
   "language": "python",
   "name": "gcptestenv"
  },
  "language_info": {
   "codemirror_mode": {
    "name": "ipython",
    "version": 3
   },
   "file_extension": ".py",
   "mimetype": "text/x-python",
   "name": "python",
   "nbconvert_exporter": "python",
   "pygments_lexer": "ipython3",
   "version": "3.11.11"
  }
 },
 "nbformat": 4,
 "nbformat_minor": 1
}